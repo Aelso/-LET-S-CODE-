{
  "nbformat": 4,
  "nbformat_minor": 0,
  "metadata": {
    "colab": {
      "name": "[LET'S_CODE]Curso_Digital_Python_Basics_03_Aplicações.ipynb",
      "provenance": [],
      "collapsed_sections": []
    },
    "kernelspec": {
      "name": "python3",
      "display_name": "Python 3"
    },
    "language_info": {
      "name": "python"
    }
  },
  "cells": [
    {
      "cell_type": "markdown",
      "metadata": {
        "id": "SMHa5wiT1u6I"
      },
      "source": [
        "---\n",
        "\n",
        "# Sobre!\n",
        "Essas são as anotações das aulas para auxiliar os estudos .O notebook contém além da parte teórica, exercícios práticos e comentários dos exercícios para seu entendimento. Compartilhar o conhecimento faz parte do DNA e do dia a dia da nossa comunidade.\n",
        "\n",
        "###Créditos :\n",
        "\n",
        "Tera\n",
        "Acabei de conhecer, mas já virei fã.\n",
        "\n",
        "###disclaimer: I didn't get my money, nothing for that\n",
        "\n",
        "não recebi meu dinheiro nada por isso : )\n",
        "\n",
        "\n",
        "---"
      ]
    },
    {
      "cell_type": "markdown",
      "metadata": {
        "id": "L5p7-C0w2Q69"
      },
      "source": [
        "### Conceitos básicos"
      ]
    },
    {
      "cell_type": "markdown",
      "metadata": {
        "id": "-1uZBnp72TfI"
      },
      "source": [
        "Um documento do Colab é chamado Notebook (ou caderno), e notebooks são compostos por células. Células podem conter texto ou código e são executadas individualmente. Este é um exemplo de célula de texto, e abaixo temos um exemplo de célula de código. Para executar uma célula você pode clicar no campo e apertar o símbolo \"Play\", ou usar o atalho Ctrl + Enter."
      ]
    },
    {
      "cell_type": "markdown",
      "metadata": {
        "id": "oBYoHMANwtuo"
      },
      "source": [
        "## Executando comandos Linux"
      ]
    },
    {
      "cell_type": "markdown",
      "metadata": {
        "id": "NgEAhkZTwxEG"
      },
      "source": [
        "O interpretador do Jupyter também permite a execução de comandos do terminal do Linux nas células de código. Você pode usar estes comandos para instalar pacotes no sistema, fazer Downloads, mover arquivos, etc.\n",
        "\n",
        "Para executar um comando no Terminal, basta começar a linha da célula com uma exclamação (!). Veja um exemplo para o comando pwd abaixo, que mostra o diretório corrente."
      ]
    },
    {
      "cell_type": "code",
      "metadata": {
        "colab": {
          "base_uri": "https://localhost:8080/"
        },
        "id": "qOJw2md6ws_j",
        "outputId": "b00f8e8e-a5b0-4e29-c170-8654f47abf4a"
      },
      "source": [
        "!pwd"
      ],
      "execution_count": 1,
      "outputs": [
        {
          "output_type": "stream",
          "name": "stdout",
          "text": [
            "/content\n"
          ]
        }
      ]
    },
    {
      "cell_type": "markdown",
      "metadata": {
        "id": "D6DEsb_hxeAP"
      },
      "source": [
        "Para instalar um pacote Python, você pode usar o comando `pip`. No entanto você deve perceber que o ambiente do Colab já vem com vários pacotes instalados, como é o caso do numpy."
      ]
    },
    {
      "cell_type": "markdown",
      "metadata": {
        "id": "y7lNf-mSU9Ie"
      },
      "source": [
        "Se ao longo do desenvolvimento você precisar salvar arquivos de entrada ou resultados da execução do seu código, uma boa maneira de fazê-lo no Colab é usar o Google Drive. Abaixo apresentamos um exemplo de como se conectar ao Google Drive. Você pode futuramente acessar estes arquivos em um novo notebook, ou vê-los e baixá-los em [drive.google.com](drive.google.com).\n",
        "\n",
        "\n",
        "Ao executar o código abaixo, a saída do notebook terá um link e um campo de entrada. Você precisa acessar o link fornecido, fazer login no Google, e copiar a chave fornecida no campo de entrada."
      ]
    },
    {
      "cell_type": "code",
      "metadata": {
        "id": "5Xaj_Ifkcgnz",
        "colab": {
          "base_uri": "https://localhost:8080/"
        },
        "outputId": "faac291b-ef04-41d3-f4f3-6a01a25fac95"
      },
      "source": [
        "from google.colab import drive\n",
        "drive.mount(\"/content/drive\")"
      ],
      "execution_count": 2,
      "outputs": [
        {
          "output_type": "stream",
          "name": "stdout",
          "text": [
            "Mounted at /content/drive\n"
          ]
        }
      ]
    },
    {
      "cell_type": "markdown",
      "metadata": {
        "id": "-9Yn9hFkvW_p"
      },
      "source": [
        "Após montar o diretório, tudo que for salvo em `/content/drive/MyDrive` estará disponível no seu Google Drive, e ficará salvo mesmo que a sessão seja destruida."
      ]
    },
    {
      "cell_type": "markdown",
      "metadata": {
        "id": "ALOykWJypA-0"
      },
      "source": [
        "# 03.Aplicações"
      ]
    },
    {
      "cell_type": "markdown",
      "metadata": {
        "id": "jsmrVEoX21FJ"
      },
      "source": [
        "`Para a aplicação devemos ter um texto com extensão do arquivo txt. Fiquei à vontade para escolher seu texto. no meu caso copie a informações de autor de livro brasileiro  machado de assis no wikipedia.`\n",
        "`Após gerar o arquivo necessitar importar o arquivo para armazenamento da sessão para que o google colab tenha acesso às informações.`\n",
        "\n",
        "**Machado de Assis**\n",
        "\n",
        "https://pt.wikipedia.org/wiki/Machado_de_Assis"
      ]
    },
    {
      "cell_type": "markdown",
      "metadata": {
        "id": "iAB5V47-Z6-2"
      },
      "source": [
        "##Aula 01 - Manipulação de Arquivos"
      ]
    },
    {
      "cell_type": "code",
      "metadata": {
        "id": "Zl34k19M0Csi",
        "colab": {
          "base_uri": "https://localhost:8080/"
        },
        "outputId": "0adb48a0-c491-4430-f017-28aaebd52de4"
      },
      "source": [
        "arquivo = open('machado_de_assis.txt', 'r',encoding='UTF-8')\n",
        "texto = arquivo.read()\n",
        "print(texto)\n",
        "arquivo.close()"
      ],
      "execution_count": 4,
      "outputs": [
        {
          "output_type": "stream",
          "name": "stdout",
          "text": [
            "Machado de Assis\n",
            "Este é um artigo destacado. Clique aqui para mais informações. Página semiprotegidaOrigem: Wikipédia, a enciclopédia livre.\n",
            "Machado de Assis\n",
            "\n",
            "Perfil de Machado de Assis, 1904.\n",
            "Arquivo Nacional.\n",
            "Nome completo\tJoaquim Maria Machado de Assis\n",
            "Nascimento\t21 de junho de 1839\n",
            "Rio de Janeiro, MN\n",
            "Império do Brasil\n",
            "Morte\t29 de setembro de 1908 (69 anos)\n",
            "Rio de Janeiro, DF\n",
            "Estados Unidos do Brasil\n",
            "Nacionalidade\tbrasileiro\n",
            "Cônjuge\tCarolina Augusta Xavier de Novais (1869–1904)\n",
            "Ocupação\tEscritor, jornalista, contista, cronista, dramaturgo e poeta\n",
            "Movimento literário\tRomantismo/Realismo\n",
            "Magnum opus\tEntre os críticos e o público, destacam-se Memórias Póstumas de Brás Cubas e Dom Casmurro. A crítica considera que suas melhores obras são as da Trilogia Realista.[1]\n",
            "Joaquim Maria Machado de Assis (Rio de Janeiro, 21 de junho de 1839 – Rio de Janeiro, 29 de setembro de 1908) foi um escritor brasileiro, considerado por muitos críticos, estudiosos, escritores e leitores um dos maiores senão o maior nome da literatura do Brasil.[2][3][4][5][6] Escreveu em praticamente todos os gêneros literários, sendo poeta, romancista, cronista, dramaturgo, contista, folhetinista, jornalista e crítico literário.[7][8] Testemunhou a Abolição da escravatura e a mudança política no país quando a República substituiu o Império, além das mais diversas reviravoltas pelo mundo em finais do século XIX e início do XX, tendo sido grande comentador e relator dos eventos político-sociais de sua época.[9]\n",
            "\n",
            "Nascido no Morro do Livramento, Rio de Janeiro, de uma família pobre, mal estudou em escolas públicas e nunca frequentou universidade.[10] Para o considerado crítico literário norte-americano Harold Bloom, Machado de Assis é o maior escritor negro de todos os tempos,[11] embora outros estudiosos prefiram especificar que Machado era mestiço,[12] filho de um descendente de negros alforriados e de uma lavadeira portuguesa. Seus biógrafos notam que, interessado pela boemia e pela corte, lutou para subir socialmente abastecendo-se de superioridade intelectual e da cultura da capital brasileira.[13] Para isso, assumiu diversos cargos públicos, passando pelo Ministério da Agricultura, do Comércio e das Obras Públicas, e conseguindo precoce notoriedade em jornais onde publicava suas primeiras poesias e crônicas. Machado de Assis pôde assistir, durante sua vida, que abarca o final da primeira metade do século XIX até os anos iniciais do século XX, a enormes mudanças históricas na política, na economia e na sociedade brasileira e também mundial. Em sua maturidade, reunido a intelectuais e colegas próximos, fundou e foi o primeiro presidente unânime da Academia Brasileira de Letras.[14]\n",
            "\n",
            "A extensa obra machadiana constitui-se de dez romances, 205 contos,[15] dez peças teatrais, cinco coletâneas de poemas e sonetos, e mais de seiscentas crônicas.[16][17] Machado de Assis é considerado o introdutor do Realismo no Brasil, com a publicação de Memórias Póstumas de Brás Cubas (1881).[18][19] Este romance é posto ao lado de todas suas produções posteriores, Quincas Borba, Dom Casmurro, Esaú e Jacó e Memorial de Aires, ortodoxamente conhecidas como pertencentes à sua segunda fase, em que notam-se traços de crítica social, ironia e até pessimismo, embora não haja rompimento de resíduos românticos. Dessa fase, os críticos destacam que suas melhores obras são as do que se passou a chamar de \"Trilogia Realista\".[1] Sua primeira fase literária é constituída de obras como Ressurreição, A Mão e a Luva, Helena e Iaiá Garcia, onde notam-se características herdadas do Romantismo, ou \"convencionalismo\", como prefere a crítica moderna.[20]\n",
            "\n",
            "Sua obra foi de fundamental importância para as escolas literárias brasileiras do século XIX e do século XX e surge nos dias de hoje como de grande interesse acadêmico e público para entender o Brasil e o mundo.[21] Influenciou grandes nomes das letras, como Olavo Bilac, Lima Barreto, Drummond de Andrade, John Barth, Donald Barthelme e muitos outros. Ainda em vida, alcançou fama e prestígio pelo Brasil e países vizinhos.[22] Hoje em dia, por sua inovação literária e por sua audácia em temas sociais e precoces, é frequentemente visto como o escritor brasileiro de produção sem precedentes,[23][24] de modo que, recentemente, seu nome e sua obra têm alcançado diversos críticos, influenciados, estudiosos e admiradores do mundo inteiro. Machado de Assis é considerado um dos grandes gênios da história da literatura, ao lado de autores como Dante, Shakespeare e Camões.[25] Machado de Assis e Eça de Queiroz são considerados os dois maiores escritores em língua portuguesa do século XIX.[26][27][28] Foi incluído na lista oficial dos Heróis Nacionais do Brasil[29] e é homenageado pelo principal prêmio literário brasileiro, o Prêmio Machado de Assis.\n"
          ]
        }
      ]
    },
    {
      "cell_type": "code",
      "metadata": {
        "id": "Gbl-c1-41pG-",
        "colab": {
          "base_uri": "https://localhost:8080/"
        },
        "outputId": "4cf6d68d-5f0e-452d-fb9e-fa47b6c69cfe"
      },
      "source": [
        "arquivo = open('machado_de_assis.txt', 'r',encoding='UTF-8')\n",
        "linha = arquivo.readline()\n",
        "while linha != '':\n",
        "  print(linha, end ='')\n",
        "  linha = arquivo.readline()\n",
        "arquivo.close()"
      ],
      "execution_count": 6,
      "outputs": [
        {
          "output_type": "stream",
          "name": "stdout",
          "text": [
            "Machado de Assis\n",
            "Este é um artigo destacado. Clique aqui para mais informações. Página semiprotegidaOrigem: Wikipédia, a enciclopédia livre.\n",
            "Machado de Assis\n",
            "\n",
            "Perfil de Machado de Assis, 1904.\n",
            "Arquivo Nacional.\n",
            "Nome completo\tJoaquim Maria Machado de Assis\n",
            "Nascimento\t21 de junho de 1839\n",
            "Rio de Janeiro, MN\n",
            "Império do Brasil\n",
            "Morte\t29 de setembro de 1908 (69 anos)\n",
            "Rio de Janeiro, DF\n",
            "Estados Unidos do Brasil\n",
            "Nacionalidade\tbrasileiro\n",
            "Cônjuge\tCarolina Augusta Xavier de Novais (1869–1904)\n",
            "Ocupação\tEscritor, jornalista, contista, cronista, dramaturgo e poeta\n",
            "Movimento literário\tRomantismo/Realismo\n",
            "Magnum opus\tEntre os críticos e o público, destacam-se Memórias Póstumas de Brás Cubas e Dom Casmurro. A crítica considera que suas melhores obras são as da Trilogia Realista.[1]\n",
            "Joaquim Maria Machado de Assis (Rio de Janeiro, 21 de junho de 1839 – Rio de Janeiro, 29 de setembro de 1908) foi um escritor brasileiro, considerado por muitos críticos, estudiosos, escritores e leitores um dos maiores senão o maior nome da literatura do Brasil.[2][3][4][5][6] Escreveu em praticamente todos os gêneros literários, sendo poeta, romancista, cronista, dramaturgo, contista, folhetinista, jornalista e crítico literário.[7][8] Testemunhou a Abolição da escravatura e a mudança política no país quando a República substituiu o Império, além das mais diversas reviravoltas pelo mundo em finais do século XIX e início do XX, tendo sido grande comentador e relator dos eventos político-sociais de sua época.[9]\n",
            "\n",
            "Nascido no Morro do Livramento, Rio de Janeiro, de uma família pobre, mal estudou em escolas públicas e nunca frequentou universidade.[10] Para o considerado crítico literário norte-americano Harold Bloom, Machado de Assis é o maior escritor negro de todos os tempos,[11] embora outros estudiosos prefiram especificar que Machado era mestiço,[12] filho de um descendente de negros alforriados e de uma lavadeira portuguesa. Seus biógrafos notam que, interessado pela boemia e pela corte, lutou para subir socialmente abastecendo-se de superioridade intelectual e da cultura da capital brasileira.[13] Para isso, assumiu diversos cargos públicos, passando pelo Ministério da Agricultura, do Comércio e das Obras Públicas, e conseguindo precoce notoriedade em jornais onde publicava suas primeiras poesias e crônicas. Machado de Assis pôde assistir, durante sua vida, que abarca o final da primeira metade do século XIX até os anos iniciais do século XX, a enormes mudanças históricas na política, na economia e na sociedade brasileira e também mundial. Em sua maturidade, reunido a intelectuais e colegas próximos, fundou e foi o primeiro presidente unânime da Academia Brasileira de Letras.[14]\n",
            "\n",
            "A extensa obra machadiana constitui-se de dez romances, 205 contos,[15] dez peças teatrais, cinco coletâneas de poemas e sonetos, e mais de seiscentas crônicas.[16][17] Machado de Assis é considerado o introdutor do Realismo no Brasil, com a publicação de Memórias Póstumas de Brás Cubas (1881).[18][19] Este romance é posto ao lado de todas suas produções posteriores, Quincas Borba, Dom Casmurro, Esaú e Jacó e Memorial de Aires, ortodoxamente conhecidas como pertencentes à sua segunda fase, em que notam-se traços de crítica social, ironia e até pessimismo, embora não haja rompimento de resíduos românticos. Dessa fase, os críticos destacam que suas melhores obras são as do que se passou a chamar de \"Trilogia Realista\".[1] Sua primeira fase literária é constituída de obras como Ressurreição, A Mão e a Luva, Helena e Iaiá Garcia, onde notam-se características herdadas do Romantismo, ou \"convencionalismo\", como prefere a crítica moderna.[20]\n",
            "\n",
            "Sua obra foi de fundamental importância para as escolas literárias brasileiras do século XIX e do século XX e surge nos dias de hoje como de grande interesse acadêmico e público para entender o Brasil e o mundo.[21] Influenciou grandes nomes das letras, como Olavo Bilac, Lima Barreto, Drummond de Andrade, John Barth, Donald Barthelme e muitos outros. Ainda em vida, alcançou fama e prestígio pelo Brasil e países vizinhos.[22] Hoje em dia, por sua inovação literária e por sua audácia em temas sociais e precoces, é frequentemente visto como o escritor brasileiro de produção sem precedentes,[23][24] de modo que, recentemente, seu nome e sua obra têm alcançado diversos críticos, influenciados, estudiosos e admiradores do mundo inteiro. Machado de Assis é considerado um dos grandes gênios da história da literatura, ao lado de autores como Dante, Shakespeare e Camões.[25] Machado de Assis e Eça de Queiroz são considerados os dois maiores escritores em língua portuguesa do século XIX.[26][27][28] Foi incluído na lista oficial dos Heróis Nacionais do Brasil[29] e é homenageado pelo principal prêmio literário brasileiro, o Prêmio Machado de Assis."
          ]
        }
      ]
    },
    {
      "cell_type": "code",
      "metadata": {
        "id": "X3VbawAC0LlB",
        "colab": {
          "base_uri": "https://localhost:8080/"
        },
        "outputId": "b1d62796-de18-45c3-e2c0-ce26db67442c"
      },
      "source": [
        "arquivo = open('machado_de_assis.txt', 'r',encoding='UTF-8')\n",
        "for linha in arquivo:\n",
        "  print(linha, end='')\n",
        "arquivo.close()"
      ],
      "execution_count": 7,
      "outputs": [
        {
          "output_type": "stream",
          "name": "stdout",
          "text": [
            "Machado de Assis\n",
            "Este é um artigo destacado. Clique aqui para mais informações. Página semiprotegidaOrigem: Wikipédia, a enciclopédia livre.\n",
            "Machado de Assis\n",
            "\n",
            "Perfil de Machado de Assis, 1904.\n",
            "Arquivo Nacional.\n",
            "Nome completo\tJoaquim Maria Machado de Assis\n",
            "Nascimento\t21 de junho de 1839\n",
            "Rio de Janeiro, MN\n",
            "Império do Brasil\n",
            "Morte\t29 de setembro de 1908 (69 anos)\n",
            "Rio de Janeiro, DF\n",
            "Estados Unidos do Brasil\n",
            "Nacionalidade\tbrasileiro\n",
            "Cônjuge\tCarolina Augusta Xavier de Novais (1869–1904)\n",
            "Ocupação\tEscritor, jornalista, contista, cronista, dramaturgo e poeta\n",
            "Movimento literário\tRomantismo/Realismo\n",
            "Magnum opus\tEntre os críticos e o público, destacam-se Memórias Póstumas de Brás Cubas e Dom Casmurro. A crítica considera que suas melhores obras são as da Trilogia Realista.[1]\n",
            "Joaquim Maria Machado de Assis (Rio de Janeiro, 21 de junho de 1839 – Rio de Janeiro, 29 de setembro de 1908) foi um escritor brasileiro, considerado por muitos críticos, estudiosos, escritores e leitores um dos maiores senão o maior nome da literatura do Brasil.[2][3][4][5][6] Escreveu em praticamente todos os gêneros literários, sendo poeta, romancista, cronista, dramaturgo, contista, folhetinista, jornalista e crítico literário.[7][8] Testemunhou a Abolição da escravatura e a mudança política no país quando a República substituiu o Império, além das mais diversas reviravoltas pelo mundo em finais do século XIX e início do XX, tendo sido grande comentador e relator dos eventos político-sociais de sua época.[9]\n",
            "\n",
            "Nascido no Morro do Livramento, Rio de Janeiro, de uma família pobre, mal estudou em escolas públicas e nunca frequentou universidade.[10] Para o considerado crítico literário norte-americano Harold Bloom, Machado de Assis é o maior escritor negro de todos os tempos,[11] embora outros estudiosos prefiram especificar que Machado era mestiço,[12] filho de um descendente de negros alforriados e de uma lavadeira portuguesa. Seus biógrafos notam que, interessado pela boemia e pela corte, lutou para subir socialmente abastecendo-se de superioridade intelectual e da cultura da capital brasileira.[13] Para isso, assumiu diversos cargos públicos, passando pelo Ministério da Agricultura, do Comércio e das Obras Públicas, e conseguindo precoce notoriedade em jornais onde publicava suas primeiras poesias e crônicas. Machado de Assis pôde assistir, durante sua vida, que abarca o final da primeira metade do século XIX até os anos iniciais do século XX, a enormes mudanças históricas na política, na economia e na sociedade brasileira e também mundial. Em sua maturidade, reunido a intelectuais e colegas próximos, fundou e foi o primeiro presidente unânime da Academia Brasileira de Letras.[14]\n",
            "\n",
            "A extensa obra machadiana constitui-se de dez romances, 205 contos,[15] dez peças teatrais, cinco coletâneas de poemas e sonetos, e mais de seiscentas crônicas.[16][17] Machado de Assis é considerado o introdutor do Realismo no Brasil, com a publicação de Memórias Póstumas de Brás Cubas (1881).[18][19] Este romance é posto ao lado de todas suas produções posteriores, Quincas Borba, Dom Casmurro, Esaú e Jacó e Memorial de Aires, ortodoxamente conhecidas como pertencentes à sua segunda fase, em que notam-se traços de crítica social, ironia e até pessimismo, embora não haja rompimento de resíduos românticos. Dessa fase, os críticos destacam que suas melhores obras são as do que se passou a chamar de \"Trilogia Realista\".[1] Sua primeira fase literária é constituída de obras como Ressurreição, A Mão e a Luva, Helena e Iaiá Garcia, onde notam-se características herdadas do Romantismo, ou \"convencionalismo\", como prefere a crítica moderna.[20]\n",
            "\n",
            "Sua obra foi de fundamental importância para as escolas literárias brasileiras do século XIX e do século XX e surge nos dias de hoje como de grande interesse acadêmico e público para entender o Brasil e o mundo.[21] Influenciou grandes nomes das letras, como Olavo Bilac, Lima Barreto, Drummond de Andrade, John Barth, Donald Barthelme e muitos outros. Ainda em vida, alcançou fama e prestígio pelo Brasil e países vizinhos.[22] Hoje em dia, por sua inovação literária e por sua audácia em temas sociais e precoces, é frequentemente visto como o escritor brasileiro de produção sem precedentes,[23][24] de modo que, recentemente, seu nome e sua obra têm alcançado diversos críticos, influenciados, estudiosos e admiradores do mundo inteiro. Machado de Assis é considerado um dos grandes gênios da história da literatura, ao lado de autores como Dante, Shakespeare e Camões.[25] Machado de Assis e Eça de Queiroz são considerados os dois maiores escritores em língua portuguesa do século XIX.[26][27][28] Foi incluído na lista oficial dos Heróis Nacionais do Brasil[29] e é homenageado pelo principal prêmio literário brasileiro, o Prêmio Machado de Assis."
          ]
        }
      ]
    },
    {
      "cell_type": "code",
      "metadata": {
        "id": "ETeDjjVx3mbA",
        "colab": {
          "base_uri": "https://localhost:8080/"
        },
        "outputId": "70e23668-d1e7-4920-ca18-2a750eee80e2"
      },
      "source": [
        "with open('machado_de_assis.txt', 'r',encoding='UTF-8') as arquivo:\n",
        "  texto = arquivo.read()\n",
        "print(texto)"
      ],
      "execution_count": 8,
      "outputs": [
        {
          "output_type": "stream",
          "name": "stdout",
          "text": [
            "Machado de Assis\n",
            "Este é um artigo destacado. Clique aqui para mais informações. Página semiprotegidaOrigem: Wikipédia, a enciclopédia livre.\n",
            "Machado de Assis\n",
            "\n",
            "Perfil de Machado de Assis, 1904.\n",
            "Arquivo Nacional.\n",
            "Nome completo\tJoaquim Maria Machado de Assis\n",
            "Nascimento\t21 de junho de 1839\n",
            "Rio de Janeiro, MN\n",
            "Império do Brasil\n",
            "Morte\t29 de setembro de 1908 (69 anos)\n",
            "Rio de Janeiro, DF\n",
            "Estados Unidos do Brasil\n",
            "Nacionalidade\tbrasileiro\n",
            "Cônjuge\tCarolina Augusta Xavier de Novais (1869–1904)\n",
            "Ocupação\tEscritor, jornalista, contista, cronista, dramaturgo e poeta\n",
            "Movimento literário\tRomantismo/Realismo\n",
            "Magnum opus\tEntre os críticos e o público, destacam-se Memórias Póstumas de Brás Cubas e Dom Casmurro. A crítica considera que suas melhores obras são as da Trilogia Realista.[1]\n",
            "Joaquim Maria Machado de Assis (Rio de Janeiro, 21 de junho de 1839 – Rio de Janeiro, 29 de setembro de 1908) foi um escritor brasileiro, considerado por muitos críticos, estudiosos, escritores e leitores um dos maiores senão o maior nome da literatura do Brasil.[2][3][4][5][6] Escreveu em praticamente todos os gêneros literários, sendo poeta, romancista, cronista, dramaturgo, contista, folhetinista, jornalista e crítico literário.[7][8] Testemunhou a Abolição da escravatura e a mudança política no país quando a República substituiu o Império, além das mais diversas reviravoltas pelo mundo em finais do século XIX e início do XX, tendo sido grande comentador e relator dos eventos político-sociais de sua época.[9]\n",
            "\n",
            "Nascido no Morro do Livramento, Rio de Janeiro, de uma família pobre, mal estudou em escolas públicas e nunca frequentou universidade.[10] Para o considerado crítico literário norte-americano Harold Bloom, Machado de Assis é o maior escritor negro de todos os tempos,[11] embora outros estudiosos prefiram especificar que Machado era mestiço,[12] filho de um descendente de negros alforriados e de uma lavadeira portuguesa. Seus biógrafos notam que, interessado pela boemia e pela corte, lutou para subir socialmente abastecendo-se de superioridade intelectual e da cultura da capital brasileira.[13] Para isso, assumiu diversos cargos públicos, passando pelo Ministério da Agricultura, do Comércio e das Obras Públicas, e conseguindo precoce notoriedade em jornais onde publicava suas primeiras poesias e crônicas. Machado de Assis pôde assistir, durante sua vida, que abarca o final da primeira metade do século XIX até os anos iniciais do século XX, a enormes mudanças históricas na política, na economia e na sociedade brasileira e também mundial. Em sua maturidade, reunido a intelectuais e colegas próximos, fundou e foi o primeiro presidente unânime da Academia Brasileira de Letras.[14]\n",
            "\n",
            "A extensa obra machadiana constitui-se de dez romances, 205 contos,[15] dez peças teatrais, cinco coletâneas de poemas e sonetos, e mais de seiscentas crônicas.[16][17] Machado de Assis é considerado o introdutor do Realismo no Brasil, com a publicação de Memórias Póstumas de Brás Cubas (1881).[18][19] Este romance é posto ao lado de todas suas produções posteriores, Quincas Borba, Dom Casmurro, Esaú e Jacó e Memorial de Aires, ortodoxamente conhecidas como pertencentes à sua segunda fase, em que notam-se traços de crítica social, ironia e até pessimismo, embora não haja rompimento de resíduos românticos. Dessa fase, os críticos destacam que suas melhores obras são as do que se passou a chamar de \"Trilogia Realista\".[1] Sua primeira fase literária é constituída de obras como Ressurreição, A Mão e a Luva, Helena e Iaiá Garcia, onde notam-se características herdadas do Romantismo, ou \"convencionalismo\", como prefere a crítica moderna.[20]\n",
            "\n",
            "Sua obra foi de fundamental importância para as escolas literárias brasileiras do século XIX e do século XX e surge nos dias de hoje como de grande interesse acadêmico e público para entender o Brasil e o mundo.[21] Influenciou grandes nomes das letras, como Olavo Bilac, Lima Barreto, Drummond de Andrade, John Barth, Donald Barthelme e muitos outros. Ainda em vida, alcançou fama e prestígio pelo Brasil e países vizinhos.[22] Hoje em dia, por sua inovação literária e por sua audácia em temas sociais e precoces, é frequentemente visto como o escritor brasileiro de produção sem precedentes,[23][24] de modo que, recentemente, seu nome e sua obra têm alcançado diversos críticos, influenciados, estudiosos e admiradores do mundo inteiro. Machado de Assis é considerado um dos grandes gênios da história da literatura, ao lado de autores como Dante, Shakespeare e Camões.[25] Machado de Assis e Eça de Queiroz são considerados os dois maiores escritores em língua portuguesa do século XIX.[26][27][28] Foi incluído na lista oficial dos Heróis Nacionais do Brasil[29] e é homenageado pelo principal prêmio literário brasileiro, o Prêmio Machado de Assis.\n"
          ]
        }
      ]
    },
    {
      "cell_type": "code",
      "metadata": {
        "id": "jfCUnHWC5e_0"
      },
      "source": [
        "with open('arquivo_teste.txt', 'w',encoding='UTF-8') as arquivo:\n",
        "  arquivo.write('Essa é uma linha que eu escrevi usando python\\n')\n",
        "  arquivo.write('Essa é segunda linha que eu escrevi usando python\\n')"
      ],
      "execution_count": 9,
      "outputs": []
    },
    {
      "cell_type": "code",
      "metadata": {
        "id": "AC8bLjdt5igt",
        "colab": {
          "base_uri": "https://localhost:8080/"
        },
        "outputId": "007ec4dd-b239-4b3b-d300-223fecea3f4d"
      },
      "source": [
        "with open('arquivo_teste.txt', 'r',encoding='UTF-8') as arquivo:\n",
        "  print(arquivo.read(), end='')"
      ],
      "execution_count": 10,
      "outputs": [
        {
          "output_type": "stream",
          "name": "stdout",
          "text": [
            "Essa é uma linha que eu escrevi usando python\n",
            "Essa é segunda linha que eu escrevi usando python\n"
          ]
        }
      ]
    },
    {
      "cell_type": "code",
      "metadata": {
        "id": "YJ-VLK4U5mXX"
      },
      "source": [
        "with open('arquivo_teste.txt', 'w',encoding='UTF-8') as arquivo:\n",
        "  arquivo.write('Essa é terceira linha que eu escrevi usando python\\n')"
      ],
      "execution_count": 11,
      "outputs": []
    },
    {
      "cell_type": "markdown",
      "metadata": {
        "id": "Xoc7mQN3vpL9"
      },
      "source": [
        "Clique aqui para acessar o arquivo dom_casmurro_cap_1.txt \n",
        "\n",
        "https://s3-sa-east-1.amazonaws.com/lcpi/9653c5a5-9a32-49b2-86b2-0e527bbbdc12.txt"
      ]
    },
    {
      "cell_type": "markdown",
      "metadata": {
        "id": "XEeOfBj6vxam"
      },
      "source": [
        "**Arquivos em Python**\n",
        "\n",
        "`O Python possui algumas funções prontas para manipular arquivos binários puros (onde, conhecendo a estrutura interna de qualquer formato, podemos salvar qualquer tipo de arquivo) e para manipular arquivos de texto (onde os binários são decodificados como strings).`\n",
        "\n",
        "`Focaremos no básico de manipulação de arquivo de texto, pois, na prática, quando formos trabalhar com arquivos mais complexos, é provável que usaremos bibliotecas específicas para lidar com eles, e elas já terão funções próprias para ler e salvar esses arquivos da maneira correta.`"
      ]
    },
    {
      "cell_type": "markdown",
      "metadata": {
        "id": "--3PEIlAv-DE"
      },
      "source": [
        "`Abrindo e fechando arquivos`\n",
        "\n",
        "`Podemos criar arquivos novos ou abrir arquivos já existentes utilizando a função open. Ela possui 2 argumentos: o caminho do arquivo e o modo de operação.`\n",
        "\n",
        "`Modo\tSímbolo\tDescrição`\n",
        "`read\tr\tlê um arquivo existente write\tw\tcria um novo arquivo append a\tabre um arquivo existente para adicionar informações ao seu final update\t+\tao ser combinado com outros modos, permite alteração de arquivo já existente (ex: r+ abre um arquivo existente e permite modificá-lo)`\n",
        "`Após abrirmos (ou criarmos) um arquivo, podemos realizar diversas operações. Ao final de todas elas, devemos fechar o nosso arquivo usando a função close. Essa etapa é importante por 2 motivos:`"
      ]
    },
    {
      "cell_type": "markdown",
      "metadata": {
        "id": "PAix3YyywtIF"
      },
      "source": [
        "`Se alteramos o arquivo mas não o fechamos, as alterações não serão salvas;`\n",
        "\n",
        "`Se esquecemos de fechar um arquivo, outros programas podem ter problemas ao acessá-lo.`\n",
        "\n",
        "**Roteiro básico**\n",
        "\n",
        "`Vamos seguir os seguintes passos para manipular nossos arquivos:`"
      ]
    },
    {
      "cell_type": "code",
      "metadata": {
        "id": "4WoQSVtlw7ik"
      },
      "source": [
        "#Abrir ou criar um arquivo:\n",
        "arquivocriado = open(\"teste.txt\", \"w\")\n",
        "#A linha de comando acima abre (ou cria se não existe) um arquivo chamado \"criado.txt\" para escrita (\"w\", de write) e guarda na variável \"arquivocriado\" as informações para manipulá-lo.\n"
      ],
      "execution_count": 25,
      "outputs": []
    },
    {
      "cell_type": "code",
      "metadata": {
        "id": "gBz9Ep215C1v"
      },
      "source": [
        "arquivolido = open(\"teste.txt\", \"r\")\n",
        "#A linha acima lê (\"r\", de read) um arquivo já existente chamado \"teste.txt\" e guarda na variável \"arquivolido\" as informações para manipulá-lo."
      ],
      "execution_count": 26,
      "outputs": []
    },
    {
      "cell_type": "code",
      "metadata": {
        "id": "XNW61tQ3w_4z",
        "colab": {
          "base_uri": "https://localhost:8080/"
        },
        "outputId": "3456e523-96fd-4aae-f8b1-d64ff5b4cb2a"
      },
      "source": [
        "#Carregar os dados do arquivo (leitura)\n",
        "dados = arquivolido.read()\n",
        "print(dados)\n",
        "#A função read() retorna todo o conteúdo do arquivo como uma string."
      ],
      "execution_count": 27,
      "outputs": [
        {
          "output_type": "stream",
          "name": "stdout",
          "text": [
            "\n"
          ]
        }
      ]
    },
    {
      "cell_type": "markdown",
      "metadata": {
        "id": "e9oKqK8RxI7r"
      },
      "source": [
        "`Precisamos carregar o conteúdo do arquivo em algum formato que sabemos trabalhar. A read() carrega o conteúdo de um arquivo de texto em uma string.`"
      ]
    },
    {
      "cell_type": "code",
      "metadata": {
        "id": "UaBnckJmxMjN",
        "colab": {
          "base_uri": "https://localhost:8080/"
        },
        "outputId": "725b9d0c-1667-4d03-9037-61f9938cdaee"
      },
      "source": [
        "#Manipular os dados do arquivo (escrita)\n",
        "arquivocriado.write(\"linha 1\")\n",
        "arquivocriado.write(\"linha 2\")\n",
        "arquivocriado.write(\"linha 3\")\n",
        "#Em casos mais complexos, iremos manipular o conteudo LIDO no passo anterior para posteriormente reescrevê-lo. Em outros mais simples, podemos escrever diretamente no arquivo."
      ],
      "execution_count": 28,
      "outputs": [
        {
          "output_type": "execute_result",
          "data": {
            "text/plain": [
              "7"
            ]
          },
          "metadata": {},
          "execution_count": 28
        }
      ]
    },
    {
      "cell_type": "code",
      "metadata": {
        "id": "k8tqZHyTxTE3"
      },
      "source": [
        "#Fechar o arquivo\n",
        "arquivocriado.close()\n",
        "arquivolido.close()\n",
        "#Essa etapa é muito importante para garantir a integridade dos novos dados no arquivo. As modificações são salvas somente ao fechar o arquivo.\n"
      ],
      "execution_count": 29,
      "outputs": []
    },
    {
      "cell_type": "markdown",
      "metadata": {
        "id": "Zm4LeqUFxXIW"
      },
      "source": [
        "**Comando with**\n",
        "\n",
        "`Um jeito mais inteligente de se trabalhar com arquivos é utilizar a sintaxe do \"with\". Ele garante que após a finalização do bloco, o arquivo será fechado.`"
      ]
    },
    {
      "cell_type": "code",
      "metadata": {
        "id": "UwVVXpdmxW12",
        "colab": {
          "base_uri": "https://localhost:8080/"
        },
        "outputId": "ff56ceb3-e689-47ef-c926-5249bcc2129a"
      },
      "source": [
        "with open('teste.txt', 'r') as arquivolido:\n",
        "   dados = arquivolido.read()\n",
        "   print(dados)"
      ],
      "execution_count": 30,
      "outputs": [
        {
          "output_type": "stream",
          "name": "stdout",
          "text": [
            "linha 1linha 2linha 3\n"
          ]
        }
      ]
    },
    {
      "cell_type": "code",
      "metadata": {
        "id": "5Gf6f_vbxg16",
        "colab": {
          "base_uri": "https://localhost:8080/"
        },
        "outputId": "eac29027-fc8d-4af5-f157-09afee3630ec"
      },
      "source": [
        "#É possível ler o arquivo linha a linha, como no exemplo:\n",
        "\n",
        "with open('teste.txt', 'r') as arquivolido:\n",
        "   linha = arquivolido.readline()\n",
        "   while linha != '':\n",
        "       print(linha, end='')\n",
        "       linha = arquivolido.readline()"
      ],
      "execution_count": 31,
      "outputs": [
        {
          "output_type": "stream",
          "name": "stdout",
          "text": [
            "linha 1linha 2linha 3"
          ]
        }
      ]
    },
    {
      "cell_type": "code",
      "metadata": {
        "id": "CobdOy9_xmOU",
        "colab": {
          "base_uri": "https://localhost:8080/"
        },
        "outputId": "7f762217-9a32-4505-df01-adbbd2c77976"
      },
      "source": [
        "#OU\n",
        "with open('teste.txt', 'r') as arquivolido:\n",
        "    for linha in arquivolido:\n",
        "        print(linha, end='')\n",
        "#O mesmo pode ser feito para escrever no arquivo:\n",
        "\n",
        "with open('teste.txt', 'r') as arquivolido:\n",
        "    with open('copiateste.txt', 'w') as arquivocriado:\n",
        "        for linha in arquivolido:\n",
        "            arquivocriado.write(linha)\n",
        "#No comando acima, as linhas do arquivo \"teste.txt\" são copiadas e salvas no arquivo \"copiateste.txt\"."
      ],
      "execution_count": 32,
      "outputs": [
        {
          "output_type": "stream",
          "name": "stdout",
          "text": [
            "linha 1linha 2linha 3"
          ]
        }
      ]
    },
    {
      "cell_type": "markdown",
      "metadata": {
        "id": "GdBj7Em86Obs"
      },
      "source": [
        "##Aula 02 - Arquivos CSV"
      ]
    },
    {
      "cell_type": "markdown",
      "metadata": {
        "id": "qJFhlV_5x2aM"
      },
      "source": [
        "`Clique aqui para baixar o arquivo brasil_covid.csv.`\n",
        "\n",
        "https://s3-sa-east-1.amazonaws.com/lcpi/3ada13e0-1fd2-4602-9786-24bc0b16b2df.csv\n"
      ]
    },
    {
      "cell_type": "markdown",
      "metadata": {
        "id": "xt4-mzFI7VTz"
      },
      "source": [
        "`Para a aplicação devemos ter um texto com extensão do arquivo csv. Fiquei à vontade para escolher seu texto. no meu caso copie a informações  do covid no Brasil.`\n",
        "`Após gerar o arquivo necessitar importar o arquivo para armazenamento da sessão.`\n",
        "`Para que o google colab tenha acesso às informações.Importante que o nome do arquivo esteja igual parâmetros à importação passado dentro função “open”.`"
      ]
    },
    {
      "cell_type": "code",
      "metadata": {
        "id": "N1PWtKFr6SN5",
        "colab": {
          "base_uri": "https://localhost:8080/"
        },
        "outputId": "609e69b7-4f8d-4e8e-caa0-0e3e1b347d8d"
      },
      "source": [
        "import csv\n",
        "with open('brasil_covid.csv', 'r', encoding ='utf-8') as arquivo_csv:\n",
        "  leitor = csv.reader(arquivo_csv)\n",
        "  for linha in leitor:\n",
        "    print(linha)"
      ],
      "execution_count": 36,
      "outputs": [
        {
          "output_type": "stream",
          "name": "stdout",
          "text": [
            "['data', 'pais', 'novos_casos', 'novos_obitos', 'total_casos', 'total_obitos']\n",
            "['2019-12-31', 'Brasil', '0', '0', '0', '0']\n",
            "['2020-01-01', 'Brasil', '0', '0', '0', '0']\n",
            "['2020-01-02', 'Brasil', '0', '0', '0', '0']\n",
            "['2020-01-03', 'Brasil', '0', '0', '0', '0']\n",
            "['2020-01-04', 'Brasil', '0', '0', '0', '0']\n",
            "['2020-01-05', 'Brasil', '0', '0', '0', '0']\n",
            "['2020-01-06', 'Brasil', '0', '0', '0', '0']\n",
            "['2020-01-07', 'Brasil', '0', '0', '0', '0']\n",
            "['2020-01-08', 'Brasil', '0', '0', '0', '0']\n",
            "['2020-01-09', 'Brasil', '0', '0', '0', '0']\n",
            "['2020-01-10', 'Brasil', '0', '0', '0', '0']\n",
            "['2020-01-11', 'Brasil', '0', '0', '0', '0']\n",
            "['2020-01-12', 'Brasil', '0', '0', '0', '0']\n",
            "['2020-01-13', 'Brasil', '0', '0', '0', '0']\n",
            "['2020-01-14', 'Brasil', '0', '0', '0', '0']\n",
            "['2020-01-15', 'Brasil', '0', '0', '0', '0']\n",
            "['2020-01-16', 'Brasil', '0', '0', '0', '0']\n",
            "['2020-01-17', 'Brasil', '0', '0', '0', '0']\n",
            "['2020-01-18', 'Brasil', '0', '0', '0', '0']\n",
            "['2020-01-19', 'Brasil', '0', '0', '0', '0']\n",
            "['2020-01-20', 'Brasil', '0', '0', '0', '0']\n",
            "['2020-01-21', 'Brasil', '0', '0', '0', '0']\n",
            "['2020-01-22', 'Brasil', '0', '0', '0', '0']\n",
            "['2020-01-23', 'Brasil', '0', '0', '0', '0']\n",
            "['2020-01-24', 'Brasil', '0', '0', '0', '0']\n",
            "['2020-01-25', 'Brasil', '0', '0', '0', '0']\n",
            "['2020-01-26', 'Brasil', '0', '0', '0', '0']\n",
            "['2020-01-27', 'Brasil', '0', '0', '0', '0']\n",
            "['2020-01-28', 'Brasil', '0', '0', '0', '0']\n",
            "['2020-01-29', 'Brasil', '0', '0', '0', '0']\n",
            "['2020-01-30', 'Brasil', '0', '0', '0', '0']\n",
            "['2020-01-31', 'Brasil', '0', '0', '0', '0']\n",
            "['2020-02-01', 'Brasil', '0', '0', '0', '0']\n",
            "['2020-02-02', 'Brasil', '0', '0', '0', '0']\n",
            "['2020-02-03', 'Brasil', '0', '0', '0', '0']\n",
            "['2020-02-04', 'Brasil', '0', '0', '0', '0']\n",
            "['2020-02-05', 'Brasil', '0', '0', '0', '0']\n",
            "['2020-02-06', 'Brasil', '0', '0', '0', '0']\n",
            "['2020-02-07', 'Brasil', '0', '0', '0', '0']\n",
            "['2020-02-08', 'Brasil', '0', '0', '0', '0']\n",
            "['2020-02-09', 'Brasil', '0', '0', '0', '0']\n",
            "['2020-02-10', 'Brasil', '0', '0', '0', '0']\n",
            "['2020-02-11', 'Brasil', '0', '0', '0', '0']\n",
            "['2020-02-12', 'Brasil', '0', '0', '0', '0']\n",
            "['2020-02-13', 'Brasil', '0', '0', '0', '0']\n",
            "['2020-02-14', 'Brasil', '0', '0', '0', '0']\n",
            "['2020-02-15', 'Brasil', '0', '0', '0', '0']\n",
            "['2020-02-16', 'Brasil', '0', '0', '0', '0']\n",
            "['2020-02-17', 'Brasil', '0', '0', '0', '0']\n",
            "['2020-02-18', 'Brasil', '0', '0', '0', '0']\n",
            "['2020-02-19', 'Brasil', '0', '0', '0', '0']\n",
            "['2020-02-20', 'Brasil', '0', '0', '0', '0']\n",
            "['2020-02-21', 'Brasil', '0', '0', '0', '0']\n",
            "['2020-02-22', 'Brasil', '0', '0', '0', '0']\n",
            "['2020-02-23', 'Brasil', '0', '0', '0', '0']\n",
            "['2020-02-24', 'Brasil', '0', '0', '0', '0']\n",
            "['2020-02-25', 'Brasil', '0', '0', '0', '0']\n",
            "['2020-02-26', 'Brasil', '1', '0', '1', '0']\n",
            "['2020-02-27', 'Brasil', '0', '0', '1', '0']\n",
            "['2020-02-28', 'Brasil', '0', '0', '1', '0']\n",
            "['2020-02-29', 'Brasil', '0', '0', '1', '0']\n",
            "['2020-03-01', 'Brasil', '1', '0', '2', '0']\n",
            "['2020-03-02', 'Brasil', '0', '0', '2', '0']\n",
            "['2020-03-03', 'Brasil', '0', '0', '2', '0']\n",
            "['2020-03-04', 'Brasil', '0', '0', '2', '0']\n",
            "['2020-03-05', 'Brasil', '1', '0', '3', '0']\n",
            "['2020-03-06', 'Brasil', '5', '0', '8', '0']\n",
            "['2020-03-07', 'Brasil', '5', '0', '13', '0']\n",
            "['2020-03-08', 'Brasil', '0', '0', '13', '0']\n",
            "['2020-03-09', 'Brasil', '12', '0', '25', '0']\n",
            "['2020-03-10', 'Brasil', '0', '0', '25', '0']\n",
            "['2020-03-11', 'Brasil', '9', '0', '34', '0']\n",
            "['2020-03-12', 'Brasil', '18', '0', '52', '0']\n",
            "['2020-03-13', 'Brasil', '25', '0', '77', '0']\n",
            "['2020-03-14', 'Brasil', '21', '0', '98', '0']\n",
            "['2020-03-15', 'Brasil', '23', '0', '121', '0']\n",
            "['2020-03-16', 'Brasil', '79', '0', '200', '0']\n",
            "['2020-03-17', 'Brasil', '34', '0', '234', '0']\n",
            "['2020-03-18', 'Brasil', '57', '1', '291', '1']\n",
            "['2020-03-19', 'Brasil', '137', '3', '428', '4']\n",
            "['2020-03-20', 'Brasil', '193', '2', '621', '6']\n",
            "['2020-03-21', 'Brasil', '283', '5', '904', '11']\n",
            "['2020-03-22', 'Brasil', '224', '7', '1128', '18']\n",
            "['2020-03-23', 'Brasil', '418', '7', '1546', '25']\n",
            "['2020-03-24', 'Brasil', '345', '9', '1891', '34']\n",
            "['2020-03-25', 'Brasil', '310', '12', '2201', '46']\n",
            "['2020-03-26', 'Brasil', '232', '11', '2433', '57']\n",
            "['2020-03-27', 'Brasil', '482', '20', '2915', '77']\n",
            "['2020-03-28', 'Brasil', '502', '15', '3417', '92']\n",
            "['2020-03-29', 'Brasil', '487', '22', '3904', '114']\n",
            "['2020-03-30', 'Brasil', '352', '22', '4256', '136']\n",
            "['2020-03-31', 'Brasil', '323', '23', '4579', '159']\n",
            "['2020-04-01', 'Brasil', '1138', '42', '5717', '201']\n",
            "['2020-04-02', 'Brasil', '1119', '40', '6836', '241']\n",
            "['2020-04-03', 'Brasil', '1074', '58', '7910', '299']\n",
            "['2020-04-04', 'Brasil', '1146', '60', '9056', '359']\n",
            "['2020-04-05', 'Brasil', '1222', '73', '10278', '432']\n",
            "['2020-04-06', 'Brasil', '852', '54', '11130', '486']\n",
            "['2020-04-07', 'Brasil', '926', '67', '12056', '553']\n",
            "['2020-04-08', 'Brasil', '1661', '114', '13717', '667']\n",
            "['2020-04-09', 'Brasil', '2210', '133', '15927', '800']\n",
            "['2020-04-10', 'Brasil', '1930', '141', '17857', '941']\n",
            "['2020-04-11', 'Brasil', '1781', '115', '19638', '1056']\n",
            "['2020-04-12', 'Brasil', '1089', '68', '20727', '1124']\n",
            "['2020-04-13', 'Brasil', '1442', '99', '22169', '1223']\n",
            "['2020-04-14', 'Brasil', '1261', '105', '23430', '1328']\n",
            "['2020-04-15', 'Brasil', '1832', '204', '25262', '1532']\n",
            "['2020-04-16', 'Brasil', '3058', '204', '28320', '1736']\n",
            "['2020-04-17', 'Brasil', '2105', '188', '30425', '1924']\n",
            "['2020-04-18', 'Brasil', '3257', '217', '33682', '2141']\n",
            "['2020-04-19', 'Brasil', '2917', '206', '36599', '2347']\n",
            "['2020-04-20', 'Brasil', '2055', '115', '38654', '2462']\n",
            "['2020-04-21', 'Brasil', '1927', '113', '40581', '2575']\n",
            "['2020-04-22', 'Brasil', '2498', '166', '43079', '2741']\n",
            "['2020-04-23', 'Brasil', '2678', '165', '45757', '2906']\n",
            "['2020-04-24', 'Brasil', '3735', '407', '49492', '3313']\n",
            "['2020-04-25', 'Brasil', '3503', '357', '52995', '3670']\n",
            "['2020-04-26', 'Brasil', '5514', '346', '58509', '4016']\n",
            "['2020-04-27', 'Brasil', '3379', '189', '61888', '4205']\n",
            "['2020-04-28', 'Brasil', '4613', '338', '66501', '4543']\n",
            "['2020-04-29', 'Brasil', '5385', '474', '71886', '5017']\n",
            "['2020-04-30', 'Brasil', '6276', '449', '78162', '5466']\n",
            "['2020-05-01', 'Brasil', '7218', '435', '85380', '5901']\n",
            "['2020-05-02', 'Brasil', '6209', '428', '91589', '6329']\n",
            "['2020-05-03', 'Brasil', '4970', '421', '96559', '6750']\n",
            "['2020-05-04', 'Brasil', '4588', '275', '101147', '7025']\n",
            "['2020-05-05', 'Brasil', '6633', '296', '107780', '7321']\n",
            "['2020-05-06', 'Brasil', '6935', '600', '114715', '7921']\n",
            "['2020-05-07', 'Brasil', '10503', '615', '125218', '8536']\n",
            "['2020-05-08', 'Brasil', '9888', '610', '135106', '9146']\n",
            "['2020-05-09', 'Brasil', '10222', '751', '145328', '9897']\n",
            "['2020-05-10', 'Brasil', '10611', '730', '155939', '10627']\n",
            "['2020-05-11', 'Brasil', '6760', '496', '162699', '11123']\n",
            "['2020-05-12', 'Brasil', '5632', '396', '168331', '11519']\n",
            "['2020-05-13', 'Brasil', '9258', '881', '177589', '12400']\n",
            "['2020-05-14', 'Brasil', '11385', '749', '188974', '13149']\n",
            "['2020-05-15', 'Brasil', '13944', '844', '202918', '13993']\n",
            "['2020-05-16', 'Brasil', '15305', '824', '218223', '14817']\n",
            "['2020-05-17', 'Brasil', '14919', '816', '233142', '15633']\n",
            "['2020-05-18', 'Brasil', '7938', '485', '241080', '16118']\n",
            "['2020-05-19', 'Brasil', '13140', '674', '254220', '16792']\n",
            "['2020-05-20', 'Brasil', '17408', '1179', '271628', '17971']\n",
            "['2020-05-21', 'Brasil', '19951', '888', '291579', '18859']\n",
            "['2020-05-22', 'Brasil', '18508', '1188', '310087', '20047']\n",
            "['2020-05-23', 'Brasil', '20803', '1001', '330890', '21048']\n",
            "['2020-05-24', 'Brasil', '16508', '965', '347398', '22013']\n",
            "['2020-05-25', 'Brasil', '15813', '653', '363211', '22666']\n",
            "['2020-05-26', 'Brasil', '11687', '807', '374898', '23473']\n",
            "['2020-05-27', 'Brasil', '16324', '1039', '391222', '24512']\n",
            "['2020-05-28', 'Brasil', '20599', '1086', '411821', '25598']\n",
            "['2020-05-29', 'Brasil', '26417', '1156', '438238', '26754']\n",
            "['2020-05-30', 'Brasil', '26928', '1124', '465166', '27878']\n",
            "['2020-05-31', 'Brasil', '33274', '956', '498440', '28834']\n",
            "['2020-06-01', 'Brasil', '16409', '480', '514849', '29314']\n",
            "['2020-06-02', 'Brasil', '11598', '623', '526447', '29937']\n",
            "['2020-06-03', 'Brasil', '28936', '1262', '555383', '31199']\n",
            "['2020-06-04', 'Brasil', '28633', '1349', '584016', '32548']\n",
            "['2020-06-05', 'Brasil', '30916', '1473', '614932', '34021']\n",
            "['2020-06-06', 'Brasil', '30830', '1005', '645762', '35026']\n",
            "['2020-06-07', 'Brasil', '27075', '904', '672837', '35930']\n",
            "['2020-06-08', 'Brasil', '18921', '525', '691758', '36455']\n",
            "['2020-06-09', 'Brasil', '15654', '679', '707412', '37134']\n",
            "['2020-06-10', 'Brasil', '32091', '1272', '739503', '38406']\n",
            "['2020-06-11', 'Brasil', '32913', '1274', '772416', '39680']\n",
            "['2020-06-12', 'Brasil', '30412', '1239', '802828', '40919']\n",
            "['2020-06-13', 'Brasil', '25982', '909', '828810', '41828']\n",
            "['2020-06-14', 'Brasil', '21704', '892', '850514', '42720']\n",
            "['2020-06-15', 'Brasil', '17110', '612', '867624', '43332']\n",
            "['2020-06-16', 'Brasil', '20647', '627', '888271', '43959']\n"
          ]
        }
      ]
    },
    {
      "cell_type": "code",
      "metadata": {
        "id": "LY1IqRoDBhQV",
        "colab": {
          "base_uri": "https://localhost:8080/"
        },
        "outputId": "3a12214b-749f-4b23-b3cb-f0281856ecc2"
      },
      "source": [
        "\n",
        "with open('brasil_covid.csv', 'r', encoding ='utf-8') as arquivo_csv:\n",
        "  leitor = csv.reader(arquivo_csv)\n",
        "  header = next(leitor)\n",
        "  for linha in leitor:\n",
        "    if float(linha[2])>1:\n",
        "      print(linha)"
      ],
      "execution_count": 37,
      "outputs": [
        {
          "output_type": "stream",
          "name": "stdout",
          "text": [
            "['2020-03-06', 'Brasil', '5', '0', '8', '0']\n",
            "['2020-03-07', 'Brasil', '5', '0', '13', '0']\n",
            "['2020-03-09', 'Brasil', '12', '0', '25', '0']\n",
            "['2020-03-11', 'Brasil', '9', '0', '34', '0']\n",
            "['2020-03-12', 'Brasil', '18', '0', '52', '0']\n",
            "['2020-03-13', 'Brasil', '25', '0', '77', '0']\n",
            "['2020-03-14', 'Brasil', '21', '0', '98', '0']\n",
            "['2020-03-15', 'Brasil', '23', '0', '121', '0']\n",
            "['2020-03-16', 'Brasil', '79', '0', '200', '0']\n",
            "['2020-03-17', 'Brasil', '34', '0', '234', '0']\n",
            "['2020-03-18', 'Brasil', '57', '1', '291', '1']\n",
            "['2020-03-19', 'Brasil', '137', '3', '428', '4']\n",
            "['2020-03-20', 'Brasil', '193', '2', '621', '6']\n",
            "['2020-03-21', 'Brasil', '283', '5', '904', '11']\n",
            "['2020-03-22', 'Brasil', '224', '7', '1128', '18']\n",
            "['2020-03-23', 'Brasil', '418', '7', '1546', '25']\n",
            "['2020-03-24', 'Brasil', '345', '9', '1891', '34']\n",
            "['2020-03-25', 'Brasil', '310', '12', '2201', '46']\n",
            "['2020-03-26', 'Brasil', '232', '11', '2433', '57']\n",
            "['2020-03-27', 'Brasil', '482', '20', '2915', '77']\n",
            "['2020-03-28', 'Brasil', '502', '15', '3417', '92']\n",
            "['2020-03-29', 'Brasil', '487', '22', '3904', '114']\n",
            "['2020-03-30', 'Brasil', '352', '22', '4256', '136']\n",
            "['2020-03-31', 'Brasil', '323', '23', '4579', '159']\n",
            "['2020-04-01', 'Brasil', '1138', '42', '5717', '201']\n",
            "['2020-04-02', 'Brasil', '1119', '40', '6836', '241']\n",
            "['2020-04-03', 'Brasil', '1074', '58', '7910', '299']\n",
            "['2020-04-04', 'Brasil', '1146', '60', '9056', '359']\n",
            "['2020-04-05', 'Brasil', '1222', '73', '10278', '432']\n",
            "['2020-04-06', 'Brasil', '852', '54', '11130', '486']\n",
            "['2020-04-07', 'Brasil', '926', '67', '12056', '553']\n",
            "['2020-04-08', 'Brasil', '1661', '114', '13717', '667']\n",
            "['2020-04-09', 'Brasil', '2210', '133', '15927', '800']\n",
            "['2020-04-10', 'Brasil', '1930', '141', '17857', '941']\n",
            "['2020-04-11', 'Brasil', '1781', '115', '19638', '1056']\n",
            "['2020-04-12', 'Brasil', '1089', '68', '20727', '1124']\n",
            "['2020-04-13', 'Brasil', '1442', '99', '22169', '1223']\n",
            "['2020-04-14', 'Brasil', '1261', '105', '23430', '1328']\n",
            "['2020-04-15', 'Brasil', '1832', '204', '25262', '1532']\n",
            "['2020-04-16', 'Brasil', '3058', '204', '28320', '1736']\n",
            "['2020-04-17', 'Brasil', '2105', '188', '30425', '1924']\n",
            "['2020-04-18', 'Brasil', '3257', '217', '33682', '2141']\n",
            "['2020-04-19', 'Brasil', '2917', '206', '36599', '2347']\n",
            "['2020-04-20', 'Brasil', '2055', '115', '38654', '2462']\n",
            "['2020-04-21', 'Brasil', '1927', '113', '40581', '2575']\n",
            "['2020-04-22', 'Brasil', '2498', '166', '43079', '2741']\n",
            "['2020-04-23', 'Brasil', '2678', '165', '45757', '2906']\n",
            "['2020-04-24', 'Brasil', '3735', '407', '49492', '3313']\n",
            "['2020-04-25', 'Brasil', '3503', '357', '52995', '3670']\n",
            "['2020-04-26', 'Brasil', '5514', '346', '58509', '4016']\n",
            "['2020-04-27', 'Brasil', '3379', '189', '61888', '4205']\n",
            "['2020-04-28', 'Brasil', '4613', '338', '66501', '4543']\n",
            "['2020-04-29', 'Brasil', '5385', '474', '71886', '5017']\n",
            "['2020-04-30', 'Brasil', '6276', '449', '78162', '5466']\n",
            "['2020-05-01', 'Brasil', '7218', '435', '85380', '5901']\n",
            "['2020-05-02', 'Brasil', '6209', '428', '91589', '6329']\n",
            "['2020-05-03', 'Brasil', '4970', '421', '96559', '6750']\n",
            "['2020-05-04', 'Brasil', '4588', '275', '101147', '7025']\n",
            "['2020-05-05', 'Brasil', '6633', '296', '107780', '7321']\n",
            "['2020-05-06', 'Brasil', '6935', '600', '114715', '7921']\n",
            "['2020-05-07', 'Brasil', '10503', '615', '125218', '8536']\n",
            "['2020-05-08', 'Brasil', '9888', '610', '135106', '9146']\n",
            "['2020-05-09', 'Brasil', '10222', '751', '145328', '9897']\n",
            "['2020-05-10', 'Brasil', '10611', '730', '155939', '10627']\n",
            "['2020-05-11', 'Brasil', '6760', '496', '162699', '11123']\n",
            "['2020-05-12', 'Brasil', '5632', '396', '168331', '11519']\n",
            "['2020-05-13', 'Brasil', '9258', '881', '177589', '12400']\n",
            "['2020-05-14', 'Brasil', '11385', '749', '188974', '13149']\n",
            "['2020-05-15', 'Brasil', '13944', '844', '202918', '13993']\n",
            "['2020-05-16', 'Brasil', '15305', '824', '218223', '14817']\n",
            "['2020-05-17', 'Brasil', '14919', '816', '233142', '15633']\n",
            "['2020-05-18', 'Brasil', '7938', '485', '241080', '16118']\n",
            "['2020-05-19', 'Brasil', '13140', '674', '254220', '16792']\n",
            "['2020-05-20', 'Brasil', '17408', '1179', '271628', '17971']\n",
            "['2020-05-21', 'Brasil', '19951', '888', '291579', '18859']\n",
            "['2020-05-22', 'Brasil', '18508', '1188', '310087', '20047']\n",
            "['2020-05-23', 'Brasil', '20803', '1001', '330890', '21048']\n",
            "['2020-05-24', 'Brasil', '16508', '965', '347398', '22013']\n",
            "['2020-05-25', 'Brasil', '15813', '653', '363211', '22666']\n",
            "['2020-05-26', 'Brasil', '11687', '807', '374898', '23473']\n",
            "['2020-05-27', 'Brasil', '16324', '1039', '391222', '24512']\n",
            "['2020-05-28', 'Brasil', '20599', '1086', '411821', '25598']\n",
            "['2020-05-29', 'Brasil', '26417', '1156', '438238', '26754']\n",
            "['2020-05-30', 'Brasil', '26928', '1124', '465166', '27878']\n",
            "['2020-05-31', 'Brasil', '33274', '956', '498440', '28834']\n",
            "['2020-06-01', 'Brasil', '16409', '480', '514849', '29314']\n",
            "['2020-06-02', 'Brasil', '11598', '623', '526447', '29937']\n",
            "['2020-06-03', 'Brasil', '28936', '1262', '555383', '31199']\n",
            "['2020-06-04', 'Brasil', '28633', '1349', '584016', '32548']\n",
            "['2020-06-05', 'Brasil', '30916', '1473', '614932', '34021']\n",
            "['2020-06-06', 'Brasil', '30830', '1005', '645762', '35026']\n",
            "['2020-06-07', 'Brasil', '27075', '904', '672837', '35930']\n",
            "['2020-06-08', 'Brasil', '18921', '525', '691758', '36455']\n",
            "['2020-06-09', 'Brasil', '15654', '679', '707412', '37134']\n",
            "['2020-06-10', 'Brasil', '32091', '1272', '739503', '38406']\n",
            "['2020-06-11', 'Brasil', '32913', '1274', '772416', '39680']\n",
            "['2020-06-12', 'Brasil', '30412', '1239', '802828', '40919']\n",
            "['2020-06-13', 'Brasil', '25982', '909', '828810', '41828']\n",
            "['2020-06-14', 'Brasil', '21704', '892', '850514', '42720']\n",
            "['2020-06-15', 'Brasil', '17110', '612', '867624', '43332']\n",
            "['2020-06-16', 'Brasil', '20647', '627', '888271', '43959']\n"
          ]
        }
      ]
    },
    {
      "cell_type": "code",
      "metadata": {
        "id": "97arAM4nFGKa",
        "colab": {
          "base_uri": "https://localhost:8080/"
        },
        "outputId": "6647fbae-e1e8-4328-9aac-175ac6f34785"
      },
      "source": [
        "with open('brasil_covid.csv', 'r') as csv_file:\n",
        "  linhas = csv_file.read()\n",
        "  linhas = linhas.split('\\n')\n",
        "  for linha in linhas:\n",
        "    linhas = linha.split(',')\n",
        "    print(linha)"
      ],
      "execution_count": 39,
      "outputs": [
        {
          "output_type": "stream",
          "name": "stdout",
          "text": [
            "data,pais,novos_casos,novos_obitos,total_casos,total_obitos\n",
            "2019-12-31,Brasil,0,0,0,0\n",
            "2020-01-01,Brasil,0,0,0,0\n",
            "2020-01-02,Brasil,0,0,0,0\n",
            "2020-01-03,Brasil,0,0,0,0\n",
            "2020-01-04,Brasil,0,0,0,0\n",
            "2020-01-05,Brasil,0,0,0,0\n",
            "2020-01-06,Brasil,0,0,0,0\n",
            "2020-01-07,Brasil,0,0,0,0\n",
            "2020-01-08,Brasil,0,0,0,0\n",
            "2020-01-09,Brasil,0,0,0,0\n",
            "2020-01-10,Brasil,0,0,0,0\n",
            "2020-01-11,Brasil,0,0,0,0\n",
            "2020-01-12,Brasil,0,0,0,0\n",
            "2020-01-13,Brasil,0,0,0,0\n",
            "2020-01-14,Brasil,0,0,0,0\n",
            "2020-01-15,Brasil,0,0,0,0\n",
            "2020-01-16,Brasil,0,0,0,0\n",
            "2020-01-17,Brasil,0,0,0,0\n",
            "2020-01-18,Brasil,0,0,0,0\n",
            "2020-01-19,Brasil,0,0,0,0\n",
            "2020-01-20,Brasil,0,0,0,0\n",
            "2020-01-21,Brasil,0,0,0,0\n",
            "2020-01-22,Brasil,0,0,0,0\n",
            "2020-01-23,Brasil,0,0,0,0\n",
            "2020-01-24,Brasil,0,0,0,0\n",
            "2020-01-25,Brasil,0,0,0,0\n",
            "2020-01-26,Brasil,0,0,0,0\n",
            "2020-01-27,Brasil,0,0,0,0\n",
            "2020-01-28,Brasil,0,0,0,0\n",
            "2020-01-29,Brasil,0,0,0,0\n",
            "2020-01-30,Brasil,0,0,0,0\n",
            "2020-01-31,Brasil,0,0,0,0\n",
            "2020-02-01,Brasil,0,0,0,0\n",
            "2020-02-02,Brasil,0,0,0,0\n",
            "2020-02-03,Brasil,0,0,0,0\n",
            "2020-02-04,Brasil,0,0,0,0\n",
            "2020-02-05,Brasil,0,0,0,0\n",
            "2020-02-06,Brasil,0,0,0,0\n",
            "2020-02-07,Brasil,0,0,0,0\n",
            "2020-02-08,Brasil,0,0,0,0\n",
            "2020-02-09,Brasil,0,0,0,0\n",
            "2020-02-10,Brasil,0,0,0,0\n",
            "2020-02-11,Brasil,0,0,0,0\n",
            "2020-02-12,Brasil,0,0,0,0\n",
            "2020-02-13,Brasil,0,0,0,0\n",
            "2020-02-14,Brasil,0,0,0,0\n",
            "2020-02-15,Brasil,0,0,0,0\n",
            "2020-02-16,Brasil,0,0,0,0\n",
            "2020-02-17,Brasil,0,0,0,0\n",
            "2020-02-18,Brasil,0,0,0,0\n",
            "2020-02-19,Brasil,0,0,0,0\n",
            "2020-02-20,Brasil,0,0,0,0\n",
            "2020-02-21,Brasil,0,0,0,0\n",
            "2020-02-22,Brasil,0,0,0,0\n",
            "2020-02-23,Brasil,0,0,0,0\n",
            "2020-02-24,Brasil,0,0,0,0\n",
            "2020-02-25,Brasil,0,0,0,0\n",
            "2020-02-26,Brasil,1,0,1,0\n",
            "2020-02-27,Brasil,0,0,1,0\n",
            "2020-02-28,Brasil,0,0,1,0\n",
            "2020-02-29,Brasil,0,0,1,0\n",
            "2020-03-01,Brasil,1,0,2,0\n",
            "2020-03-02,Brasil,0,0,2,0\n",
            "2020-03-03,Brasil,0,0,2,0\n",
            "2020-03-04,Brasil,0,0,2,0\n",
            "2020-03-05,Brasil,1,0,3,0\n",
            "2020-03-06,Brasil,5,0,8,0\n",
            "2020-03-07,Brasil,5,0,13,0\n",
            "2020-03-08,Brasil,0,0,13,0\n",
            "2020-03-09,Brasil,12,0,25,0\n",
            "2020-03-10,Brasil,0,0,25,0\n",
            "2020-03-11,Brasil,9,0,34,0\n",
            "2020-03-12,Brasil,18,0,52,0\n",
            "2020-03-13,Brasil,25,0,77,0\n",
            "2020-03-14,Brasil,21,0,98,0\n",
            "2020-03-15,Brasil,23,0,121,0\n",
            "2020-03-16,Brasil,79,0,200,0\n",
            "2020-03-17,Brasil,34,0,234,0\n",
            "2020-03-18,Brasil,57,1,291,1\n",
            "2020-03-19,Brasil,137,3,428,4\n",
            "2020-03-20,Brasil,193,2,621,6\n",
            "2020-03-21,Brasil,283,5,904,11\n",
            "2020-03-22,Brasil,224,7,1128,18\n",
            "2020-03-23,Brasil,418,7,1546,25\n",
            "2020-03-24,Brasil,345,9,1891,34\n",
            "2020-03-25,Brasil,310,12,2201,46\n",
            "2020-03-26,Brasil,232,11,2433,57\n",
            "2020-03-27,Brasil,482,20,2915,77\n",
            "2020-03-28,Brasil,502,15,3417,92\n",
            "2020-03-29,Brasil,487,22,3904,114\n",
            "2020-03-30,Brasil,352,22,4256,136\n",
            "2020-03-31,Brasil,323,23,4579,159\n",
            "2020-04-01,Brasil,1138,42,5717,201\n",
            "2020-04-02,Brasil,1119,40,6836,241\n",
            "2020-04-03,Brasil,1074,58,7910,299\n",
            "2020-04-04,Brasil,1146,60,9056,359\n",
            "2020-04-05,Brasil,1222,73,10278,432\n",
            "2020-04-06,Brasil,852,54,11130,486\n",
            "2020-04-07,Brasil,926,67,12056,553\n",
            "2020-04-08,Brasil,1661,114,13717,667\n",
            "2020-04-09,Brasil,2210,133,15927,800\n",
            "2020-04-10,Brasil,1930,141,17857,941\n",
            "2020-04-11,Brasil,1781,115,19638,1056\n",
            "2020-04-12,Brasil,1089,68,20727,1124\n",
            "2020-04-13,Brasil,1442,99,22169,1223\n",
            "2020-04-14,Brasil,1261,105,23430,1328\n",
            "2020-04-15,Brasil,1832,204,25262,1532\n",
            "2020-04-16,Brasil,3058,204,28320,1736\n",
            "2020-04-17,Brasil,2105,188,30425,1924\n",
            "2020-04-18,Brasil,3257,217,33682,2141\n",
            "2020-04-19,Brasil,2917,206,36599,2347\n",
            "2020-04-20,Brasil,2055,115,38654,2462\n",
            "2020-04-21,Brasil,1927,113,40581,2575\n",
            "2020-04-22,Brasil,2498,166,43079,2741\n",
            "2020-04-23,Brasil,2678,165,45757,2906\n",
            "2020-04-24,Brasil,3735,407,49492,3313\n",
            "2020-04-25,Brasil,3503,357,52995,3670\n",
            "2020-04-26,Brasil,5514,346,58509,4016\n",
            "2020-04-27,Brasil,3379,189,61888,4205\n",
            "2020-04-28,Brasil,4613,338,66501,4543\n",
            "2020-04-29,Brasil,5385,474,71886,5017\n",
            "2020-04-30,Brasil,6276,449,78162,5466\n",
            "2020-05-01,Brasil,7218,435,85380,5901\n",
            "2020-05-02,Brasil,6209,428,91589,6329\n",
            "2020-05-03,Brasil,4970,421,96559,6750\n",
            "2020-05-04,Brasil,4588,275,101147,7025\n",
            "2020-05-05,Brasil,6633,296,107780,7321\n",
            "2020-05-06,Brasil,6935,600,114715,7921\n",
            "2020-05-07,Brasil,10503,615,125218,8536\n",
            "2020-05-08,Brasil,9888,610,135106,9146\n",
            "2020-05-09,Brasil,10222,751,145328,9897\n",
            "2020-05-10,Brasil,10611,730,155939,10627\n",
            "2020-05-11,Brasil,6760,496,162699,11123\n",
            "2020-05-12,Brasil,5632,396,168331,11519\n",
            "2020-05-13,Brasil,9258,881,177589,12400\n",
            "2020-05-14,Brasil,11385,749,188974,13149\n",
            "2020-05-15,Brasil,13944,844,202918,13993\n",
            "2020-05-16,Brasil,15305,824,218223,14817\n",
            "2020-05-17,Brasil,14919,816,233142,15633\n",
            "2020-05-18,Brasil,7938,485,241080,16118\n",
            "2020-05-19,Brasil,13140,674,254220,16792\n",
            "2020-05-20,Brasil,17408,1179,271628,17971\n",
            "2020-05-21,Brasil,19951,888,291579,18859\n",
            "2020-05-22,Brasil,18508,1188,310087,20047\n",
            "2020-05-23,Brasil,20803,1001,330890,21048\n",
            "2020-05-24,Brasil,16508,965,347398,22013\n",
            "2020-05-25,Brasil,15813,653,363211,22666\n",
            "2020-05-26,Brasil,11687,807,374898,23473\n",
            "2020-05-27,Brasil,16324,1039,391222,24512\n",
            "2020-05-28,Brasil,20599,1086,411821,25598\n",
            "2020-05-29,Brasil,26417,1156,438238,26754\n",
            "2020-05-30,Brasil,26928,1124,465166,27878\n",
            "2020-05-31,Brasil,33274,956,498440,28834\n",
            "2020-06-01,Brasil,16409,480,514849,29314\n",
            "2020-06-02,Brasil,11598,623,526447,29937\n",
            "2020-06-03,Brasil,28936,1262,555383,31199\n",
            "2020-06-04,Brasil,28633,1349,584016,32548\n",
            "2020-06-05,Brasil,30916,1473,614932,34021\n",
            "2020-06-06,Brasil,30830,1005,645762,35026\n",
            "2020-06-07,Brasil,27075,904,672837,35930\n",
            "2020-06-08,Brasil,18921,525,691758,36455\n",
            "2020-06-09,Brasil,15654,679,707412,37134\n",
            "2020-06-10,Brasil,32091,1272,739503,38406\n",
            "2020-06-11,Brasil,32913,1274,772416,39680\n",
            "2020-06-12,Brasil,30412,1239,802828,40919\n",
            "2020-06-13,Brasil,25982,909,828810,41828\n",
            "2020-06-14,Brasil,21704,892,850514,42720\n",
            "2020-06-15,Brasil,17110,612,867624,43332\n",
            "2020-06-16,Brasil,20647,627,888271,43959\n"
          ]
        }
      ]
    },
    {
      "cell_type": "code",
      "metadata": {
        "id": "dQc5515_HR4i"
      },
      "source": [
        "with open('users.csv', 'w', encoding='utf-8',newline='') as arquivo_users:\n",
        "  escritor = csv.writer(arquivo_users)\n",
        "  escritor.writerow(['nome','sobrenome','email','genero'])\n",
        "  escritor.writerow(['Aelso','Brito','aelsus@yahoo.com.br','Masculino'])   "
      ],
      "execution_count": 40,
      "outputs": []
    },
    {
      "cell_type": "code",
      "metadata": {
        "id": "mIbgBI3oKOtN",
        "colab": {
          "base_uri": "https://localhost:8080/"
        },
        "outputId": "e7d13c80-c2df-4d53-f5b7-24f3f5a72c0e"
      },
      "source": [
        "header = ['nome','sobrenome']\n",
        "dados = []\n",
        "opt = input('O que deseja fazer?\\n1 - Cadastrar\\n0 - Sair\\n')\n",
        "while opt !='0':\n",
        "  nome = input('Qual seu nome? ')\n",
        "  sobrenome = input('Qual seu sobrenome?')\n",
        "  dados.append([nome,sobrenome])\n",
        "  opt = input('O que deseja fazer?\\n1 - Cadastro\\n0 - Sair\\n0')\n",
        "\n",
        "print(dados)\n",
        "\n",
        "with open('users.csv', 'w', encoding='utf-8',newline='') as arquivo_csv:\n",
        "  escritor = csv.writer(arquivo_csv)\n",
        "  escritor.writerow(header)\n",
        "  escritor.writerow(dados) \n",
        "\n",
        "with open('users.csv', 'r') as csv_file:\n",
        "  csv_reader = csv.reader(csv_file,delimiter =',')\n",
        "  for row in csv_reader:\n",
        "    print(row)"
      ],
      "execution_count": 41,
      "outputs": [
        {
          "output_type": "stream",
          "name": "stdout",
          "text": [
            "O que deseja fazer?\n",
            "1 - Cadastrar\n",
            "0 - Sair\n",
            "0\n",
            "[]\n",
            "['nome', 'sobrenome']\n",
            "[]\n"
          ]
        }
      ]
    },
    {
      "cell_type": "markdown",
      "metadata": {
        "id": "q6KSfQKAx-gV"
      },
      "source": [
        "**CSV**\n",
        "\n",
        "`O formato CSV (Comma Separated Values, ou Valores Separados por Vírgula) é um arquivo de texto que representa dados em forma de tabela de forma simples.`\n",
        "\n",
        "`Cada linha do arquivo de texto é uma linha da tabela, e as colunas são separadas por vírgulas.`\n",
        "\n",
        "`1, 2, 3, 4`\n",
        "\n",
        "`5, 6, 7, 8`\n",
        "\n",
        "`9, 10, 11, 12`\n",
        "\n",
        "`Poderíamos manipular estes arquivos diretamente usando as funções de arquivo vistas anteriormente. Um fator complicador é que o formato CSV não é bem padronizado: apesar do nome, é normal que outros separadores sejam usados ao invés de vírgula, como \";\", para permitir que a vírgula seja usada em um campo. Idem para a separação entre linhas. Existe um módulo em Python para manipular arquivos CSV que nos ajuda a tratar essas diferenças. Todo programa que for utilizar o módulo CSV deverá importá-lo em seu início através do comando: import csv`"
      ]
    },
    {
      "cell_type": "code",
      "metadata": {
        "id": "ToW6Tzd-ySJM",
        "colab": {
          "base_uri": "https://localhost:8080/"
        },
        "outputId": "02110710-deea-41a6-e362-3ee1a919b816"
      },
      "source": [
        "import csv\n",
        "\n",
        "with open('tabelaExemplo.csv', 'w') as arquivo:\n",
        "    escritor = csv.writer(arquivo, delimiter = ';', lineterminator = '\\n') #criando um escritor\n",
        "    lista = [[1, 2, 3], [4, 5, 6], [7, 8, 9]]\n",
        "    escritor.writerows(lista) # writerows escreve cada \"sublista\" da lista como uma linha\n",
        "\n",
        "with open('tabelaExemplo.csv', \"r\") as arquivo:\n",
        "    leitor = csv.reader(arquivo, delimiter = ';', lineterminator = '\\n') #criando um leitor\n",
        "    print(\"O conteúdo do arquivo é:\")\n",
        "    print(leitor)\n",
        "    for linha in leitor:\n",
        "        print(linha)\n",
        "#DictReader e DictWriter\n",
        "#Podemos também trabalhar com dicionários, nos quais a primeira linha é lida como a chave e as demais são os respectivos valores:"
      ],
      "execution_count": 42,
      "outputs": [
        {
          "output_type": "stream",
          "name": "stdout",
          "text": [
            "O conteúdo do arquivo é:\n",
            "<_csv.reader object at 0x7f3beb02a9d0>\n",
            "['1', '2', '3']\n",
            "['4', '5', '6']\n",
            "['7', '8', '9']\n"
          ]
        }
      ]
    },
    {
      "cell_type": "code",
      "metadata": {
        "id": "Ac8ctrygykfL",
        "colab": {
          "base_uri": "https://localhost:8080/",
          "height": 235
        },
        "outputId": "ffe50ae7-f4cd-4743-b1fb-9f00905f6b61"
      },
      "source": [
        "import csv\n",
        "\n",
        "with open('email.csv', 'r') as emails:\n",
        "    leitor = csv.DictReader(emails, delimiter=';') #a primeira linha é lida como um cabeçalho\n",
        "    for linha in leitor:\n",
        "        print(linha['Login email']) #podemos chamar um valor específico de cada linha pela chave no cabeçallho\n",
        "\n",
        "\n",
        "with open('names.csv', 'w', newline='') as csvfile:\n",
        "    chaves = ['first_name', 'last_name'] # definimos o cabeçalho\n",
        "    writer = csv.DictWriter(csvfile, fieldnames=chaves) # especificamos o cabeçalho\n",
        "\n",
        "    writer.writeheader() # escrevemos o cabeçalho\n",
        "    writer.writerow({'first_name': 'Senhor', 'last_name': 'Batata'}) # escrevemos linhas com as chaves e valores\n",
        "    writer.writerow({'first_name': 'Will', 'last_name': 'Smith'})\n",
        "    writer.writerow({'first_name': 'Elon', 'last_name': 'Musk'})"
      ],
      "execution_count": 44,
      "outputs": [
        {
          "output_type": "error",
          "ename": "FileNotFoundError",
          "evalue": "ignored",
          "traceback": [
            "\u001b[0;31m---------------------------------------------------------------------------\u001b[0m",
            "\u001b[0;31mFileNotFoundError\u001b[0m                         Traceback (most recent call last)",
            "\u001b[0;32m<ipython-input-44-210611615cfc>\u001b[0m in \u001b[0;36m<module>\u001b[0;34m()\u001b[0m\n\u001b[1;32m      1\u001b[0m \u001b[0;32mimport\u001b[0m \u001b[0mcsv\u001b[0m\u001b[0;34m\u001b[0m\u001b[0;34m\u001b[0m\u001b[0m\n\u001b[1;32m      2\u001b[0m \u001b[0;34m\u001b[0m\u001b[0m\n\u001b[0;32m----> 3\u001b[0;31m \u001b[0;32mwith\u001b[0m \u001b[0mopen\u001b[0m\u001b[0;34m(\u001b[0m\u001b[0;34m'email.csv'\u001b[0m\u001b[0;34m,\u001b[0m \u001b[0;34m'r'\u001b[0m\u001b[0;34m)\u001b[0m \u001b[0;32mas\u001b[0m \u001b[0memails\u001b[0m\u001b[0;34m:\u001b[0m\u001b[0;34m\u001b[0m\u001b[0;34m\u001b[0m\u001b[0m\n\u001b[0m\u001b[1;32m      4\u001b[0m     \u001b[0mleitor\u001b[0m \u001b[0;34m=\u001b[0m \u001b[0mcsv\u001b[0m\u001b[0;34m.\u001b[0m\u001b[0mDictReader\u001b[0m\u001b[0;34m(\u001b[0m\u001b[0memails\u001b[0m\u001b[0;34m,\u001b[0m \u001b[0mdelimiter\u001b[0m\u001b[0;34m=\u001b[0m\u001b[0;34m';'\u001b[0m\u001b[0;34m)\u001b[0m \u001b[0;31m#a primeira linha é lida como um cabeçalho\u001b[0m\u001b[0;34m\u001b[0m\u001b[0;34m\u001b[0m\u001b[0m\n\u001b[1;32m      5\u001b[0m     \u001b[0;32mfor\u001b[0m \u001b[0mlinha\u001b[0m \u001b[0;32min\u001b[0m \u001b[0mleitor\u001b[0m\u001b[0;34m:\u001b[0m\u001b[0;34m\u001b[0m\u001b[0;34m\u001b[0m\u001b[0m\n",
            "\u001b[0;31mFileNotFoundError\u001b[0m: [Errno 2] No such file or directory: 'email.csv'"
          ]
        }
      ]
    },
    {
      "cell_type": "markdown",
      "metadata": {
        "id": "UiXsR_XkNvtf"
      },
      "source": [
        "##Aula 03 - APIs"
      ]
    },
    {
      "cell_type": "code",
      "metadata": {
        "id": "vped16GGOvle"
      },
      "source": [
        "!pip install requests"
      ],
      "execution_count": null,
      "outputs": []
    },
    {
      "cell_type": "code",
      "metadata": {
        "id": "BYs8VTR1OzUF"
      },
      "source": [
        "import requests"
      ],
      "execution_count": null,
      "outputs": []
    },
    {
      "cell_type": "code",
      "metadata": {
        "id": "sR5clnEOO36M"
      },
      "source": [
        "url = 'https://open.er-api.com/v6/latest/USD'\n",
        "\n",
        "req = requests.get(url)\n",
        "\n",
        "print(req.status_code)"
      ],
      "execution_count": null,
      "outputs": []
    },
    {
      "cell_type": "code",
      "metadata": {
        "id": "VegUIhxCPcLU"
      },
      "source": [
        "dados = req.json()\n",
        "print(dados)"
      ],
      "execution_count": null,
      "outputs": []
    },
    {
      "cell_type": "code",
      "metadata": {
        "id": "PPE5eW1KPvsA"
      },
      "source": [
        "valor_reais = float(input('Informe o valor em R$ a ser convertido\\n'))\n",
        "cotacao = dados['rates']['BRL']\n",
        "print(f'R$ {valor_reais} em dólar valem US$ {(valor_reais / cotacao):.2f}')"
      ],
      "execution_count": null,
      "outputs": []
    },
    {
      "cell_type": "markdown",
      "metadata": {
        "id": "EkJNL2hayreT"
      },
      "source": [
        "`Clique aqui para acessar a documentação da Exchange Rate API.`\n",
        "\n",
        "https://www.exchangerate-api.com/docs/free-exchange-rate-api"
      ]
    },
    {
      "cell_type": "markdown",
      "metadata": {
        "id": "P4-jvod2yyqW"
      },
      "source": [
        "**Application Programming Interface**\n",
        "\n",
        "`Hoje em dia é muito comum que diferentes aplicações consumam dados pela internet, muitas vezes dados providenciados por terceiros. Por exemplo, um aplicativo de entrega de alimentos pode usar dados de geolocalização do Google para localizar restaurantes próximos ao usuário e exibir a rota percorrida pelo entregador.`\n",
        "\n",
        "`Como as aplicações podem rodar em diferentes plataformas (Windows, Android, MacOS, iOS, um navegador de internet...), é importante estabelecer uma linguagem comum para que todos consigam consumir esses dados.`"
      ]
    },
    {
      "cell_type": "markdown",
      "metadata": {
        "id": "Q9v7Zt3ny4l5"
      },
      "source": [
        "`Essa \"linguagem comum\" é o que chamamos de API: Application Programming Interface. A organização que disponibiliza os dados estabelece algumas \"regrinhas\" para fazermos requisições, e em contrapartida ela garante que os recursos fornecidos também seguirão certos padrões, facilitando a vida dos programadores.`\n",
        "\n",
        "`Portanto, quando decidimos utilizar uma API, a primeira coisa que precisamos fazer é estudar sua documentação. Vejamos alguns dos pontos mais relevantes para procurar.`\n",
        "\n",
        "`Todos os exemplos de requisição que mostraremos aqui podem ser colados em seu navegador ou estudados usando um requests.get no Python e imprimindo seu campo text.`"
      ]
    },
    {
      "cell_type": "markdown",
      "metadata": {
        "id": "vdO0wC2ezDKM"
      },
      "source": [
        "**URI base**\n",
        "\n",
        "`Várias APIs fornecem um \"endereço base\". Todas as suas requisições incluirão esse endereço, e ao final dele nós colocamos detalhes específicos para cada um dos recursos disponíveis.`"
      ]
    },
    {
      "cell_type": "markdown",
      "metadata": {
        "id": "m96Gfj5fzKfV"
      },
      "source": [
        "`Por exemplo, na AlphaVantage (https://www.alphavantage.co/), uma API de dados de bolsas de valores e criptomoedas, a URI base é:`\n",
        "\n",
        "https://www.alphavantage.co/query?\n",
        "\n",
        "`Após a interrogação nós colocaremos os campos para nossa consulta. Por exemplo, para fazer uma consulta sem autenticação para valores da IBM, de 5 em 5 minutos, o endereço completo fica:`\n",
        "\n",
        "https://www.alphavantage.co/query?function=TIME_SERIES_INTRADAY&symbol=IBM&interval=5min&apikey=demo\n",
        "\n",
        "`Note o formato com &NomeDoCampo=ValorDoCampo. Ele é bastante comum. Outro formato bastante comum é o de \"subdiretórios\".`\n",
        "\n",
        "`Um exemplo é a PokéAPI. A URI base é:`\n",
        "\n",
        "https://pokeapi.co/api/v2/\n",
        "\n",
        "`Para procurar por pokémons, adicionamos pokemon/. Em seguida, podemos colocar números (índices) ou nomes de Pokémon, como:`\n",
        "\n",
        "https://pokeapi.co/api/v2/pokemon/ditto/\n",
        "\n",
        "https://pokeapi.co/api/v2/pokemon/25\n",
        "\n",
        "`Se ao invés de pokémons estivéssemos interessados em tipos de pokémon, usaríamos types/ e o nome ou índice do tipo desejado:`\n",
        "\n",
        "https://pokeapi.co/api/v2/type/ghost"
      ]
    },
    {
      "cell_type": "markdown",
      "metadata": {
        "id": "fcz7knABzfQN"
      },
      "source": [
        "**Formato**\n",
        "\n",
        "**Tipo de dado**\n",
        "\n",
        "`Algumas APIs possuem formatos fixos de dados. Outros permitem que você escolha. É comum, por exemplo, que uma API permita que você escolha entre JSON, XML, CSV e/ou outros formatos.`\n",
        "\n",
        "`Caso você tenha entrado no AlphaVantage e se registrado para obter uma chave (falaremos mais adiante), você pode especificar, por exemplo, que gostaria de resultados no formato CSV`:\n",
        "\n",
        "https://www.alphavantage.co/query?function=TIME_SERIES_INTRADAY&symbol=IBM&interval=5min&dataformat=csv&apikey=demo\n",
        "\n",
        "`Substitua \"demo\" por sua chave no exemplo acima e ele funcionará.`"
      ]
    },
    {
      "cell_type": "markdown",
      "metadata": {
        "id": "VF6essJRzp91"
      },
      "source": [
        "**Schema**\n",
        "\n",
        "`É bastante comum que as APIs disponibilizem um \"modelo\" genérico de como será formatado o seu JSON, XML etc para que os desenvolvedores saibam quais campos esperar e quais tipos de dados serão possíveis para cada campo. Por exemplo:`\n"
      ]
    },
    {
      "cell_type": "code",
      "metadata": {
        "id": "7-bwVWvjyrJ0"
      },
      "source": [
        "\n",
        "{  'nome':string,\n",
        "   'pontuacao':integer\n",
        "}"
      ],
      "execution_count": null,
      "outputs": []
    },
    {
      "cell_type": "markdown",
      "metadata": {
        "id": "N5Vh3v2cz7cm"
      },
      "source": [
        "**Autenticação**\n",
        "\n",
        "`Outro aspecto importante é a autenticação. Enquanto algumas APIs são grátis, outras são pagas. Ainda temos algumas híbridas: você pode gratuitamente acessar certos recursos, ou consumir um certo volume de dados, e acima disso você deverá pagar. Os dois modelos mais comuns de autenticação:`"
      ]
    },
    {
      "cell_type": "markdown",
      "metadata": {
        "id": "Q_CcjDKt0Af0"
      },
      "source": [
        "`Chave: ao fazer seu registro, você recebe uma chave que será inclusa na requisição, como é o caso do AlphaVantage.`\n",
        "\n",
        "`OAuth: um esquema um pouco mais complexo onde são combinados códigos de autorização, identificação do cliente e segredo do cliente em um POST, e o servidor cria uma sessão por um tempo limitado e fornece o ID da mesma. APIs de gigantes da internet (como Google e Facebook) costumam usar esse modelo.`"
      ]
    },
    {
      "cell_type": "markdown",
      "metadata": {
        "id": "JUtk477J0dz9"
      },
      "source": [
        "**Rate limiting**\n",
        "\n",
        "`Um dado parcialmente relacionado ao item anterior. As APIs costumam limitar o número de requisições que você pode fazer em um instante de tempo (3 requisições por minuto, 10000 requisições por dia etc). Temos dois motivos:`"
      ]
    },
    {
      "cell_type": "markdown",
      "metadata": {
        "id": "dPPWsOU80iSd"
      },
      "source": [
        "`Segurança: evitar uma sobrecarga no servidor deles que possa indisponibilizar a API para todos os usuários.`\n",
        "\n",
        "`Venda de planos: várias APIs pagas possuem diferentes planos de pagamento. Os planos mais caros costumam permitir mais requisições do que os mais baratos ou gratuitos.`"
      ]
    },
    {
      "cell_type": "markdown",
      "metadata": {
        "id": "fLOZeV6N0scO"
      },
      "source": [
        "**Wrappers**\n",
        "\n",
        "`Algumas APIs possuem tantas buscas diferentes e os resultados podem ser tão complexos que mesmo vindo em formatos simples como JSON pode ser um pouco trabalhoso montar as requisições e isolar os dados que queremos. Por conta disso, frequentemente são fornecidas wrapper`"
      ]
    },
    {
      "cell_type": "markdown",
      "metadata": {
        "id": "DvAha_ug0yXs"
      },
      "source": [
        "`libraries: bibliotecas escritas em linguagens de programação específicas que já trazem classes e funções prontas para fazer requisições automaticamente e já quebrar o resultado em objetos fáceis de serem utilizados. Elas também costumam oferecer alguns benefícios adicionais, como caching: de tempos em tempos a base de dados é totalmente ou parcialmente baixada por completo e salva localmente, o que ajuda a economizar requisições e, consequentemente, uso de dados (bastante útil considerando em usuários de dispositivos móveis, por exemplo).`"
      ]
    },
    {
      "cell_type": "markdown",
      "metadata": {
        "id": "IseM-ok308Je"
      },
      "source": [
        "**Sandbox**\n",
        "\n",
        "`Várias APIs possuem no mesmo site de sua documentação uma área conhecida como sandbox, onde você pode simular requisições no próprio navegador e ver não só a resposta formatada, como informações sobre como montar aquela requisição em software.`"
      ]
    },
    {
      "cell_type": "markdown",
      "metadata": {
        "id": "XRo366F-1It3"
      },
      "source": [
        "`Aqui podemos observar a área de sandbox para fazer consultas de gastos por meio de cartão de pagamento do Portal da Transparência do governo federal. Note que ele mostra o schema e apresenta campos para preenchermos as buscas.`\n",
        "\n",
        "`E aqui, o resultado: ele gera o endereço completo para a busca baseado nos valores preenchidos nos campos e mostra a resposta formatada.`"
      ]
    },
    {
      "cell_type": "markdown",
      "metadata": {
        "id": "hAkZ7OTc1SEN"
      },
      "source": [
        "**Consumindo APIs em Python**\n",
        "\n",
        "`As APIs são meios de nos conectarmos a recursos na internet. Portanto, já possuímos as ferramentas na mão desde os capítulos anteriores. Você irá construir a lógica para decidir o que você irá buscar/consultar, montará uma string seguindo o formato indicado pela documentação da API (como todos os exemplos deste capítulo). Em seguida você tratará a resposta de acordo`:\n",
        "\n",
        "`Se for JSON, utilize o método json da própria requests.`\n",
        "`Se for CSV, utilize o módulo CSV estudado anteriormente.`\n",
        "`Se for XML, podemos utilizar o módulo BeautifulSoup, que não será estudado aqui.`"
      ]
    },
    {
      "cell_type": "markdown",
      "metadata": {
        "id": "akYsNNBuQwaH"
      },
      "source": [
        "`Para outros formatos, provavelmente a solução mais fácil será baixar um módulo preparado para lidar com eles`."
      ]
    },
    {
      "cell_type": "markdown",
      "metadata": {
        "id": "MQDSoq2O1d3v"
      },
      "source": [
        "`Descobrindo APIs: tem boas ideias e gostaria de saber se existe uma boa API para ajudar? Confira alguns bons repositórios de API organizados por categoria:`\n",
        "\n",
        "https://github.com/n0shake/public-apis\n",
        "\n",
        "https://github.com/public-apis/public-apis\n",
        "\n",
        "https://any-api.com/\n",
        "\n",
        "`Sites de governos costumam ter uma grande riqueza de dados também. Segue abaixo algumas sugestões (oficiais ou mantidas por voluntários) com dados do Brasil como um todo. Experimente buscar por bases de dados de sua cidade ou estado!`\n",
        "\n",
        "http://www.transparencia.gov.br/swagger-ui.html\n",
        "\n",
        "http://www.dados.gov.br/\n",
        "\n",
        "https://brasil.io/home/"
      ]
    },
    {
      "cell_type": "markdown",
      "metadata": {
        "id": "lH9BLcT-RE1z"
      },
      "source": [
        "##Aula 04 - Projeto | Parte 1"
      ]
    },
    {
      "cell_type": "code",
      "metadata": {
        "id": "3gLAbCy9TZSx"
      },
      "source": [
        "import requests as r"
      ],
      "execution_count": null,
      "outputs": []
    },
    {
      "cell_type": "code",
      "metadata": {
        "id": "WqLtv54_TUUn"
      },
      "source": [
        "url = 'https://api.covid19api.com/dayone/country/brazil'\n",
        "resp = r.get(url)"
      ],
      "execution_count": null,
      "outputs": []
    },
    {
      "cell_type": "code",
      "metadata": {
        "id": "g3NSF-RPTe2n"
      },
      "source": [
        "resp.status_code"
      ],
      "execution_count": null,
      "outputs": []
    },
    {
      "cell_type": "code",
      "metadata": {
        "id": "KeeE8bGNfheu"
      },
      "source": [
        "raw_data = resp.json()\n",
        "raw_data[0]"
      ],
      "execution_count": null,
      "outputs": []
    },
    {
      "cell_type": "code",
      "metadata": {
        "id": "t0DwbK6gfjaZ"
      },
      "source": [
        "final_data = []\n",
        "for obs in raw_data:\n",
        "  final_data.append((obs['Confirmed'], obs['Deaths'],obs['Recovered'],obs['Active'],obs['Date']))"
      ],
      "execution_count": null,
      "outputs": []
    },
    {
      "cell_type": "code",
      "metadata": {
        "id": "gMe2Dj-efzwj"
      },
      "source": [
        "final_data"
      ],
      "execution_count": null,
      "outputs": []
    },
    {
      "cell_type": "code",
      "metadata": {
        "id": "mIsqzqo-hItb"
      },
      "source": [
        "final_data.insert(0,[ 'confirmados', 'obtidos', 'recuperados','ativos','data'])\n",
        "final_data"
      ],
      "execution_count": null,
      "outputs": []
    },
    {
      "cell_type": "code",
      "metadata": {
        "id": "UU-DgQQChP6M"
      },
      "source": [
        "CONFIRMADOS = 0\n",
        "OBTIDOS = 1\n",
        "RECUPERADOS = 2\n",
        "ATIVOS = 3\n",
        "DATA = 4"
      ],
      "execution_count": null,
      "outputs": []
    },
    {
      "cell_type": "markdown",
      "metadata": {
        "id": "aWYoAoIphREc"
      },
      "source": [
        "for i in range(1, len(final_data)):\n",
        "  final_data[i][DATA] = final_data[i][DATA][:10]"
      ]
    },
    {
      "cell_type": "code",
      "metadata": {
        "id": "aoDpaGuFlgvd"
      },
      "source": [
        "import datetime as dt"
      ],
      "execution_count": null,
      "outputs": []
    },
    {
      "cell_type": "code",
      "metadata": {
        "id": "O0O_vua9li1o"
      },
      "source": [
        "print(dt.time(12, 6, 21,7), 'Hora:minuto:segundo.microsegundo')\n",
        "print('----------')\n",
        "print(dt.date(2020, 4, 25),'Ano-Mês-dia')\n",
        "print('----------')\n",
        "print(dt.datetime(2020,4,25,12, 6, 21,7),'Ano-Mês-dia Hora:minuto:segundo.microsegundo')"
      ],
      "execution_count": null,
      "outputs": []
    },
    {
      "cell_type": "code",
      "metadata": {
        "id": "mNYShDlWrZIx"
      },
      "source": [
        "natal = dt.date(2020,12,25)\n",
        "revellion = dt.date(2021,1,1,)"
      ],
      "execution_count": null,
      "outputs": []
    },
    {
      "cell_type": "code",
      "metadata": {
        "id": "eMNTPMuGrcwn"
      },
      "source": [
        "print(revellion - natal)\n",
        "print((revellion - natal).days)\n",
        "print((revellion - natal).seconds)\n",
        "print((revellion - natal).microseconds)"
      ],
      "execution_count": null,
      "outputs": []
    },
    {
      "cell_type": "code",
      "metadata": {
        "id": "3m9ZP9x4oKUn"
      },
      "source": [
        "import csv"
      ],
      "execution_count": null,
      "outputs": []
    },
    {
      "cell_type": "code",
      "metadata": {
        "id": "TP4Q7rIEoMiL"
      },
      "source": [
        "with open('brasil-covid.csv', 'w') as file:\n",
        "  writer = csv.writer(file)\n",
        "  writer.writerows(final_data)"
      ],
      "execution_count": null,
      "outputs": []
    },
    {
      "cell_type": "code",
      "metadata": {
        "id": "M7uvywXSof6y"
      },
      "source": [
        "for i in range(1, len(final_data)):\n",
        "  final_data[i][DATA] = dt.datetime.strptime(final_data[i][DATA],'%Y-%m-%d')"
      ],
      "execution_count": null,
      "outputs": []
    },
    {
      "cell_type": "markdown",
      "metadata": {
        "id": "d4BINitp1yQv"
      },
      "source": [
        "**Datetime**\n",
        "\n",
        "`Para treinar o uso da biblioteca datetime, execute as funções do código a seguir, tentando prever os seus resultados:`"
      ]
    },
    {
      "cell_type": "code",
      "metadata": {
        "id": "3AMUyZ9i13ix"
      },
      "source": [
        "import datetime\n",
        "\n",
        "d = datetime.date(2001, 9, 11)\n",
        "tday = datetime.date.today()\n",
        "print(tday, d)\n",
        "\n",
        "\n",
        "datetime.timedelta(days=0, seconds=0, microseconds=0, milliseconds=0, minutes=0, hours=0, weeks=0)\n",
        "\n",
        "tdelta = datetime.timedelta(hours=12)\n",
        "print(tday + tdelta)\n",
        "\n",
        "\n",
        "bday = datetime.date(2016, 9, 24)\n",
        "till_bday = bday - tday\n",
        "print(till_bday.days)\n",
        "\n",
        "dt_agora = datetime.datetime.now()\n",
        "print(dt_agora.strftime('%B %d, %Y'))\n",
        "\n",
        "dt_str = 'July 24, 2016'\n",
        "dt = datetime.datetime.strptime(dt_str, '%B %d, %Y')\n",
        "print(dt)\n",
        "\n",
        "strftime - Datetime para String\n",
        " strptime - String para Datetime"
      ],
      "execution_count": null,
      "outputs": []
    },
    {
      "cell_type": "markdown",
      "metadata": {
        "id": "6cdZyZYJsCw1"
      },
      "source": [
        "##Aula 05 - Projeto | Parte 2"
      ]
    },
    {
      "cell_type": "code",
      "metadata": {
        "id": "BmxLO3D1umsb"
      },
      "source": [
        "def get_datasets(y, labels):\n",
        "  if type(y[0]) == list:\n",
        "    datasets = []\n",
        "    for i in range(len(y)):\n",
        "      datasets.append({\n",
        "      'label':label[i],\n",
        "      'data':y[i]\n",
        "      })\n",
        "      return datasets\n",
        "  else:\n",
        "        return [\n",
        "                {\n",
        "            'label':labels[0],\n",
        "            'data':y\n",
        "                }\n",
        "              ]"
      ],
      "execution_count": null,
      "outputs": []
    },
    {
      "cell_type": "code",
      "metadata": {
        "id": "7084Rnw4wMyS"
      },
      "source": [
        "def set_title(title=''):\n",
        "  if set_title!='':\n",
        "    display = 'true'\n",
        "  else:\n",
        "    display = 'false'\n",
        "    return {\n",
        "        'title': title,\n",
        "        'display': display\n",
        "        }"
      ],
      "execution_count": null,
      "outputs": []
    },
    {
      "cell_type": "code",
      "metadata": {
        "id": "GFaHKWPErCwX"
      },
      "source": [
        "def create_chart(x, y, labels, kind='bar', title=''):\n",
        "\n",
        "  datasets = get_datasets(y, labels)\n",
        "  options = set_title(title)\n",
        "  \n",
        "  chart = {\n",
        "      'type': kind,\n",
        "      'data': {'labels': x,\n",
        "               'datasets':datasets\n",
        "               },\n",
        "           'options':options\n",
        "           }\n",
        "  return chart"
      ],
      "execution_count": null,
      "outputs": []
    },
    {
      "cell_type": "code",
      "metadata": {
        "id": "a-nFaq9grOTL"
      },
      "source": [
        "def get_api_chart(chart):\n",
        "  url_base = 'https://quickchart.io/chart'\n",
        "  resp =r.get(f'{url_base}?c={str(chart)}')\n",
        "  return resp.content"
      ],
      "execution_count": null,
      "outputs": []
    },
    {
      "cell_type": "code",
      "metadata": {
        "id": "sXva8MFnrP73"
      },
      "source": [
        "def save_image(path, content):\n",
        "  with open(path, 'wb') as image:\n",
        "    image.write(content)"
      ],
      "execution_count": null,
      "outputs": []
    },
    {
      "cell_type": "code",
      "metadata": {
        "id": "So_w3WBvrUY0"
      },
      "source": [
        "from PIL import Image\n",
        "from IPython.display import display"
      ],
      "execution_count": null,
      "outputs": []
    },
    {
      "cell_type": "code",
      "metadata": {
        "id": "_bWl6NO8rhao"
      },
      "source": [
        "def display_image(path):\n",
        "  img_pil = Image.open(path)\n",
        "  display(img_pil)"
      ],
      "execution_count": null,
      "outputs": []
    },
    {
      "cell_type": "code",
      "metadata": {
        "id": "jaCpjdESrmeQ"
      },
      "source": [
        "y_data_1 = []\n",
        "for obs in final_data[1::10]:\n",
        "  y_data_1.append(obs[CONFIRMADOS])\n",
        "\n",
        "y_data_2 = []\n",
        "for obs in final_data[1::10]:\n",
        "  y_data_2.append(obs[RECUPERADOS])\n",
        "\n",
        "labels = ['Confirmados','Recuperados']\n",
        "\n",
        "x = []\n",
        "for obs in final_data[1::10]:\n",
        "  x.append(obs[DATA].strftime('%d/%m/%Y'))\n",
        "\n",
        "chart =  create_chart(x, [y_data_1,y_data_2], labels, title ='Gráfico confirmados vs recuperados')\n",
        "chart_content = get_api_chart(chart)\n",
        "save_image('meu-primeiro-grafico.png',chart_content)\n",
        "display_image('meu-primeiro-grafico.png')"
      ],
      "execution_count": null,
      "outputs": []
    },
    {
      "cell_type": "code",
      "metadata": {
        "id": "p17Mto1IvFPy"
      },
      "source": [
        "from urllib.parse import quote"
      ],
      "execution_count": null,
      "outputs": []
    },
    {
      "cell_type": "code",
      "metadata": {
        "id": "wST-fnCFwBfU"
      },
      "source": [
        "def get_api_qrcode(link):\n",
        "  text = quote(link) #parsing do link para url\n",
        "  url_base = 'https://quickchart.io/qr'\n",
        "  resp = r.get(f'{url_base}?text={text}')\n",
        "  return resp.content"
      ],
      "execution_count": null,
      "outputs": []
    },
    {
      "cell_type": "code",
      "metadata": {
        "id": "Md6WkLRoxCNd"
      },
      "source": [
        "url_base = 'https://quickchart.io/chart'\n",
        "link =f'{url_base}?c={str(chart)}'\n",
        "save_image('qr-code.png', get_api_qrcode(link))\n",
        "display_image('qr-code.png')\n"
      ],
      "execution_count": null,
      "outputs": []
    }
  ]
}