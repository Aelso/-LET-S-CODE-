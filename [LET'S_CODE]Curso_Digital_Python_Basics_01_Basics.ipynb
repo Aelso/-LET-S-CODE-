{
  "nbformat": 4,
  "nbformat_minor": 0,
  "metadata": {
    "colab": {
      "name": "[LET'S CODE]Curso Digital Python Basics_01_Basics.ipynb",
      "provenance": [],
      "collapsed_sections": [],
      "toc_visible": true
    },
    "kernelspec": {
      "name": "python3",
      "display_name": "Python 3"
    },
    "language_info": {
      "name": "python"
    }
  },
  "cells": [
    {
      "cell_type": "markdown",
      "metadata": {
        "id": "SMHa5wiT1u6I"
      },
      "source": [
        "---\n",
        "\n",
        "# Sobre!\n",
        "Essas são as anotações das aulas para auxiliar os estudos .O notebook contém além da parte teórica, exercícios práticos e comentários dos exercícios para seu entendimento. Compartilhar o conhecimento faz parte do DNA e do dia a dia da nossa comunidade.\n",
        "\n",
        "###Créditos :\n",
        "\n",
        "Tera\n",
        "Acabei de conhecer, mas já virei fã.\n",
        "\n",
        "###disclaimer: I didn't get my money, nothing for that\n",
        "\n",
        "não recebi meu dinheiro nada por isso : )\n",
        "\n",
        "\n",
        "---"
      ]
    },
    {
      "cell_type": "markdown",
      "metadata": {
        "id": "L5p7-C0w2Q69"
      },
      "source": [
        "### Conceitos básicos"
      ]
    },
    {
      "cell_type": "markdown",
      "metadata": {
        "id": "-1uZBnp72TfI"
      },
      "source": [
        "Um documento do Colab é chamado Notebook (ou caderno), e notebooks são compostos por células. Células podem conter texto ou código e são executadas individualmente. Este é um exemplo de célula de texto, e abaixo temos um exemplo de célula de código. Para executar uma célula você pode clicar no campo e apertar o símbolo \"Play\", ou usar o atalho Ctrl + Enter."
      ]
    },
    {
      "cell_type": "markdown",
      "metadata": {
        "id": "oBYoHMANwtuo"
      },
      "source": [
        "## Executando comandos Linux"
      ]
    },
    {
      "cell_type": "markdown",
      "metadata": {
        "id": "NgEAhkZTwxEG"
      },
      "source": [
        "O interpretador do Jupyter também permite a execução de comandos do terminal do Linux nas células de código. Você pode usar estes comandos para instalar pacotes no sistema, fazer Downloads, mover arquivos, etc.\n",
        "\n",
        "Para executar um comando no Terminal, basta começar a linha da célula com uma exclamação (!). Veja um exemplo para o comando pwd abaixo, que mostra o diretório corrente."
      ]
    },
    {
      "cell_type": "code",
      "metadata": {
        "colab": {
          "base_uri": "https://localhost:8080/"
        },
        "id": "qOJw2md6ws_j",
        "outputId": "fcbc67e1-6564-4939-e7f0-c311917d5d5d"
      },
      "source": [
        "!pwd"
      ],
      "execution_count": null,
      "outputs": [
        {
          "output_type": "stream",
          "name": "stdout",
          "text": [
            "/content\n"
          ]
        }
      ]
    },
    {
      "cell_type": "markdown",
      "metadata": {
        "id": "D6DEsb_hxeAP"
      },
      "source": [
        "Para instalar um pacote Python, você pode usar o comando `pip`. No entanto você deve perceber que o ambiente do Colab já vem com vários pacotes instalados, como é o caso do numpy."
      ]
    },
    {
      "cell_type": "markdown",
      "metadata": {
        "id": "y7lNf-mSU9Ie"
      },
      "source": [
        "Se ao longo do desenvolvimento você precisar salvar arquivos de entrada ou resultados da execução do seu código, uma boa maneira de fazê-lo no Colab é usar o Google Drive. Abaixo apresentamos um exemplo de como se conectar ao Google Drive. Você pode futuramente acessar estes arquivos em um novo notebook, ou vê-los e baixá-los em [drive.google.com](drive.google.com).\n",
        "\n",
        "\n",
        "Ao executar o código abaixo, a saída do notebook terá um link e um campo de entrada. Você precisa acessar o link fornecido, fazer login no Google, e copiar a chave fornecida no campo de entrada."
      ]
    },
    {
      "cell_type": "code",
      "metadata": {
        "id": "5Xaj_Ifkcgnz"
      },
      "source": [
        "from google.colab import drive\n",
        "drive.mount(\"/content/drive\")"
      ],
      "execution_count": null,
      "outputs": []
    },
    {
      "cell_type": "markdown",
      "metadata": {
        "id": "-9Yn9hFkvW_p"
      },
      "source": [
        "Após montar o diretório, tudo que for salvo em `/content/drive/MyDrive` estará disponível no seu Google Drive, e ficará salvo mesmo que a sessão seja destruida."
      ]
    },
    {
      "cell_type": "markdown",
      "metadata": {
        "id": "HZVMrLJFap8r"
      },
      "source": [
        "# 01. Basics\n"
      ]
    },
    {
      "cell_type": "markdown",
      "metadata": {
        "id": "RRm--JTP2BE1"
      },
      "source": [
        "###Aula 01 - Por que Python?"
      ]
    },
    {
      "cell_type": "markdown",
      "metadata": {
        "id": "zftGcMkk2YQV"
      },
      "source": [
        "###Aula 02 - Instalações"
      ]
    },
    {
      "cell_type": "markdown",
      "metadata": {
        "id": "yOfBWOSpalYs"
      },
      "source": [
        "### `Anotações da aula`\n",
        ": )"
      ]
    },
    {
      "cell_type": "markdown",
      "metadata": {
        "id": "rMsIvESyasG2"
      },
      "source": [
        "## `registroDoConteúdo`\n",
        "\n",
        "---\n",
        "> Instalando o Python no Windows : Vídeo\n",
        "\n",
        "`Instalando o Python no Mac OS X\n",
        "Você pode instalar o Python no Mac OS baixando o instalador na página oficial do Python. Baixando a última versão, você deverá abrir o instalador e seguir as instruções da instalação, que consistem, basicamente, em avançar as etapas até a conclusão.`\n",
        "\n",
        "https://www.python.org/downloads/\n",
        "\n",
        "`Instalando o Python no Linux (debian/ubuntu):`\n",
        "\n",
        ">apt install python3 python3-pip\n",
        "---\n",
        "`Jupyter Notebook`\n",
        "\n",
        "`Com o Python instalado, você já pode abrir o prompt de comando para digitar os seguintes comandos:`\n",
        "\n",
        "`Para instalar o programa Jupyter Notebook, que utilizaremos para escrever nossos códigos Python:`\n",
        "\n",
        ">pip install notebook\n",
        "\n",
        "`Para garantir que estamos utilizando a versão mais recente do Jupyter Notebook:`\n",
        "\n",
        ">pip install notebook --upgrade\n",
        "\n",
        "`Para iniciar o programa Jupyter Notebook:`\n",
        ">jupyter notebook\n",
        "\n",
        "`Ao exercutar este comando, uma janela deverá se abrir em seu navegador (Chrome, Firefox, Edge, etc) com o Jupyter Notebook (uma alternativa é copiar e colar a URL que aparece em seu prompt de comando).`\n",
        "\n",
        "`Apenas para dar uma pequena prévia, vamos criar um novo arquivo selecionando \"New\" e então \"Notebook: Python 3\" (nesse momento, você pode optar por selecionar alguma pasta do seu computador, como Meus Documentos, para que o novo arquivo seja criado dentro dela).`\n",
        "\n",
        "`Uma nova janela se abrirá. Essa janela é a interface de escrita para o arquivo que você acabou de criar.\n",
        "Como você pode ver, existe uma célula vazia nesse arquivo. Nós vamos clicar nela e escrever:`\n",
        "\n",
        ">print(\"Hello, World!\") \n",
        "\n",
        "`E, com essa célula selecionada, vamos clicar em \"Run\".`\n",
        "\n",
        "`Alguns comentários finais:\n",
        "Existe uma versão do Jupyter Notebook online. Basta entrar no site dele para testar.\n",
        "Existe ainda outra ferramenta online para escrever notebooks chamada Google Colaboratory (ou Colab), um serviço gratuito do Google que você pode acessar por aqui sem instalar nada em seu PC (nem mesmo o Python). Para utilizá-lo, basta fazer o login com uma conta do Google. Seus arquivos serão salvos no Google Drive dessa conta do mesmo modo que um Google Docs ou Google Spreadsheet.\n",
        "E é isso, acabou. Ou melhor, só está começando! A partir de agora você pode seguir para as próximas aulas para aprender cada vez mais.`"
      ]
    },
    {
      "cell_type": "markdown",
      "metadata": {
        "id": "PUddHM2VsqB8"
      },
      "source": [
        "###Aula 03 - Tipos de Variáveis"
      ]
    },
    {
      "cell_type": "markdown",
      "metadata": {
        "id": "eMDMLwcFbuKp"
      },
      "source": [
        "### `Anotações da aula`"
      ]
    },
    {
      "cell_type": "code",
      "metadata": {
        "id": "zTG1t32Uta9K",
        "colab": {
          "base_uri": "https://localhost:8080/"
        },
        "outputId": "638e4610-2cc1-498c-e8e2-94f32849de2c"
      },
      "source": [
        "x = 5\n",
        "x"
      ],
      "execution_count": null,
      "outputs": [
        {
          "output_type": "execute_result",
          "data": {
            "text/plain": [
              "5"
            ]
          },
          "metadata": {},
          "execution_count": 2
        }
      ]
    },
    {
      "cell_type": "code",
      "metadata": {
        "colab": {
          "base_uri": "https://localhost:8080/"
        },
        "id": "RGR0d4ZU_TJQ",
        "outputId": "d7aa2235-ca5e-4fb0-9c11-9f3fd97223ff"
      },
      "source": [
        "type(x)"
      ],
      "execution_count": null,
      "outputs": [
        {
          "output_type": "execute_result",
          "data": {
            "text/plain": [
              "int"
            ]
          },
          "metadata": {},
          "execution_count": 7
        }
      ]
    },
    {
      "cell_type": "code",
      "metadata": {
        "colab": {
          "base_uri": "https://localhost:8080/"
        },
        "id": "-RMnFUKR_l1X",
        "outputId": "a315f649-87ae-4e6b-abf2-699f8bec441b"
      },
      "source": [
        "preco = 19.99\n",
        "type(preco)"
      ],
      "execution_count": null,
      "outputs": [
        {
          "output_type": "execute_result",
          "data": {
            "text/plain": [
              "float"
            ]
          },
          "metadata": {},
          "execution_count": 9
        }
      ]
    },
    {
      "cell_type": "code",
      "metadata": {
        "id": "wArn23Jvtei7",
        "colab": {
          "base_uri": "https://localhost:8080/"
        },
        "outputId": "f7c182ad-1516-4bd1-c693-376eaecf06ec"
      },
      "source": [
        "cidade = 'São Paulo'\n",
        "cidade, type(cidade)"
      ],
      "execution_count": null,
      "outputs": [
        {
          "output_type": "execute_result",
          "data": {
            "text/plain": [
              "('São Paulo', str)"
            ]
          },
          "metadata": {},
          "execution_count": 11
        }
      ]
    },
    {
      "cell_type": "code",
      "metadata": {
        "colab": {
          "base_uri": "https://localhost:8080/"
        },
        "id": "fdF98BQVANxO",
        "outputId": "8fed11ab-042d-4f14-9b09-76811bde2bf1"
      },
      "source": [
        "disponivel = True\n",
        "disponivel,type(disponivel)"
      ],
      "execution_count": null,
      "outputs": [
        {
          "output_type": "execute_result",
          "data": {
            "text/plain": [
              "(True, bool)"
            ]
          },
          "metadata": {},
          "execution_count": 14
        }
      ]
    },
    {
      "cell_type": "code",
      "metadata": {
        "colab": {
          "base_uri": "https://localhost:8080/"
        },
        "id": "N4Bcz7BrAVAQ",
        "outputId": "97eaebbd-fad2-4820-8855-5169fe9caefa"
      },
      "source": [
        "disponivel = False\n",
        "disponivel, type(disponivel)"
      ],
      "execution_count": null,
      "outputs": [
        {
          "output_type": "execute_result",
          "data": {
            "text/plain": [
              "(False, bool)"
            ]
          },
          "metadata": {},
          "execution_count": 15
        }
      ]
    },
    {
      "cell_type": "markdown",
      "metadata": {
        "id": "IdlPzzC0cTQa"
      },
      "source": [
        "## `registroDoConteúdo`\n",
        "\n",
        "---\n",
        "> Variáveis\n",
        "\n",
        "```Variáveis são pedacinhos de memória onde armazenamos valores. Sempre que referenciamos o nome de uma variável, o valor é acessado. Definimos uma variável dando um nome a ela e usando o sinal de igual (=) para atribuir um valor.```\n",
        "\n",
        "---\n"
      ]
    },
    {
      "cell_type": "code",
      "metadata": {
        "id": "yCytvptsdL88"
      },
      "source": [
        "x = -10 # uma variável do tipo inteiro (int)\n",
        "y = 3.14 # uma variável do tipo real (float)\n",
        "escola = \"Let's Code\" # uma variável literal (string)\n",
        "primeiraAula = True # uma variável lógica (booleana)"
      ],
      "execution_count": null,
      "outputs": []
    },
    {
      "cell_type": "markdown",
      "metadata": {
        "id": "4vmg20tdCnNB"
      },
      "source": [
        "```Note que o operador igual (=) NÃO possui o mesmo comportamento da matemática. Na matemática, ele é um operador bidirecional: x = 2y seria a mesma coisa que 2y = x. No Python, ele é o que chamamos de um operador de ATRIBUIÇÃO: A expressão à direita do sinal é resolvida e seu resultado é armazenado na variável à esquerda.```\n",
        "\n",
        "---\n"
      ]
    },
    {
      "cell_type": "code",
      "metadata": {
        "id": "GK-a47SUeIDE"
      },
      "source": [
        "##Comentários\n",
        "# Linhas iniciadas com # são comentários.\n",
        "# Comentários são ignorados pelo Python e servem para explicar o código."
      ],
      "execution_count": null,
      "outputs": []
    },
    {
      "cell_type": "markdown",
      "metadata": {
        "id": "Ep374ro0eSnC"
      },
      "source": [
        "'''\n",
        "O símbolo # é um comentário de apenas 1 linha.\n",
        "Usando 3 aspas simples consecutivas é possível abrir um bloco de comentário\n",
        "de múltiplas linhas. O bloco se encerra com outras 3 aspas simples.\n",
        "'''"
      ]
    },
    {
      "cell_type": "markdown",
      "metadata": {
        "id": "TXyzGeGBuErs"
      },
      "source": [
        "##Aula 04 - Operadores"
      ]
    },
    {
      "cell_type": "markdown",
      "metadata": {
        "id": "WnZ3W-Gpego9"
      },
      "source": [
        "### `Anotações da aula`"
      ]
    },
    {
      "cell_type": "code",
      "metadata": {
        "colab": {
          "base_uri": "https://localhost:8080/"
        },
        "id": "YHLB-ymMYxFi",
        "outputId": "f1e91c66-53c6-4118-e9a7-0780cbfe1642"
      },
      "source": [
        "idade = input('Informe sua idade: ')\n",
        "idade, type(idade)"
      ],
      "execution_count": null,
      "outputs": [
        {
          "name": "stdout",
          "output_type": "stream",
          "text": [
            "Informe sua idade: 28\n"
          ]
        },
        {
          "output_type": "execute_result",
          "data": {
            "text/plain": [
              "('28', str)"
            ]
          },
          "metadata": {},
          "execution_count": 30
        }
      ]
    },
    {
      "cell_type": "code",
      "metadata": {
        "colab": {
          "base_uri": "https://localhost:8080/"
        },
        "id": "lo3LPvYIY2uw",
        "outputId": "ff3dc38e-fcc1-410e-c82c-006d5da68e2a"
      },
      "source": [
        "idade = int(idade)\n",
        "idade, type(idade)"
      ],
      "execution_count": null,
      "outputs": [
        {
          "output_type": "execute_result",
          "data": {
            "text/plain": [
              "(28, int)"
            ]
          },
          "metadata": {},
          "execution_count": 31
        }
      ]
    },
    {
      "cell_type": "code",
      "metadata": {
        "colab": {
          "base_uri": "https://localhost:8080/",
          "height": 163
        },
        "id": "nZ_6RO33Y5NT",
        "outputId": "34b5b5da-ee49-4f18-b32b-a88bd6196817"
      },
      "source": [
        "int('123abc')\n"
      ],
      "execution_count": null,
      "outputs": [
        {
          "output_type": "error",
          "ename": "ValueError",
          "evalue": "ignored",
          "traceback": [
            "\u001b[0;31m---------------------------------------------------------------------------\u001b[0m",
            "\u001b[0;31mValueError\u001b[0m                                Traceback (most recent call last)",
            "\u001b[0;32m<ipython-input-32-c2da6a9db439>\u001b[0m in \u001b[0;36m<module>\u001b[0;34m()\u001b[0m\n\u001b[0;32m----> 1\u001b[0;31m \u001b[0mint\u001b[0m\u001b[0;34m(\u001b[0m\u001b[0;34m'123abc'\u001b[0m\u001b[0;34m)\u001b[0m\u001b[0;34m\u001b[0m\u001b[0;34m\u001b[0m\u001b[0m\n\u001b[0m",
            "\u001b[0;31mValueError\u001b[0m: invalid literal for int() with base 10: '123abc'"
          ]
        }
      ]
    },
    {
      "cell_type": "code",
      "metadata": {
        "colab": {
          "base_uri": "https://localhost:8080/"
        },
        "id": "xwkzo83sY6jI",
        "outputId": "05881960-58dc-45fd-fc10-7dc2fc5ac357"
      },
      "source": [
        "\n",
        "float('123.25')\n",
        "\n"
      ],
      "execution_count": null,
      "outputs": [
        {
          "output_type": "execute_result",
          "data": {
            "text/plain": [
              "123.25"
            ]
          },
          "metadata": {},
          "execution_count": 35
        }
      ]
    },
    {
      "cell_type": "code",
      "metadata": {
        "colab": {
          "base_uri": "https://localhost:8080/",
          "height": 35
        },
        "id": "USVBb_JdZGzG",
        "outputId": "58d731c0-8744-4097-be37-3571661cf56a"
      },
      "source": [
        "str(123.25)"
      ],
      "execution_count": null,
      "outputs": [
        {
          "output_type": "execute_result",
          "data": {
            "application/vnd.google.colaboratory.intrinsic+json": {
              "type": "string"
            },
            "text/plain": [
              "'123.25'"
            ]
          },
          "metadata": {},
          "execution_count": 36
        }
      ]
    },
    {
      "cell_type": "code",
      "metadata": {
        "colab": {
          "base_uri": "https://localhost:8080/"
        },
        "id": "lEEvNz2bZKwa",
        "outputId": "fc2944fe-301f-435b-87ef-cbe7d86d4eb9"
      },
      "source": [
        "\n",
        "bool(' ')"
      ],
      "execution_count": null,
      "outputs": [
        {
          "output_type": "execute_result",
          "data": {
            "text/plain": [
              "True"
            ]
          },
          "metadata": {},
          "execution_count": 37
        }
      ]
    },
    {
      "cell_type": "code",
      "metadata": {
        "colab": {
          "base_uri": "https://localhost:8080/"
        },
        "id": "e0W7MJ5gZM2I",
        "outputId": "944efc56-e384-4425-a039-82bee4c8bb49"
      },
      "source": [
        "bool('abc')"
      ],
      "execution_count": null,
      "outputs": [
        {
          "output_type": "execute_result",
          "data": {
            "text/plain": [
              "True"
            ]
          },
          "metadata": {},
          "execution_count": 38
        }
      ]
    },
    {
      "cell_type": "code",
      "metadata": {
        "colab": {
          "base_uri": "https://localhost:8080/"
        },
        "id": "BU6JCLHBZPMk",
        "outputId": "a4b588f9-59a8-4327-c5e2-f2ee49f150bb"
      },
      "source": [
        "bool(0)"
      ],
      "execution_count": null,
      "outputs": [
        {
          "output_type": "execute_result",
          "data": {
            "text/plain": [
              "False"
            ]
          },
          "metadata": {},
          "execution_count": 39
        }
      ]
    },
    {
      "cell_type": "code",
      "metadata": {
        "colab": {
          "base_uri": "https://localhost:8080/"
        },
        "id": "i5umbl1GbLlc",
        "outputId": "0ea6ee34-0961-44ec-cf31-20a1b6a8a93a"
      },
      "source": [
        "bool(-2)"
      ],
      "execution_count": null,
      "outputs": [
        {
          "output_type": "execute_result",
          "data": {
            "text/plain": [
              "True"
            ]
          },
          "metadata": {},
          "execution_count": 43
        }
      ]
    },
    {
      "cell_type": "code",
      "metadata": {
        "id": "Iimo7DBMBQ6p"
      },
      "source": [
        "x = 50\n",
        "y = 2"
      ],
      "execution_count": null,
      "outputs": []
    },
    {
      "cell_type": "markdown",
      "metadata": {
        "id": "aELMpnnLNJ58"
      },
      "source": [
        "`Operações aritméticas simples`"
      ]
    },
    {
      "cell_type": "code",
      "metadata": {
        "colab": {
          "base_uri": "https://localhost:8080/"
        },
        "id": "Wsck9pkCLVXW",
        "outputId": "5da0a86c-defc-465f-f644-a06010bd58a0"
      },
      "source": [
        "\n",
        "print(x + y) # soma\n",
        "print(x - y) # subtração\n",
        "print(x * y) # multiplicação\n",
        "print(x / y) # Divisão"
      ],
      "execution_count": null,
      "outputs": [
        {
          "output_type": "stream",
          "name": "stdout",
          "text": [
            "52\n",
            "48\n",
            "100\n",
            "25.0\n"
          ]
        }
      ]
    },
    {
      "cell_type": "code",
      "metadata": {
        "colab": {
          "base_uri": "https://localhost:8080/"
        },
        "id": "ACkpKS9YMDud",
        "outputId": "c49ccda0-596b-45e4-afe8-bde495333597"
      },
      "source": [
        "print(x // y) # Divisão inteira\n",
        "print(x ** y) # Potência\n",
        "print(x % y) #Resto de divisão"
      ],
      "execution_count": null,
      "outputs": [
        {
          "output_type": "stream",
          "name": "stdout",
          "text": [
            "25\n",
            "2500\n",
            "0\n"
          ]
        }
      ]
    },
    {
      "cell_type": "code",
      "metadata": {
        "colab": {
          "base_uri": "https://localhost:8080/"
        },
        "id": "rKcwjguZMUjS",
        "outputId": "de8a12c0-422f-42fd-b892-b763085ac0e9"
      },
      "source": [
        "print(3//4)"
      ],
      "execution_count": null,
      "outputs": [
        {
          "output_type": "stream",
          "name": "stdout",
          "text": [
            "0\n"
          ]
        }
      ]
    },
    {
      "cell_type": "markdown",
      "metadata": {
        "id": "M2BZ5EAkM-Y3"
      },
      "source": [
        "\n",
        "\n",
        "\n",
        "` Operadores Relacionais`\n",
        "\n",
        "\n"
      ]
    },
    {
      "cell_type": "code",
      "metadata": {
        "id": "5KrJD8W5uQry"
      },
      "source": [
        "tem_cafe = True\n",
        "tem_pao = False"
      ],
      "execution_count": null,
      "outputs": []
    },
    {
      "cell_type": "code",
      "metadata": {
        "colab": {
          "base_uri": "https://localhost:8080/"
        },
        "id": "uwNuFxbtMoR4",
        "outputId": "34b1b100-0cb5-4993-adf2-d686e467ce39"
      },
      "source": [
        "not tem_cafe\n"
      ],
      "execution_count": null,
      "outputs": [
        {
          "output_type": "execute_result",
          "data": {
            "text/plain": [
              "False"
            ]
          },
          "metadata": {},
          "execution_count": 26
        }
      ]
    },
    {
      "cell_type": "code",
      "metadata": {
        "colab": {
          "base_uri": "https://localhost:8080/"
        },
        "id": "jUCLZCoMM5ol",
        "outputId": "611d5cba-bef5-482d-81cb-2e7f92f8676c"
      },
      "source": [
        "tem_cafe or tem_pao\n"
      ],
      "execution_count": null,
      "outputs": [
        {
          "output_type": "execute_result",
          "data": {
            "text/plain": [
              "True"
            ]
          },
          "metadata": {},
          "execution_count": 25
        }
      ]
    },
    {
      "cell_type": "code",
      "metadata": {
        "colab": {
          "base_uri": "https://localhost:8080/"
        },
        "id": "WSbyyXIQM8I5",
        "outputId": "a627b65a-6bc2-4de2-fd9c-4b2aeb82e060"
      },
      "source": [
        "tem_cafe and tem_pao"
      ],
      "execution_count": null,
      "outputs": [
        {
          "output_type": "execute_result",
          "data": {
            "text/plain": [
              "False"
            ]
          },
          "metadata": {},
          "execution_count": 27
        }
      ]
    },
    {
      "cell_type": "code",
      "metadata": {
        "id": "ll2DAj7vuhxC"
      },
      "source": [
        "dolar = 5.3\n",
        "real = 1"
      ],
      "execution_count": null,
      "outputs": []
    },
    {
      "cell_type": "markdown",
      "metadata": {
        "id": "gLrjGkb5VsiE"
      },
      "source": [
        "\n",
        "\n",
        "` Operadores Relacionais ou de comparação `\n",
        "\n",
        "\n"
      ]
    },
    {
      "cell_type": "code",
      "metadata": {
        "colab": {
          "base_uri": "https://localhost:8080/"
        },
        "id": "TyHNmefPNggS",
        "outputId": "48ae39b9-0924-4159-fbbe-77640256813e"
      },
      "source": [
        "print(dolar > real)#Maior que\n",
        "print(dolar < real)#Menor que\n",
        "print(dolar == real)#igual\n",
        "print(dolar >= real)#Maior ou igual\n",
        "print(dolar <= real)#Menor ou igual\n",
        "print(dolar != real)#Diferente"
      ],
      "execution_count": null,
      "outputs": [
        {
          "output_type": "stream",
          "name": "stdout",
          "text": [
            "True\n",
            "False\n",
            "False\n",
            "True\n",
            "False\n",
            "True\n"
          ]
        }
      ]
    },
    {
      "cell_type": "markdown",
      "metadata": {
        "id": "DnRbWc0hfjiJ"
      },
      "source": [
        "## `registroDoConteúdo`\n",
        "\n",
        "---\n",
        "> Operadores aritméticos\n",
        "\n",
        "\n"
      ]
    },
    {
      "cell_type": "code",
      "metadata": {
        "colab": {
          "base_uri": "https://localhost:8080/"
        },
        "id": "EB1-5qCMex4d",
        "outputId": "c117cb61-e2c3-4adb-d7c2-e059727f9d86"
      },
      "source": [
        "# Podemos fazer operações aritméticas simples\n",
        "a = 2 + 3  # Soma\n",
        "b = 2 - 3  # Subtração\n",
        "c = 2 * 3  # Multiplicação\n",
        "d = 2 / 3  # Divisão\n",
        "e = 2 // 3 # Divisão inteira\n",
        "f = 2 ** 3 # Potência\n",
        "g = 2 % 3  # Resto de divisão\n",
        "\n",
        "print (a, b, c, d, e, f, g)\n",
        "\n",
        "# Podemos fazer operações dentro do print\n",
        "\n",
        "print (a+1, b+1)\n",
        "\n",
        "#Podemos fazer operações com variáveis não inteiras\n",
        "nome = input('Digite seu primeiro nome:')\n",
        "nome = nome + ' Schmitt'\n",
        "print(nome)"
      ],
      "execution_count": null,
      "outputs": [
        {
          "output_type": "stream",
          "name": "stdout",
          "text": [
            "5 -1 6 0.6666666666666666 0 8 2\n",
            "6 0\n",
            "Digite seu primeiro nome:8\n",
            "8 Schmitt\n"
          ]
        }
      ]
    },
    {
      "cell_type": "markdown",
      "metadata": {
        "id": "q127SHp2gE8r"
      },
      "source": [
        "---\n",
        "> Operadores relacionais"
      ]
    },
    {
      "cell_type": "code",
      "metadata": {
        "id": "4cgcJk4Ze_46"
      },
      "source": [
        "##Observe o código abaixo:\n",
        "\n",
        "comparacao1 = 5 > 3\n",
        "print(comparacao1)\n",
        "comparacao2 = 5 < 3\n",
        "print(comparacao2)\n",
        "##Ao ser executado, a saída que teremos na tela será:\n",
        "\n",
        "True\n",
        "False"
      ],
      "execution_count": null,
      "outputs": []
    },
    {
      "cell_type": "markdown",
      "metadata": {
        "id": "_tsyLAidgRvQ"
      },
      "source": [
        "\n",
        "`Operadores relacionais`\n",
        "---\n",
        "`Isso ocorre porque 5 é maior que 3. Portanto, comparacao1 recebeu uma expressão cujo valor lógico é verdadeiro, portanto seu resultado foi True, e o oposto ocorreu para comparacao2.`\n",
        "\n",
        "`O Python possui 6 operadores relacionais:`\n",
        "\n",
        "*  Maior que: >\n",
        "*  Maior ou igual: >=\n",
        "*  Menor que: <\n",
        "*  Menor ou igual: <=\n",
        "*  Igual: ==\n",
        "*  Diferente: !=\n",
        "\n",
        "`Note que o operador para comparar se 2 valores são iguais é ==, e não =. Isso ocorre porque o operador = é o nosso operador de atribuição: ele diz que a variável à sua esquerda deve receber o valor da expressão à direita. O operador == irá testar se o valor à sua esquerda é igual ao valor à sua direita e irá responder True ou False, como todos os outros operadores de comparação.`"
      ]
    },
    {
      "cell_type": "markdown",
      "metadata": {
        "id": "aIvsXFPghFLV"
      },
      "source": [
        "\n",
        "`Operadores lógicos`\n",
        "---\n",
        "`m alguns casos também precisamos testar se duas ou mais condições são verdadeiras. Para isso utilizaremos as conjunções lógicas:`\n",
        "*  **and**: verdadeiro se condição 1 for verdadeira **e** condição 2 for verdadeira\n",
        "*  **or**: verdadeiro se condição 1 for verdadeira **ou **condição 2 for verdadeira\n",
        "\n",
        "`NNo exemplo abaixo, o resultado é verdadeiro para comparacao1 e falso para comparacao2.`"
      ]
    },
    {
      "cell_type": "code",
      "metadata": {
        "id": "rxa-eKLrhds2"
      },
      "source": [
        "comparacao1 = 5 > 3 and 6 > 3\n",
        "comparacao2 = 5 < 3 and 6 > 3"
      ],
      "execution_count": null,
      "outputs": []
    },
    {
      "cell_type": "markdown",
      "metadata": {
        "id": "EbWfS303hkNs"
      },
      "source": [
        "`Já no exemplo seguinte, tanto comparacao1 quanto comparacao2 retornam o valor verdadeiro.`"
      ]
    },
    {
      "cell_type": "code",
      "metadata": {
        "id": "yMCBONGuhpZB"
      },
      "source": [
        "comparacao1 = 5 > 3 or 6 > 3\n",
        "comparacao2 = 5 < 3 or 6 > 3"
      ],
      "execution_count": null,
      "outputs": []
    },
    {
      "cell_type": "markdown",
      "metadata": {
        "id": "h-oBZvdnhrmn"
      },
      "source": [
        "`Também é possível negar uma expressão lógica usando o not. Em outras palavras, se comparacao1 = 5 > 3 é verdadeira, comparacao1 = not(5 > 3) será falsa, e vice-versa.`"
      ]
    },
    {
      "cell_type": "markdown",
      "metadata": {
        "id": "mnHoYkzxFGzt"
      },
      "source": [
        "## Aula 05 - Estruturas Sequenciais"
      ]
    },
    {
      "cell_type": "markdown",
      "metadata": {
        "id": "vtZbQvwTh3gb"
      },
      "source": [
        "### `Anotações da aula`"
      ]
    },
    {
      "cell_type": "code",
      "metadata": {
        "colab": {
          "base_uri": "https://localhost:8080/"
        },
        "id": "VQesso76a46l",
        "outputId": "902ead9e-2fdc-499f-979d-31272bc92431"
      },
      "source": [
        "salario_mensal = input('Digite o valor do seu salário mensal: ')\n",
        "salario_mensal = float(salario_mensal)\n",
        "\n",
        "gasto_mensal = input('Digite o valor do seu gasto mensal em média: ')\n",
        "gasto_mensal = float(gasto_mensal)\n",
        "\n",
        "salario_total = salario_mensal * 12\n",
        "gasto_total = gasto_mensal * 12\n",
        "montante_economizado = salario_total - gasto_total\n",
        "print('O montante que você pode economizarao fim do ano é',montante_economizado)"
      ],
      "execution_count": null,
      "outputs": [
        {
          "output_type": "stream",
          "name": "stdout",
          "text": [
            "Digite o valor do seu salário mensal: 1500\n",
            "Digite o valor do seu gasto mensal em média: 80\n",
            "O montante que você pode economizarao fim do ano é 17040.0\n"
          ]
        }
      ]
    },
    {
      "cell_type": "markdown",
      "metadata": {
        "id": "1BntlmEOjE7v"
      },
      "source": [
        "## `registroDoConteúdo`"
      ]
    },
    {
      "cell_type": "markdown",
      "metadata": {
        "id": "g2VcE5rXiGpZ"
      },
      "source": [
        "---\n",
        "> Outputs\n",
        "---\n",
        "`Chamamos de saídas ou outputs do nosso programa todos os dados que são gerados pelo programa e fornecidos para o usuário.\n",
        "Já conhecemos a função print() que recebe um valor ou uma sequência de valores e realiza a tarefa de imprimí-los na tela.`\n",
        "\n",
        "---"
      ]
    },
    {
      "cell_type": "code",
      "metadata": {
        "colab": {
          "base_uri": "https://localhost:8080/"
        },
        "id": "dIa2Fi1eil5H",
        "outputId": "277af124-6d74-42ea-ac8f-bfa4c8ba81a5"
      },
      "source": [
        "y = 3.14 # uma variável do tipo real (float)\n",
        "escola = \"Let's Code\" # uma variável literal (string)\n",
        "\n",
        "# Podemos exibir textos na tela e/ou valores de variáveis com a função print().\n",
        "print('eu estudo na ', escola)\n",
        "print('pi vale', y)\n",
        "\n",
        "# Podemos fazer operações dentro do print:\n",
        "print (y+1, y**2)"
      ],
      "execution_count": null,
      "outputs": [
        {
          "output_type": "stream",
          "name": "stdout",
          "text": [
            "eu estudo na  Let's Code\n",
            "pi vale 3.14\n",
            "4.140000000000001 9.8596\n"
          ]
        }
      ]
    },
    {
      "cell_type": "markdown",
      "metadata": {
        "id": "iFl_N-elirxR"
      },
      "source": [
        "---\n",
        "> Inputs\n",
        "---\n",
        "`Já as entradas ou inputs do nosso programa são as informações que o usuário possui e deve fornecer ao código.`\n",
        "\n",
        "---"
      ]
    },
    {
      "cell_type": "code",
      "metadata": {
        "id": "OfBHGFRTi1oY"
      },
      "source": [
        "# Podemos ler valores do teclado com a função input().\n",
        "# Ela permite que a gente passe uma mensagem para o usuário.\n",
        "nome = input('Digite o seu nome: ')\n",
        "\n",
        "# Tudo que é lido por input() é considerado uma string (str).\n",
        "# Para tratar como outros tipos de dados é necessário realizar a conversão:\n",
        "peso = float(input('Digite o seu peso: ')) # lê o peso como número real\n",
        "idade = int(input('Digite a sua idade: ')) # lê a idade como número inteiro\n",
        "\n",
        "print(nome, 'pesa', peso, 'kg e tem', idade, 'anos de idade.')"
      ],
      "execution_count": null,
      "outputs": []
    },
    {
      "cell_type": "markdown",
      "metadata": {
        "id": "xmEsP5hwgEJj"
      },
      "source": [
        "## Aula 06 - Estruturas Condicionais"
      ]
    },
    {
      "cell_type": "markdown",
      "metadata": {
        "id": "hILLM0PFi8AA"
      },
      "source": [
        "### `Anotações da aula`"
      ]
    },
    {
      "cell_type": "code",
      "metadata": {
        "colab": {
          "base_uri": "https://localhost:8080/"
        },
        "id": "T-0XURMWb8Zd",
        "outputId": "c20e870c-7565-4b1c-c0bd-717287263a2f"
      },
      "source": [
        "valor_passagem = 4.30\n",
        "valor_corrida = input('Qual é o valor da corrida?')\n",
        "if float(valor_corrida) <= valor_passagem * 5:\n",
        "  print('Pague a corrida')\n",
        "if float(valor_corrida) > valor_passagem * 5:\n",
        "  print('Pegue o Ônibus')\n",
        "  "
      ],
      "execution_count": null,
      "outputs": [
        {
          "output_type": "stream",
          "name": "stdout",
          "text": [
            "Qual é o valor da corrida?25\n",
            "Pegue o Ônibus\n"
          ]
        }
      ]
    },
    {
      "cell_type": "code",
      "metadata": {
        "colab": {
          "base_uri": "https://localhost:8080/"
        },
        "id": "T8oHfe1bb8dN",
        "outputId": "a2b81a33-7361-456e-845d-4a364fade9c3"
      },
      "source": [
        "valor_passagem = 4.30\n",
        "valor_corrida = input('Qual é o valor da corrida?')\n",
        "if float(valor_corrida) <= valor_passagem * 5:\n",
        "  print('Pague a corrida')\n",
        "else:\n",
        "  print('Pegue o Ônibus')"
      ],
      "execution_count": null,
      "outputs": [
        {
          "output_type": "stream",
          "name": "stdout",
          "text": [
            "Qual é o valor da corrida?854\n",
            "Pegue o Ônibus\n"
          ]
        }
      ]
    },
    {
      "cell_type": "code",
      "metadata": {
        "colab": {
          "base_uri": "https://localhost:8080/"
        },
        "id": "Rl1MqWO6b8ii",
        "outputId": "da785ce6-9f0f-4c3e-d04c-3e9eb6b6f2c6"
      },
      "source": [
        "valor_passagem = 4.30\n",
        "valor_corrida = float(input('Qual é o valor da corrida? '))\n",
        "if valor_corrida <= valor_passagem * 5:\n",
        "  print('Pague a corrida')\n",
        "elif valor_corrida <= valor_passagem * 6:\n",
        "  print('Aguarde mais um momento, o valor pode abaixar')\n",
        "else:\n",
        "  print('Pegue o Ônibus')"
      ],
      "execution_count": null,
      "outputs": [
        {
          "output_type": "stream",
          "name": "stdout",
          "text": [
            "Qual é o valor da corrida? 28.7\n",
            "Pegue o Ônibus\n"
          ]
        }
      ]
    },
    {
      "cell_type": "markdown",
      "metadata": {
        "id": "u-ilxAxKjMyv"
      },
      "source": [
        "## `registroDoConteúdo`\n",
        "---\n",
        "> If\n",
        "\n",
        "`O if testa uma condição:`  \n",
        "*   `se ela for verdadeira, seu conteúdo é executado;`\n",
        "*   `caso contrário, seu conteúdo é ignorado.`"
      ]
    },
    {
      "cell_type": "code",
      "metadata": {
        "colab": {
          "base_uri": "https://localhost:8080/"
        },
        "id": "FB1XnYBkWPev",
        "outputId": "f6b3a8f1-52fb-4ab4-9008-58453553e9c7"
      },
      "source": [
        "idade = int(input('Digite sua idade:'))\n",
        "if idade >= 12:\n",
        "    print('Você pode entrar na montanha russa.')\n",
        "print('Obrigado por participar.')\n",
        "\n",
        "altura = float(input('Digite sua altura, em metros:'))\n",
        "if idade >= 12 and altura >= 1.60:\n",
        "    print('Você pode entrar na montanha russa.')\n",
        "print('Obrigado por participar.')"
      ],
      "execution_count": null,
      "outputs": [
        {
          "output_type": "stream",
          "name": "stdout",
          "text": [
            "Digite sua idade:85\n",
            "Você pode entrar na montanha russa.\n",
            "Obrigado por participar.\n",
            "Digite sua altura, em metros:174\n",
            "Você pode entrar na montanha russa.\n",
            "Obrigado por participar.\n"
          ]
        }
      ]
    },
    {
      "cell_type": "markdown",
      "metadata": {
        "id": "NrtRNm_NWXZW"
      },
      "source": [
        "`Utilizamos um 'tab' antes de cada linha pertencente ao if. No exemplo acima, a linha 'obrigado por participar' sempre será exibida. Já a linha 'Você pode entrar na montanha russa.' só será exibida se a idade digitada for maior ou igual a 12 e a altura digitada for maior ou igual a 1.60.`\n",
        "\n",
        "> Else\n",
        "\n",
        "`Em alguns casos, queremos que o programa escolha entre 2 casos mutuamente exclusivos. Para isso utilizamos o else. O else não possui condição para verificar. O else sempre vem imediatamente após um if e é executado se o if for ignorado.`  "
      ]
    },
    {
      "cell_type": "code",
      "metadata": {
        "colab": {
          "base_uri": "https://localhost:8080/"
        },
        "id": "4dihFK6MWuVV",
        "outputId": "3affd23b-a21f-4085-af21-fc28a1b40b31"
      },
      "source": [
        "idade = int(input('Digite sua idade:'))\n",
        "altura = float(input('Digite sua altura, em metros:'))\n",
        "if idade >= 12 and altura >= 1.60:\n",
        "    print('Você pode entrar na montanha russa.')\n",
        "else:\n",
        "    print('Você não pode entrar na montanha russa.')\n",
        "print('Obrigado por participar.')"
      ],
      "execution_count": null,
      "outputs": [
        {
          "output_type": "stream",
          "name": "stdout",
          "text": [
            "Digite sua idade:85\n",
            "Digite sua altura, em metros:14\n",
            "Você pode entrar na montanha russa.\n",
            "Obrigado por participar.\n"
          ]
        }
      ]
    },
    {
      "cell_type": "markdown",
      "metadata": {
        "id": "8TrcPpLoWzga"
      },
      "source": [
        "`É possível \"aninhar\" diversos if's e else's. O programa abaixo só deixa a pessoa entrar no brinquedo se tiver idade e altura mínimas:`"
      ]
    },
    {
      "cell_type": "code",
      "metadata": {
        "id": "KqZ2Hjn9W6k8"
      },
      "source": [
        "idade = int(input('Digite sua idade:'))\n",
        "if idade >= 12:\n",
        "    resposta = input('Você gostaria de entrar nesta montanha russa?')\n",
        "    if (resposta == 'sim'):\n",
        "        print('Por favor, entre!')\n",
        "    else:\n",
        "        print('Ok então')\n",
        "else:\n",
        "    print('Você não tem idade suficiente para entrar nesse brinquedo.')"
      ],
      "execution_count": null,
      "outputs": []
    },
    {
      "cell_type": "markdown",
      "metadata": {
        "id": "xeWrg8lIW_JR"
      },
      "source": [
        ">Elif\n",
        "\n",
        "`Podemos testar diversos casos mutuamente exclusivos utilizando o 'elif'.\n",
        "O comando elif é a contração de \"else if\" - ou seja, caso um if não seja executado, você pode propor uma nova condição para ser testada.`"
      ]
    },
    {
      "cell_type": "code",
      "metadata": {
        "colab": {
          "base_uri": "https://localhost:8080/"
        },
        "id": "d_FTPvNAXI-a",
        "outputId": "580e9be6-488b-47d0-d74b-bcb0509d9b6e"
      },
      "source": [
        "exercicios = int(input('Quantos exercícios de Python vc já fez?'))\n",
        "\n",
        "if exercicios > 30:\n",
        "    print('Já está ficando profissional!')\n",
        "elif exercicios > 20:\n",
        "    print('Tá indo bem, bora fazer mais alguns!')\n",
        "elif exercicios > 10:\n",
        "    print('Vamos tirar o atraso?')\n",
        "else:\n",
        "    print('Xiiii...')"
      ],
      "execution_count": null,
      "outputs": [
        {
          "output_type": "stream",
          "name": "stdout",
          "text": [
            "Quantos exercícios de Python vc já fez?10\n",
            "Xiiii...\n"
          ]
        }
      ]
    },
    {
      "cell_type": "markdown",
      "metadata": {
        "id": "uP1KAlUIXNzZ"
      },
      "source": [
        "`Observe que a união das 3 estruturas (if-elif-else) implica que seu código seguirá apenas um dos possíveis caminhos, obrigatoriamente.`"
      ]
    },
    {
      "cell_type": "markdown",
      "metadata": {
        "id": "GRUUCj8-87L5"
      },
      "source": [
        "##Aula 07 - Estruturas de Repetição - While"
      ]
    },
    {
      "cell_type": "markdown",
      "metadata": {
        "id": "cLilA0cRcHWe"
      },
      "source": [
        "### `Anotações da aula`"
      ]
    },
    {
      "cell_type": "code",
      "metadata": {
        "id": "S_IImpsdjBLe"
      },
      "source": [
        "contador = 0\n",
        "while contador < 10:\n",
        "  contador = contador + 1\n",
        "  if contador == 1:\n",
        "    print(contador,'item limpo')\n",
        "  else:\n",
        "      print(contador,'itens limpos')\n",
        "print('Fim da repetição do bloco while')"
      ],
      "execution_count": null,
      "outputs": []
    },
    {
      "cell_type": "code",
      "metadata": {
        "id": "OAq5p1ZVjBPc",
        "colab": {
          "base_uri": "https://localhost:8080/"
        },
        "outputId": "e65b9189-9367-4b99-8168-a6d4d2be6cf5"
      },
      "source": [
        "contador = 0\n",
        "while True:\n",
        "  contador = contador + 1\n",
        "  if contador < 10:\n",
        "    if contador == 1:\n",
        "      print(contador,'item limpo')\n",
        "    else:\n",
        "      print(contador,'itens limpos')\n",
        "  else:\n",
        "    break\n",
        "\n",
        "print('Fim da repetição do bloco while')"
      ],
      "execution_count": null,
      "outputs": [
        {
          "output_type": "stream",
          "name": "stdout",
          "text": [
            "1 item limpo\n",
            "2 itens limpos\n",
            "3 itens limpos\n",
            "4 itens limpos\n",
            "5 itens limpos\n",
            "6 itens limpos\n",
            "7 itens limpos\n",
            "8 itens limpos\n",
            "9 itens limpos\n",
            "Fim da repetição do bloco while\n"
          ]
        }
      ]
    },
    {
      "cell_type": "code",
      "metadata": {
        "id": "rYSf-KvnjBRy",
        "colab": {
          "base_uri": "https://localhost:8080/"
        },
        "outputId": "8fe22e4a-21d5-4303-c7ff-b2d27880fb58"
      },
      "source": [
        "texto = input('Digite a sua senha: ')\n",
        "\n",
        "while texto != 'LetsCode':\n",
        "  texto= input('Senha Inválida, tente novamente ')\n",
        "print('Acesso permitido')"
      ],
      "execution_count": null,
      "outputs": [
        {
          "output_type": "stream",
          "name": "stdout",
          "text": [
            "Digite a sua senha: LetsCode\n",
            "Acesso permitido\n"
          ]
        }
      ]
    },
    {
      "cell_type": "code",
      "metadata": {
        "id": "XMb5ijk5jBUi",
        "colab": {
          "base_uri": "https://localhost:8080/"
        },
        "outputId": "def105f3-2df8-4856-dbe4-88a4593b0b83"
      },
      "source": [
        "contador = 0\n",
        "while contador < 10:\n",
        "  contador = contador + 1\n",
        "  if contador == 1:\n",
        "    continue\n",
        "  print(contador,'itens limpos')\n",
        "print('Fim da repetição do bloco while')"
      ],
      "execution_count": null,
      "outputs": [
        {
          "output_type": "stream",
          "name": "stdout",
          "text": [
            "2 itens limpos\n",
            "3 itens limpos\n",
            "4 itens limpos\n",
            "5 itens limpos\n",
            "6 itens limpos\n",
            "7 itens limpos\n",
            "8 itens limpos\n",
            "9 itens limpos\n",
            "10 itens limpos\n",
            "Fim da repetição do bloco while\n"
          ]
        }
      ]
    },
    {
      "cell_type": "markdown",
      "metadata": {
        "id": "5vm3ZtSzZI4V"
      },
      "source": [
        "## `registroDoConteúdo`\n",
        "---\n",
        "> While\n",
        "\n",
        "`O while é bastante parecido com um 'if': ele possui uma expressão, e é executado caso ela seja verdadeira. Mas o if é executado apenas uma vez, e depois o código segue adiante.\n",
        "O while não: ao final de sua execução, ele torna a testar a expressão, e caso ela seja verdadeira, ele repete sua execução.`"
      ]
    },
    {
      "cell_type": "code",
      "metadata": {
        "id": "gSyaLuapZVvd"
      },
      "source": [
        "horario = int(input('Qual horario é agora? '))\n",
        "\n",
        "# Testando a condição uma única vez com o if:\n",
        "if 0 < horario < 6:\n",
        "    print('Você está no horario da madrugada')\n",
        "else:\n",
        "    print('Você nao está no horario da madrugada')\n",
        "\n",
        "# Testando a condição em loop com o while:\n",
        "while 0 < horario < 6:\n",
        "    print('Você está no horario da madrugada')\n",
        "    horario = horario + 1\n",
        "else:\n",
        "    print('Você nao está no horario da madrugada')\n",
        "\n",
        "# O while permite continuar decrementando o número de pipocas até chegar em 0:\n",
        "num_pipocas = int(input('Digite o numero de pipocas: '))\n",
        "\n",
        "while num_pipocas > 0:\n",
        "    print('O numero de pipocas é: ', num_pipocas)\n",
        "    num_pipocas = num_pipocas - 1"
      ],
      "execution_count": null,
      "outputs": []
    },
    {
      "cell_type": "markdown",
      "metadata": {
        "id": "RzZ_aoh4Zcxs"
      },
      "source": [
        ">Validação de entrada\n",
        "\n",
        "`Uma utilidade interessante do while é obrigar o usuário a digitar apenas entradas válidas.`"
      ]
    },
    {
      "cell_type": "code",
      "metadata": {
        "colab": {
          "base_uri": "https://localhost:8080/"
        },
        "id": "XFGJCtKvZaqJ",
        "outputId": "1bb462f8-18a6-403e-ee2a-a7f4179dee0f"
      },
      "source": [
        "# o exemplo abaixo não aceita um salário menor do que o mínimo atual:\n",
        "salario = float(input('Digite seu salário : '))\n",
        "while salario < 998.0:\n",
        "    salario = float(input('Entre com um  salário MAIOR DO QUE 998.0: '))\n",
        "else:\n",
        "    print('O salario que você entrou foi: ', salario)"
      ],
      "execution_count": null,
      "outputs": [
        {
          "output_type": "stream",
          "name": "stdout",
          "text": [
            "Digite seu salario: 184\n",
            "Entre com um salario MAIOR DO QUE 998.0: 58\n",
            "Entre com um salario MAIOR DO QUE 998.0: 998\n",
            "O salario que você entrou foi:  998.0\n"
          ]
        }
      ]
    },
    {
      "cell_type": "code",
      "metadata": {
        "id": "P-Rf-MtbZw-P"
      },
      "source": [
        "# o exemplo abaixo só sai do loop quando o usuário digitar \"OK\":\n",
        "resposta = input('Digite OK: ')\n",
        "while resposta != 'OK':\n",
        "    resposta = input('Não foi isso que eu pedi, digite OK: ')"
      ],
      "execution_count": null,
      "outputs": []
    },
    {
      "cell_type": "markdown",
      "metadata": {
        "id": "ZqN2IhZ8Z1s7"
      },
      "source": [
        ">Contador\n",
        "\n",
        "`Todo tipo de código que deve se repetir várias vezes pode ser feito com o while, como somar vários valores, gerar uma sequência etc. Nestes casos, é normal utilizar um contador:`"
      ]
    },
    {
      "cell_type": "code",
      "metadata": {
        "id": "4G180Vt3aHE4"
      },
      "source": [
        "# Declaramos um contador como 0:\n",
        "contador = 0\n",
        "# Definimos o número de repetições:\n",
        "numero = int(input('Digite um numero: '))\n",
        "# Rodamos o while até o contador se igualar ao número de repetições:\n",
        "while contador < numero:\n",
        "    print(contador)\n",
        "    contador = contador + 1"
      ],
      "execution_count": null,
      "outputs": []
    },
    {
      "cell_type": "markdown",
      "metadata": {
        "id": "zPLZwjMJaKrj"
      },
      "source": [
        ">Break\n",
        "\n",
        "`Um jeito de forçar um loop a ser interrompido é utilizando o comando 'break'. O loop abaixo em tese seria infinito, mas se a condição do if for verificada, o break é executado e conseguimos escapar do loop:`"
      ]
    },
    {
      "cell_type": "code",
      "metadata": {
        "id": "MlUQXPmZaTSd"
      },
      "source": [
        "while True:\n",
        "    resposta = input('Digite OK: ')\n",
        "    if resposta == 'OK':\n",
        "        break"
      ],
      "execution_count": null,
      "outputs": []
    },
    {
      "cell_type": "markdown",
      "metadata": {
        "id": "-1jxsZH3dWWq"
      },
      "source": [
        "# toBeContinued"
      ]
    }
  ]
}