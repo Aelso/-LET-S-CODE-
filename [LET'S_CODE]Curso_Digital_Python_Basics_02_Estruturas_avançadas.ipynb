{
  "nbformat": 4,
  "nbformat_minor": 0,
  "metadata": {
    "colab": {
      "name": "[LET'S CODE]Curso Digital Python Basics_02_Estruturas avançadas.ipynb",
      "provenance": [],
      "toc_visible": true
    },
    "kernelspec": {
      "name": "python3",
      "display_name": "Python 3"
    },
    "language_info": {
      "name": "python"
    }
  },
  "cells": [
    {
      "cell_type": "code",
      "metadata": {
        "id": "qXBTvmYxeYC6"
      },
      "source": [
        ""
      ],
      "execution_count": 2,
      "outputs": []
    },
    {
      "cell_type": "markdown",
      "metadata": {
        "id": "SMHa5wiT1u6I"
      },
      "source": [
        "---\n",
        "\n",
        "# Sobre!\n",
        "Essas são as anotações das aulas para auxiliar os estudos .O notebook contém além da parte teórica, exercícios práticos e comentários dos exercícios para seu entendimento. Compartilhar o conhecimento faz parte do DNA e do dia a dia da nossa comunidade.\n",
        "\n",
        "###Créditos :\n",
        "\n",
        "Tera\n",
        "Acabei de conhecer, mas já virei fã.\n",
        "\n",
        "###disclaimer: I didn't get my money, nothing for that\n",
        "\n",
        "não recebi meu dinheiro nada por isso : )\n",
        "\n",
        "\n",
        "---"
      ]
    },
    {
      "cell_type": "markdown",
      "metadata": {
        "id": "L5p7-C0w2Q69"
      },
      "source": [
        "### Conceitos básicos"
      ]
    },
    {
      "cell_type": "markdown",
      "metadata": {
        "id": "-1uZBnp72TfI"
      },
      "source": [
        "Um documento do Colab é chamado Notebook (ou caderno), e notebooks são compostos por células. Células podem conter texto ou código e são executadas individualmente. Este é um exemplo de célula de texto, e abaixo temos um exemplo de célula de código. Para executar uma célula você pode clicar no campo e apertar o símbolo \"Play\", ou usar o atalho Ctrl + Enter."
      ]
    },
    {
      "cell_type": "markdown",
      "metadata": {
        "id": "oBYoHMANwtuo"
      },
      "source": [
        "## Executando comandos Linux"
      ]
    },
    {
      "cell_type": "markdown",
      "metadata": {
        "id": "NgEAhkZTwxEG"
      },
      "source": [
        "O interpretador do Jupyter também permite a execução de comandos do terminal do Linux nas células de código. Você pode usar estes comandos para instalar pacotes no sistema, fazer Downloads, mover arquivos, etc.\n",
        "\n",
        "Para executar um comando no Terminal, basta começar a linha da célula com uma exclamação (!). Veja um exemplo para o comando pwd abaixo, que mostra o diretório corrente."
      ]
    },
    {
      "cell_type": "code",
      "metadata": {
        "colab": {
          "base_uri": "https://localhost:8080/"
        },
        "id": "qOJw2md6ws_j",
        "outputId": "522f75aa-36c0-4081-d593-23f49eb1877b"
      },
      "source": [
        "!pwd"
      ],
      "execution_count": 3,
      "outputs": [
        {
          "output_type": "stream",
          "name": "stdout",
          "text": [
            "/content\n"
          ]
        }
      ]
    },
    {
      "cell_type": "markdown",
      "metadata": {
        "id": "D6DEsb_hxeAP"
      },
      "source": [
        "Para instalar um pacote Python, você pode usar o comando `pip`. No entanto você deve perceber que o ambiente do Colab já vem com vários pacotes instalados, como é o caso do numpy."
      ]
    },
    {
      "cell_type": "markdown",
      "metadata": {
        "id": "y7lNf-mSU9Ie"
      },
      "source": [
        "Se ao longo do desenvolvimento você precisar salvar arquivos de entrada ou resultados da execução do seu código, uma boa maneira de fazê-lo no Colab é usar o Google Drive. Abaixo apresentamos um exemplo de como se conectar ao Google Drive. Você pode futuramente acessar estes arquivos em um novo notebook, ou vê-los e baixá-los em [drive.google.com](drive.google.com).\n",
        "\n",
        "\n",
        "Ao executar o código abaixo, a saída do notebook terá um link e um campo de entrada. Você precisa acessar o link fornecido, fazer login no Google, e copiar a chave fornecida no campo de entrada."
      ]
    },
    {
      "cell_type": "code",
      "metadata": {
        "id": "5Xaj_Ifkcgnz",
        "colab": {
          "base_uri": "https://localhost:8080/",
          "height": 527
        },
        "outputId": "3f66444e-d709-43e4-c735-4eddf723ad53"
      },
      "source": [
        "from google.colab import drive\n",
        "drive.mount(\"/content/drive\")"
      ],
      "execution_count": 4,
      "outputs": [
        {
          "output_type": "error",
          "ename": "KeyboardInterrupt",
          "evalue": "ignored",
          "traceback": [
            "\u001b[0;31m---------------------------------------------------------------------------\u001b[0m",
            "\u001b[0;31mKeyboardInterrupt\u001b[0m                         Traceback (most recent call last)",
            "\u001b[0;32m/usr/local/lib/python3.7/dist-packages/ipykernel/kernelbase.py\u001b[0m in \u001b[0;36m_input_request\u001b[0;34m(self, prompt, ident, parent, password)\u001b[0m\n\u001b[1;32m    728\u001b[0m             \u001b[0;32mtry\u001b[0m\u001b[0;34m:\u001b[0m\u001b[0;34m\u001b[0m\u001b[0;34m\u001b[0m\u001b[0m\n\u001b[0;32m--> 729\u001b[0;31m                 \u001b[0mident\u001b[0m\u001b[0;34m,\u001b[0m \u001b[0mreply\u001b[0m \u001b[0;34m=\u001b[0m \u001b[0mself\u001b[0m\u001b[0;34m.\u001b[0m\u001b[0msession\u001b[0m\u001b[0;34m.\u001b[0m\u001b[0mrecv\u001b[0m\u001b[0;34m(\u001b[0m\u001b[0mself\u001b[0m\u001b[0;34m.\u001b[0m\u001b[0mstdin_socket\u001b[0m\u001b[0;34m,\u001b[0m \u001b[0;36m0\u001b[0m\u001b[0;34m)\u001b[0m\u001b[0;34m\u001b[0m\u001b[0;34m\u001b[0m\u001b[0m\n\u001b[0m\u001b[1;32m    730\u001b[0m             \u001b[0;32mexcept\u001b[0m \u001b[0mException\u001b[0m\u001b[0;34m:\u001b[0m\u001b[0;34m\u001b[0m\u001b[0;34m\u001b[0m\u001b[0m\n",
            "\u001b[0;32m/usr/local/lib/python3.7/dist-packages/jupyter_client/session.py\u001b[0m in \u001b[0;36mrecv\u001b[0;34m(self, socket, mode, content, copy)\u001b[0m\n\u001b[1;32m    802\u001b[0m         \u001b[0;32mtry\u001b[0m\u001b[0;34m:\u001b[0m\u001b[0;34m\u001b[0m\u001b[0;34m\u001b[0m\u001b[0m\n\u001b[0;32m--> 803\u001b[0;31m             \u001b[0mmsg_list\u001b[0m \u001b[0;34m=\u001b[0m \u001b[0msocket\u001b[0m\u001b[0;34m.\u001b[0m\u001b[0mrecv_multipart\u001b[0m\u001b[0;34m(\u001b[0m\u001b[0mmode\u001b[0m\u001b[0;34m,\u001b[0m \u001b[0mcopy\u001b[0m\u001b[0;34m=\u001b[0m\u001b[0mcopy\u001b[0m\u001b[0;34m)\u001b[0m\u001b[0;34m\u001b[0m\u001b[0;34m\u001b[0m\u001b[0m\n\u001b[0m\u001b[1;32m    804\u001b[0m         \u001b[0;32mexcept\u001b[0m \u001b[0mzmq\u001b[0m\u001b[0;34m.\u001b[0m\u001b[0mZMQError\u001b[0m \u001b[0;32mas\u001b[0m \u001b[0me\u001b[0m\u001b[0;34m:\u001b[0m\u001b[0;34m\u001b[0m\u001b[0;34m\u001b[0m\u001b[0m\n",
            "\u001b[0;32m/usr/local/lib/python3.7/dist-packages/zmq/sugar/socket.py\u001b[0m in \u001b[0;36mrecv_multipart\u001b[0;34m(self, flags, copy, track)\u001b[0m\n\u001b[1;32m    624\u001b[0m         \"\"\"\n\u001b[0;32m--> 625\u001b[0;31m         \u001b[0mparts\u001b[0m \u001b[0;34m=\u001b[0m \u001b[0;34m[\u001b[0m\u001b[0mself\u001b[0m\u001b[0;34m.\u001b[0m\u001b[0mrecv\u001b[0m\u001b[0;34m(\u001b[0m\u001b[0mflags\u001b[0m\u001b[0;34m,\u001b[0m \u001b[0mcopy\u001b[0m\u001b[0;34m=\u001b[0m\u001b[0mcopy\u001b[0m\u001b[0;34m,\u001b[0m \u001b[0mtrack\u001b[0m\u001b[0;34m=\u001b[0m\u001b[0mtrack\u001b[0m\u001b[0;34m)\u001b[0m\u001b[0;34m]\u001b[0m\u001b[0;34m\u001b[0m\u001b[0;34m\u001b[0m\u001b[0m\n\u001b[0m\u001b[1;32m    626\u001b[0m         \u001b[0;31m# have first part already, only loop while more to receive\u001b[0m\u001b[0;34m\u001b[0m\u001b[0;34m\u001b[0m\u001b[0;34m\u001b[0m\u001b[0m\n",
            "\u001b[0;32mzmq/backend/cython/socket.pyx\u001b[0m in \u001b[0;36mzmq.backend.cython.socket.Socket.recv\u001b[0;34m()\u001b[0m\n",
            "\u001b[0;32mzmq/backend/cython/socket.pyx\u001b[0m in \u001b[0;36mzmq.backend.cython.socket.Socket.recv\u001b[0;34m()\u001b[0m\n",
            "\u001b[0;32mzmq/backend/cython/socket.pyx\u001b[0m in \u001b[0;36mzmq.backend.cython.socket._recv_copy\u001b[0;34m()\u001b[0m\n",
            "\u001b[0;32m/usr/local/lib/python3.7/dist-packages/zmq/backend/cython/checkrc.pxd\u001b[0m in \u001b[0;36mzmq.backend.cython.checkrc._check_rc\u001b[0;34m()\u001b[0m\n",
            "\u001b[0;31mKeyboardInterrupt\u001b[0m: ",
            "\nDuring handling of the above exception, another exception occurred:\n",
            "\u001b[0;31mKeyboardInterrupt\u001b[0m                         Traceback (most recent call last)",
            "\u001b[0;32m<ipython-input-4-bf1647b42bbd>\u001b[0m in \u001b[0;36m<module>\u001b[0;34m()\u001b[0m\n\u001b[1;32m      1\u001b[0m \u001b[0;32mfrom\u001b[0m \u001b[0mgoogle\u001b[0m\u001b[0;34m.\u001b[0m\u001b[0mcolab\u001b[0m \u001b[0;32mimport\u001b[0m \u001b[0mdrive\u001b[0m\u001b[0;34m\u001b[0m\u001b[0;34m\u001b[0m\u001b[0m\n\u001b[0;32m----> 2\u001b[0;31m \u001b[0mdrive\u001b[0m\u001b[0;34m.\u001b[0m\u001b[0mmount\u001b[0m\u001b[0;34m(\u001b[0m\u001b[0;34m\"/content/drive\"\u001b[0m\u001b[0;34m)\u001b[0m\u001b[0;34m\u001b[0m\u001b[0;34m\u001b[0m\u001b[0m\n\u001b[0m",
            "\u001b[0;32m/usr/local/lib/python3.7/dist-packages/google/colab/drive.py\u001b[0m in \u001b[0;36mmount\u001b[0;34m(mountpoint, force_remount, timeout_ms, use_metadata_server)\u001b[0m\n\u001b[1;32m    111\u001b[0m       \u001b[0mtimeout_ms\u001b[0m\u001b[0;34m=\u001b[0m\u001b[0mtimeout_ms\u001b[0m\u001b[0;34m,\u001b[0m\u001b[0;34m\u001b[0m\u001b[0;34m\u001b[0m\u001b[0m\n\u001b[1;32m    112\u001b[0m       \u001b[0muse_metadata_server\u001b[0m\u001b[0;34m=\u001b[0m\u001b[0muse_metadata_server\u001b[0m\u001b[0;34m,\u001b[0m\u001b[0;34m\u001b[0m\u001b[0;34m\u001b[0m\u001b[0m\n\u001b[0;32m--> 113\u001b[0;31m       ephemeral=ephemeral)\n\u001b[0m\u001b[1;32m    114\u001b[0m \u001b[0;34m\u001b[0m\u001b[0m\n\u001b[1;32m    115\u001b[0m \u001b[0;34m\u001b[0m\u001b[0m\n",
            "\u001b[0;32m/usr/local/lib/python3.7/dist-packages/google/colab/drive.py\u001b[0m in \u001b[0;36m_mount\u001b[0;34m(mountpoint, force_remount, timeout_ms, use_metadata_server, ephemeral)\u001b[0m\n\u001b[1;32m    290\u001b[0m       \u001b[0;32mwith\u001b[0m \u001b[0m_output\u001b[0m\u001b[0;34m.\u001b[0m\u001b[0muse_tags\u001b[0m\u001b[0;34m(\u001b[0m\u001b[0;34m'dfs-auth-dance'\u001b[0m\u001b[0;34m)\u001b[0m\u001b[0;34m:\u001b[0m\u001b[0;34m\u001b[0m\u001b[0;34m\u001b[0m\u001b[0m\n\u001b[1;32m    291\u001b[0m         \u001b[0;32mwith\u001b[0m \u001b[0mopen\u001b[0m\u001b[0;34m(\u001b[0m\u001b[0mfifo\u001b[0m\u001b[0;34m,\u001b[0m \u001b[0;34m'w'\u001b[0m\u001b[0;34m)\u001b[0m \u001b[0;32mas\u001b[0m \u001b[0mfifo_file\u001b[0m\u001b[0;34m:\u001b[0m\u001b[0;34m\u001b[0m\u001b[0;34m\u001b[0m\u001b[0m\n\u001b[0;32m--> 292\u001b[0;31m           \u001b[0mfifo_file\u001b[0m\u001b[0;34m.\u001b[0m\u001b[0mwrite\u001b[0m\u001b[0;34m(\u001b[0m\u001b[0mget_code\u001b[0m\u001b[0;34m(\u001b[0m\u001b[0mauth_prompt\u001b[0m\u001b[0;34m)\u001b[0m \u001b[0;34m+\u001b[0m \u001b[0;34m'\\n'\u001b[0m\u001b[0;34m)\u001b[0m\u001b[0;34m\u001b[0m\u001b[0;34m\u001b[0m\u001b[0m\n\u001b[0m\u001b[1;32m    293\u001b[0m       \u001b[0mwrote_to_fifo\u001b[0m \u001b[0;34m=\u001b[0m \u001b[0;32mTrue\u001b[0m\u001b[0;34m\u001b[0m\u001b[0;34m\u001b[0m\u001b[0m\n\u001b[1;32m    294\u001b[0m     \u001b[0;32melif\u001b[0m \u001b[0mcase\u001b[0m \u001b[0;34m==\u001b[0m \u001b[0;36m5\u001b[0m\u001b[0;34m:\u001b[0m\u001b[0;34m\u001b[0m\u001b[0;34m\u001b[0m\u001b[0m\n",
            "\u001b[0;32m/usr/local/lib/python3.7/dist-packages/ipykernel/kernelbase.py\u001b[0m in \u001b[0;36mraw_input\u001b[0;34m(self, prompt)\u001b[0m\n\u001b[1;32m    702\u001b[0m             \u001b[0mself\u001b[0m\u001b[0;34m.\u001b[0m\u001b[0m_parent_ident\u001b[0m\u001b[0;34m,\u001b[0m\u001b[0;34m\u001b[0m\u001b[0;34m\u001b[0m\u001b[0m\n\u001b[1;32m    703\u001b[0m             \u001b[0mself\u001b[0m\u001b[0;34m.\u001b[0m\u001b[0m_parent_header\u001b[0m\u001b[0;34m,\u001b[0m\u001b[0;34m\u001b[0m\u001b[0;34m\u001b[0m\u001b[0m\n\u001b[0;32m--> 704\u001b[0;31m             \u001b[0mpassword\u001b[0m\u001b[0;34m=\u001b[0m\u001b[0;32mFalse\u001b[0m\u001b[0;34m,\u001b[0m\u001b[0;34m\u001b[0m\u001b[0;34m\u001b[0m\u001b[0m\n\u001b[0m\u001b[1;32m    705\u001b[0m         )\n\u001b[1;32m    706\u001b[0m \u001b[0;34m\u001b[0m\u001b[0m\n",
            "\u001b[0;32m/usr/local/lib/python3.7/dist-packages/ipykernel/kernelbase.py\u001b[0m in \u001b[0;36m_input_request\u001b[0;34m(self, prompt, ident, parent, password)\u001b[0m\n\u001b[1;32m    732\u001b[0m             \u001b[0;32mexcept\u001b[0m \u001b[0mKeyboardInterrupt\u001b[0m\u001b[0;34m:\u001b[0m\u001b[0;34m\u001b[0m\u001b[0;34m\u001b[0m\u001b[0m\n\u001b[1;32m    733\u001b[0m                 \u001b[0;31m# re-raise KeyboardInterrupt, to truncate traceback\u001b[0m\u001b[0;34m\u001b[0m\u001b[0;34m\u001b[0m\u001b[0;34m\u001b[0m\u001b[0m\n\u001b[0;32m--> 734\u001b[0;31m                 \u001b[0;32mraise\u001b[0m \u001b[0mKeyboardInterrupt\u001b[0m\u001b[0;34m\u001b[0m\u001b[0;34m\u001b[0m\u001b[0m\n\u001b[0m\u001b[1;32m    735\u001b[0m             \u001b[0;32melse\u001b[0m\u001b[0;34m:\u001b[0m\u001b[0;34m\u001b[0m\u001b[0;34m\u001b[0m\u001b[0m\n\u001b[1;32m    736\u001b[0m                 \u001b[0;32mbreak\u001b[0m\u001b[0;34m\u001b[0m\u001b[0;34m\u001b[0m\u001b[0m\n",
            "\u001b[0;31mKeyboardInterrupt\u001b[0m: "
          ]
        }
      ]
    },
    {
      "cell_type": "markdown",
      "metadata": {
        "id": "-9Yn9hFkvW_p"
      },
      "source": [
        "Após montar o diretório, tudo que for salvo em `/content/drive/MyDrive` estará disponível no seu Google Drive, e ficará salvo mesmo que a sessão seja destruida."
      ]
    },
    {
      "cell_type": "markdown",
      "metadata": {
        "id": "f3gduHKMGJ86"
      },
      "source": [
        "# 02.Estruturas avançadas\n"
      ]
    },
    {
      "cell_type": "markdown",
      "metadata": {
        "id": "cmne4KlhG8Kl"
      },
      "source": [
        "##Aula 01 - Listas e Tuplas"
      ]
    },
    {
      "cell_type": "markdown",
      "metadata": {
        "id": "yOfBWOSpalYs"
      },
      "source": [
        "### `Anotações da aula`"
      ]
    },
    {
      "cell_type": "code",
      "metadata": {
        "colab": {
          "base_uri": "https://localhost:8080/"
        },
        "id": "tgEf0U1aHFgV",
        "outputId": "bef6d239-1af6-4972-f5c7-a33782935e74"
      },
      "source": [
        "nomes_paises = ['Brasil','Argetina','China', 'Canadá','Japão']\n",
        "nomes_paises"
      ],
      "execution_count": 6,
      "outputs": [
        {
          "output_type": "execute_result",
          "data": {
            "text/plain": [
              "['Brasil', 'Argetina', 'China', 'Canadá', 'Japão']"
            ]
          },
          "metadata": {},
          "execution_count": 6
        }
      ]
    },
    {
      "cell_type": "code",
      "metadata": {
        "colab": {
          "base_uri": "https://localhost:8080/"
        },
        "id": "ZCCGLAjfJEjh",
        "outputId": "59d7e06d-a924-45e2-f262-3ad42212aabe"
      },
      "source": [
        "'Tamanho da lista:', len(nomes_paises)\n",
        "'Paises:',nomes_paises[4]"
      ],
      "execution_count": 7,
      "outputs": [
        {
          "output_type": "execute_result",
          "data": {
            "text/plain": [
              "('Paises:', 'Japão')"
            ]
          },
          "metadata": {},
          "execution_count": 7
        }
      ]
    },
    {
      "cell_type": "code",
      "metadata": {
        "colab": {
          "base_uri": "https://localhost:8080/"
        },
        "id": "UJ6F9RjHJHs7",
        "outputId": "48db2d45-544a-4c72-e544-24d5abe425c6"
      },
      "source": [
        "'Paises:',nomes_paises[-1]"
      ],
      "execution_count": 8,
      "outputs": [
        {
          "output_type": "execute_result",
          "data": {
            "text/plain": [
              "('Paises:', 'Japão')"
            ]
          },
          "metadata": {},
          "execution_count": 8
        }
      ]
    },
    {
      "cell_type": "code",
      "metadata": {
        "id": "X5w6XXK9JIw1"
      },
      "source": [
        "nomes_paises[4] ='Colômbia'"
      ],
      "execution_count": 9,
      "outputs": []
    },
    {
      "cell_type": "code",
      "metadata": {
        "colab": {
          "base_uri": "https://localhost:8080/",
          "height": 163
        },
        "id": "BXvAoNXKJK48",
        "outputId": "e80e11a0-c158-448b-aa0a-7e6ac71773d1"
      },
      "source": [
        "nomes_paises[5] = 'Chile'"
      ],
      "execution_count": 10,
      "outputs": [
        {
          "output_type": "error",
          "ename": "IndexError",
          "evalue": "ignored",
          "traceback": [
            "\u001b[0;31m---------------------------------------------------------------------------\u001b[0m",
            "\u001b[0;31mIndexError\u001b[0m                                Traceback (most recent call last)",
            "\u001b[0;32m<ipython-input-10-f36ce9dec946>\u001b[0m in \u001b[0;36m<module>\u001b[0;34m()\u001b[0m\n\u001b[0;32m----> 1\u001b[0;31m \u001b[0mnomes_paises\u001b[0m\u001b[0;34m[\u001b[0m\u001b[0;36m5\u001b[0m\u001b[0;34m]\u001b[0m \u001b[0;34m=\u001b[0m \u001b[0;34m'Chile'\u001b[0m\u001b[0;34m\u001b[0m\u001b[0;34m\u001b[0m\u001b[0m\n\u001b[0m",
            "\u001b[0;31mIndexError\u001b[0m: list assignment index out of range"
          ]
        }
      ]
    },
    {
      "cell_type": "code",
      "metadata": {
        "id": "60-8RmV5JP_8",
        "colab": {
          "base_uri": "https://localhost:8080/"
        },
        "outputId": "74512709-6033-4c7b-c422-bed8d46b7cee"
      },
      "source": [
        "nomes_paises[1:3]"
      ],
      "execution_count": 11,
      "outputs": [
        {
          "output_type": "execute_result",
          "data": {
            "text/plain": [
              "['Argetina', 'China']"
            ]
          },
          "metadata": {},
          "execution_count": 11
        }
      ]
    },
    {
      "cell_type": "code",
      "metadata": {
        "id": "innaOmnEJS5I",
        "colab": {
          "base_uri": "https://localhost:8080/"
        },
        "outputId": "35535fb4-7d85-4efd-f6ce-9edc0add701e"
      },
      "source": [
        "nomes_paises[1:-1]"
      ],
      "execution_count": 12,
      "outputs": [
        {
          "output_type": "execute_result",
          "data": {
            "text/plain": [
              "['Argetina', 'China', 'Canadá']"
            ]
          },
          "metadata": {},
          "execution_count": 12
        }
      ]
    },
    {
      "cell_type": "code",
      "metadata": {
        "id": "IMTvelLzJMhy",
        "colab": {
          "base_uri": "https://localhost:8080/"
        },
        "outputId": "0721851d-6ced-47c3-9f9c-342c54a5864b"
      },
      "source": [
        "nomes_paises[2:]"
      ],
      "execution_count": 13,
      "outputs": [
        {
          "output_type": "execute_result",
          "data": {
            "text/plain": [
              "['China', 'Canadá', 'Colômbia']"
            ]
          },
          "metadata": {},
          "execution_count": 13
        }
      ]
    },
    {
      "cell_type": "code",
      "metadata": {
        "id": "HBy5uDjOKYer",
        "colab": {
          "base_uri": "https://localhost:8080/"
        },
        "outputId": "70846f49-de48-4777-b21a-1ce70b0fb07b"
      },
      "source": [
        "nomes_paises[2:]"
      ],
      "execution_count": 14,
      "outputs": [
        {
          "output_type": "execute_result",
          "data": {
            "text/plain": [
              "['China', 'Canadá', 'Colômbia']"
            ]
          },
          "metadata": {},
          "execution_count": 14
        }
      ]
    },
    {
      "cell_type": "code",
      "metadata": {
        "id": "PigzgyN4KaW9",
        "colab": {
          "base_uri": "https://localhost:8080/"
        },
        "outputId": "b92fe7cf-46f8-4b1e-bddc-e9806e637a9e"
      },
      "source": [
        "\n",
        "nomes_paises[:]"
      ],
      "execution_count": 15,
      "outputs": [
        {
          "output_type": "execute_result",
          "data": {
            "text/plain": [
              "['Brasil', 'Argetina', 'China', 'Canadá', 'Colômbia']"
            ]
          },
          "metadata": {},
          "execution_count": 15
        }
      ]
    },
    {
      "cell_type": "code",
      "metadata": {
        "id": "uEjv0IRzKcy4",
        "colab": {
          "base_uri": "https://localhost:8080/"
        },
        "outputId": "6e969e99-9ff0-44ea-c384-a7de319278c8"
      },
      "source": [
        "\n",
        "nomes_paises[: :2]"
      ],
      "execution_count": 16,
      "outputs": [
        {
          "output_type": "execute_result",
          "data": {
            "text/plain": [
              "['Brasil', 'China', 'Colômbia']"
            ]
          },
          "metadata": {},
          "execution_count": 16
        }
      ]
    },
    {
      "cell_type": "code",
      "metadata": {
        "id": "UJ4xjFCOKd_w",
        "colab": {
          "base_uri": "https://localhost:8080/"
        },
        "outputId": "22ca53b0-9f86-4455-a258-896cc812a0bd"
      },
      "source": [
        "nomes_paises[: :-1]"
      ],
      "execution_count": 17,
      "outputs": [
        {
          "output_type": "execute_result",
          "data": {
            "text/plain": [
              "['Colômbia', 'Canadá', 'China', 'Argetina', 'Brasil']"
            ]
          },
          "metadata": {},
          "execution_count": 17
        }
      ]
    },
    {
      "cell_type": "code",
      "metadata": {
        "id": "UCklq_l3KfhV",
        "colab": {
          "base_uri": "https://localhost:8080/"
        },
        "outputId": "1b7a3332-a1bd-49c5-e59b-751bffecd438"
      },
      "source": [
        "'Brasil' in nomes_paises"
      ],
      "execution_count": 18,
      "outputs": [
        {
          "output_type": "execute_result",
          "data": {
            "text/plain": [
              "True"
            ]
          },
          "metadata": {},
          "execution_count": 18
        }
      ]
    },
    {
      "cell_type": "code",
      "metadata": {
        "id": "mKPBwaVDKgnM",
        "colab": {
          "base_uri": "https://localhost:8080/"
        },
        "outputId": "848dbe98-5d69-4d02-8794-0f165de5496b"
      },
      "source": [
        "\n",
        "'Brasil' not in nomes_paises"
      ],
      "execution_count": 19,
      "outputs": [
        {
          "output_type": "execute_result",
          "data": {
            "text/plain": [
              "False"
            ]
          },
          "metadata": {},
          "execution_count": 19
        }
      ]
    },
    {
      "cell_type": "code",
      "metadata": {
        "id": "cAtvYOsVKhtK"
      },
      "source": [
        "lista_capitais = []"
      ],
      "execution_count": 20,
      "outputs": []
    },
    {
      "cell_type": "code",
      "metadata": {
        "id": "UnI2SS2UKivV",
        "colab": {
          "base_uri": "https://localhost:8080/"
        },
        "outputId": "9358bccf-ceab-4aed-ac70-20e085a409a2"
      },
      "source": [
        "\n",
        "lista_capitais.append('Brasília')\n",
        "lista_capitais.append('Buenos Aires')\n",
        "lista_capitais.append('Pequim')\n",
        "lista_capitais.append('Bogotá')\n",
        "lista_capitais"
      ],
      "execution_count": 21,
      "outputs": [
        {
          "output_type": "execute_result",
          "data": {
            "text/plain": [
              "['Brasília', 'Buenos Aires', 'Pequim', 'Bogotá']"
            ]
          },
          "metadata": {},
          "execution_count": 21
        }
      ]
    },
    {
      "cell_type": "code",
      "metadata": {
        "id": "39BZgCURKkPM",
        "colab": {
          "base_uri": "https://localhost:8080/"
        },
        "outputId": "5df9c795-fae9-4b62-fa85-98aa9510a848"
      },
      "source": [
        "lista_capitais.insert(2,'Paris')\n",
        "lista_capitais"
      ],
      "execution_count": 22,
      "outputs": [
        {
          "output_type": "execute_result",
          "data": {
            "text/plain": [
              "['Brasília', 'Buenos Aires', 'Paris', 'Pequim', 'Bogotá']"
            ]
          },
          "metadata": {},
          "execution_count": 22
        }
      ]
    },
    {
      "cell_type": "code",
      "metadata": {
        "id": "Xr-e75VbLC_z",
        "colab": {
          "base_uri": "https://localhost:8080/"
        },
        "outputId": "88d7b712-b744-4f05-a109-c652f4bd87a3"
      },
      "source": [
        "lista_capitais.remove('Buenos Aires')\n",
        "lista_capitais"
      ],
      "execution_count": 23,
      "outputs": [
        {
          "output_type": "execute_result",
          "data": {
            "text/plain": [
              "['Brasília', 'Paris', 'Pequim', 'Bogotá']"
            ]
          },
          "metadata": {},
          "execution_count": 23
        }
      ]
    },
    {
      "cell_type": "code",
      "metadata": {
        "id": "Ih1LuyLYLEPH",
        "colab": {
          "base_uri": "https://localhost:8080/",
          "height": 35
        },
        "outputId": "b1212ae4-5e0a-4cd8-8309-8bc469c9c1a2"
      },
      "source": [
        "removido = lista_capitais.pop(2)\n",
        "removido"
      ],
      "execution_count": 24,
      "outputs": [
        {
          "output_type": "execute_result",
          "data": {
            "application/vnd.google.colaboratory.intrinsic+json": {
              "type": "string"
            },
            "text/plain": [
              "'Pequim'"
            ]
          },
          "metadata": {},
          "execution_count": 24
        }
      ]
    },
    {
      "cell_type": "code",
      "metadata": {
        "id": "1D9BZ9ZINjzb",
        "colab": {
          "base_uri": "https://localhost:8080/"
        },
        "outputId": "5e5a105d-0292-4493-9402-06e1b37ac560"
      },
      "source": [
        "nomes_paises = 'Colômbia', 'Canadá', 'China', 'Argetina', 'Brasil'\n",
        "nomes_paises, type(nomes_paises)"
      ],
      "execution_count": 25,
      "outputs": [
        {
          "output_type": "execute_result",
          "data": {
            "text/plain": [
              "(('Colômbia', 'Canadá', 'China', 'Argetina', 'Brasil'), tuple)"
            ]
          },
          "metadata": {},
          "execution_count": 25
        }
      ]
    },
    {
      "cell_type": "code",
      "metadata": {
        "id": "eNxvX9XwNoqN",
        "colab": {
          "base_uri": "https://localhost:8080/"
        },
        "outputId": "cdc70acc-c6c2-45b9-aec3-392f7dc681b2"
      },
      "source": [
        "nomes_estado = 'São Paulo',\n",
        "nomes_estado , type( nomes_estado)"
      ],
      "execution_count": 26,
      "outputs": [
        {
          "output_type": "execute_result",
          "data": {
            "text/plain": [
              "(('São Paulo',), tuple)"
            ]
          },
          "metadata": {},
          "execution_count": 26
        }
      ]
    },
    {
      "cell_type": "code",
      "metadata": {
        "id": "zCFv_q-ANuA4",
        "colab": {
          "base_uri": "https://localhost:8080/"
        },
        "outputId": "404d5917-32b1-44db-913d-9ca9c37a99ad"
      },
      "source": [
        "len(nomes_paises)"
      ],
      "execution_count": 27,
      "outputs": [
        {
          "output_type": "execute_result",
          "data": {
            "text/plain": [
              "5"
            ]
          },
          "metadata": {},
          "execution_count": 27
        }
      ]
    },
    {
      "cell_type": "code",
      "metadata": {
        "id": "OMsD7q-yNwdU",
        "colab": {
          "base_uri": "https://localhost:8080/",
          "height": 35
        },
        "outputId": "d7f2aa57-f603-4824-96de-dc408b32771a"
      },
      "source": [
        "nomes_paises[0]"
      ],
      "execution_count": 28,
      "outputs": [
        {
          "output_type": "execute_result",
          "data": {
            "application/vnd.google.colaboratory.intrinsic+json": {
              "type": "string"
            },
            "text/plain": [
              "'Colômbia'"
            ]
          },
          "metadata": {},
          "execution_count": 28
        }
      ]
    },
    {
      "cell_type": "code",
      "metadata": {
        "id": "qYvUtx7NN9B8",
        "colab": {
          "base_uri": "https://localhost:8080/"
        },
        "outputId": "f4adcfd2-86da-427d-be32-64fb7d09a68a"
      },
      "source": [
        "b,a,c,ca, j=nomes_paises\n",
        "b,c,j"
      ],
      "execution_count": 29,
      "outputs": [
        {
          "output_type": "execute_result",
          "data": {
            "text/plain": [
              "('Colômbia', 'China', 'Brasil')"
            ]
          },
          "metadata": {},
          "execution_count": 29
        }
      ]
    },
    {
      "cell_type": "code",
      "metadata": {
        "id": "Z3YH6_SnN_Q8",
        "colab": {
          "base_uri": "https://localhost:8080/"
        },
        "outputId": "5d50a2d0-e19d-47de-dcc5-715b6d2f039f"
      },
      "source": [
        "print(*nomes_paises)"
      ],
      "execution_count": 30,
      "outputs": [
        {
          "output_type": "stream",
          "name": "stdout",
          "text": [
            "Colômbia Canadá China Argetina Brasil\n"
          ]
        }
      ]
    },
    {
      "cell_type": "markdown",
      "metadata": {
        "id": "rMsIvESyasG2"
      },
      "source": [
        "## `registroDoConteúdo`\n",
        "\n",
        "---\n",
        "> Listas\n",
        "\n",
        "`Listas são coleções de objetos em Python. Ao invés de declarar 1 variável para cada valor que gostaríamos de armazenar, podemos criar uma lista para armazenar vários valores.`"
      ]
    },
    {
      "cell_type": "code",
      "metadata": {
        "colab": {
          "base_uri": "https://localhost:8080/"
        },
        "id": "aIfWMssRfbII",
        "outputId": "719a4eed-d1be-4f97-c004-a8cec322c483"
      },
      "source": [
        "# Criando uma lista vazia.\n",
        "listavazia = []\n",
        "\n",
        "# Criando uma lista com alguns valores.\n",
        "numeros = [1, 3, 7, 8, 9]\n",
        "\n",
        "# Listas podem mesclar diferentes tipos de valores.\n",
        "listamista = [14, \"let's code\", 0.1, True]\n",
        "\n",
        "# Acessamos cada elemento da lista através de um índice entre colchetes.\n",
        "# Os índices começam em 0.\n",
        "print(numeros[0])\n",
        "print(numeros[1])\n",
        "print(numeros[2])\n",
        "print(numeros[3])\n",
        "print(numeros[4])\n",
        "\n",
        "# Listas são mutáveis: podemos alterar o valor de seus itens.\n",
        "numeros[2] = 5\n",
        "print(numeros)\n",
        "\n",
        "# Um jeito inteligente de trabalhar com listas é utilizando loops.\n",
        "indice = 0\n",
        "while indice < 5:\n",
        "    print(numeros[indice])\n",
        "    indice = indice + 1"
      ],
      "execution_count": 31,
      "outputs": [
        {
          "output_type": "stream",
          "name": "stdout",
          "text": [
            "1\n",
            "3\n",
            "7\n",
            "8\n",
            "9\n",
            "[1, 3, 5, 8, 9]\n",
            "1\n",
            "3\n",
            "5\n",
            "8\n",
            "9\n"
          ]
        }
      ]
    },
    {
      "cell_type": "markdown",
      "metadata": {
        "id": "h484496zfexj"
      },
      "source": [
        "---\n",
        "> Funções de listas\n",
        "\n",
        "`Algumas funções podem nos ajudar a trabalhar com listas. Ao percorrermos nossa lista com um while, poderíamos usar len() caso não soubéssemos o comprimento da lista.`"
      ]
    },
    {
      "cell_type": "code",
      "metadata": {
        "colab": {
          "base_uri": "https://localhost:8080/"
        },
        "id": "II8nZM9xfnvZ",
        "outputId": "b75a09aa-be88-4c2b-8929-2a4503632358"
      },
      "source": [
        "indice = 0\n",
        "while indice < len(numeros):\n",
        "    print(numeros[indice])\n",
        "    indice = indice + 1"
      ],
      "execution_count": 32,
      "outputs": [
        {
          "output_type": "stream",
          "name": "stdout",
          "text": [
            "1\n",
            "3\n",
            "5\n",
            "8\n",
            "9\n"
          ]
        }
      ]
    },
    {
      "cell_type": "markdown",
      "metadata": {
        "id": "eNK0y003fp7P"
      },
      "source": [
        "---\n",
        "\n",
        "`Outra função útil é lista.append(), que coloca um elemento novo ao final da lista.`"
      ]
    },
    {
      "cell_type": "code",
      "metadata": {
        "colab": {
          "base_uri": "https://localhost:8080/"
        },
        "id": "TPT6gtkxfvEv",
        "outputId": "cbd89f52-cbd6-479c-8751-15afe8c15696"
      },
      "source": [
        "animais = []\n",
        "resposta = 's'\n",
        "while resposta == 's' or resposta == 'S':\n",
        "    resposta = input('Deseja adicionar um animal à lista (s/n)? ')\n",
        "    if (resposta == 's' or resposta == 'S'):\n",
        "        animal = input('Digite o nome do animal: ')\n",
        "        animais.append(animal) # adiciona o novo animal à lista\n",
        "print(animais)"
      ],
      "execution_count": 33,
      "outputs": [
        {
          "output_type": "stream",
          "name": "stdout",
          "text": [
            "Deseja adicionar um animal à lista (s/n)? n\n",
            "[]\n"
          ]
        }
      ]
    },
    {
      "cell_type": "markdown",
      "metadata": {
        "id": "RM0vKsQIfyEv"
      },
      "source": [
        "---\n",
        "\n",
        "`A função lista.remove() deleta um elemento da lista. (mas dá erro se o elemento não existir).`"
      ]
    },
    {
      "cell_type": "code",
      "metadata": {
        "colab": {
          "base_uri": "https://localhost:8080/",
          "height": 214
        },
        "id": "pwai_c66f49B",
        "outputId": "26fec9ee-f8ab-4d12-adb2-7916b6d41724"
      },
      "source": [
        "animal = input('Digite o animal a ser deletado da lista: ')\n",
        "animais.remove(animal)\n",
        "print(animais)"
      ],
      "execution_count": 34,
      "outputs": [
        {
          "name": "stdout",
          "output_type": "stream",
          "text": [
            "Digite o animal a ser deletado da lista: gato\n"
          ]
        },
        {
          "output_type": "error",
          "ename": "ValueError",
          "evalue": "ignored",
          "traceback": [
            "\u001b[0;31m---------------------------------------------------------------------------\u001b[0m",
            "\u001b[0;31mValueError\u001b[0m                                Traceback (most recent call last)",
            "\u001b[0;32m<ipython-input-34-383e97d9bdba>\u001b[0m in \u001b[0;36m<module>\u001b[0;34m()\u001b[0m\n\u001b[1;32m      1\u001b[0m \u001b[0manimal\u001b[0m \u001b[0;34m=\u001b[0m \u001b[0minput\u001b[0m\u001b[0;34m(\u001b[0m\u001b[0;34m'Digite o animal a ser deletado da lista: '\u001b[0m\u001b[0;34m)\u001b[0m\u001b[0;34m\u001b[0m\u001b[0;34m\u001b[0m\u001b[0m\n\u001b[0;32m----> 2\u001b[0;31m \u001b[0manimais\u001b[0m\u001b[0;34m.\u001b[0m\u001b[0mremove\u001b[0m\u001b[0;34m(\u001b[0m\u001b[0manimal\u001b[0m\u001b[0;34m)\u001b[0m\u001b[0;34m\u001b[0m\u001b[0;34m\u001b[0m\u001b[0m\n\u001b[0m\u001b[1;32m      3\u001b[0m \u001b[0mprint\u001b[0m\u001b[0;34m(\u001b[0m\u001b[0manimais\u001b[0m\u001b[0;34m)\u001b[0m\u001b[0;34m\u001b[0m\u001b[0;34m\u001b[0m\u001b[0m\n",
            "\u001b[0;31mValueError\u001b[0m: list.remove(x): x not in list"
          ]
        }
      ]
    },
    {
      "cell_type": "markdown",
      "metadata": {
        "id": "EyfKgeTJf-oq"
      },
      "source": [
        "---\n",
        "\n",
        "`Algumas outras funções úteis:`\n",
        "\n",
        ">`lista.count() conta quantas vezes um elemento aparece.`"
      ]
    },
    {
      "cell_type": "code",
      "metadata": {
        "colab": {
          "base_uri": "https://localhost:8080/"
        },
        "id": "-uihnR5TgJ_z",
        "outputId": "0d305f39-5762-4221-db7d-00b04c44c2b7"
      },
      "source": [
        "jogadores = ['Ronaldo', 'Rivaldo', 'Ronaldo', 'Adriano']\n",
        "ronaldos = jogadores.count('Ronaldo')\n",
        "print(jogadores)\n",
        "print('Quantidade de Ronaldos: ', ronaldos)"
      ],
      "execution_count": 36,
      "outputs": [
        {
          "output_type": "stream",
          "name": "stdout",
          "text": [
            "['Ronaldo', 'Rivaldo', 'Ronaldo', 'Adriano']\n",
            "Quantidade de Ronaldos:  2\n"
          ]
        }
      ]
    },
    {
      "cell_type": "markdown",
      "metadata": {
        "id": "_B8AypRxgMWp"
      },
      "source": [
        "---\n",
        "\n",
        ">`lista.index() busca em um elemento e fala em qual posição ele aparece.`"
      ]
    },
    {
      "cell_type": "code",
      "metadata": {
        "colab": {
          "base_uri": "https://localhost:8080/"
        },
        "id": "RH6B6vlMgSoL",
        "outputId": "29ada38a-6214-44d6-9282-4582603a4f26"
      },
      "source": [
        "rivaldo = jogadores.index('Rivaldo')\n",
        "print(\"Rivaldo está na posição \", rivaldo)"
      ],
      "execution_count": 37,
      "outputs": [
        {
          "output_type": "stream",
          "name": "stdout",
          "text": [
            "Rivaldo está na posição  1\n"
          ]
        }
      ]
    },
    {
      "cell_type": "markdown",
      "metadata": {
        "id": "RnipYpmQgUNj"
      },
      "source": [
        "---\n",
        "\n",
        ">`lista.sort() ordena uma lista.`"
      ]
    },
    {
      "cell_type": "code",
      "metadata": {
        "colab": {
          "base_uri": "https://localhost:8080/"
        },
        "id": "0InFOKQQgXyX",
        "outputId": "0b0d9bd7-cce2-493e-97d0-96f16a8b203d"
      },
      "source": [
        "jogadores.sort()\n",
        "print(\"jogadores em ordem alfabética: \", jogadores)"
      ],
      "execution_count": 38,
      "outputs": [
        {
          "output_type": "stream",
          "name": "stdout",
          "text": [
            "jogadores em ordem alfabética:  ['Adriano', 'Rivaldo', 'Ronaldo', 'Ronaldo']\n"
          ]
        }
      ]
    },
    {
      "cell_type": "markdown",
      "metadata": {
        "id": "kCtJ7g3igUWj"
      },
      "source": [
        "---\n",
        "\n",
        ">`As funções max(lista) e min(lista) obtém, respectivamente, o maior e o menor valor.`"
      ]
    },
    {
      "cell_type": "code",
      "metadata": {
        "colab": {
          "base_uri": "https://localhost:8080/"
        },
        "id": "oWOcH1wCgd35",
        "outputId": "b9d97ec0-bc22-4a5d-c0de-c59e12485b3c"
      },
      "source": [
        "digitos = [3, 1, 4, 1, 5, 9, 2, 6, 5]\n",
        "maior = max(digitos)\n",
        "menor = min(digitos)\n",
        "print(digitos)\n",
        "print(\"Maior = \", maior, \"e menor = \", menor)"
      ],
      "execution_count": 39,
      "outputs": [
        {
          "output_type": "stream",
          "name": "stdout",
          "text": [
            "[3, 1, 4, 1, 5, 9, 2, 6, 5]\n",
            "Maior =  9 e menor =  1\n"
          ]
        }
      ]
    },
    {
      "cell_type": "markdown",
      "metadata": {
        "id": "fEfHlmBKghk_"
      },
      "source": [
        "---\n",
        "> Tuplas"
      ]
    },
    {
      "cell_type": "code",
      "metadata": {
        "colab": {
          "base_uri": "https://localhost:8080/"
        },
        "id": "1Wgus4BNgw4Q",
        "outputId": "e70313a2-d910-456f-dc02-7e19bc55f76c"
      },
      "source": [
        "# Uma tupla é uma coleção de objetos que lembra muito as listas.\n",
        "\n",
        "# Ao invés de colchetes, usamos parênteses para declarar as tuplas:\n",
        "numeros = (1,2,3,5,7,11)\n",
        "\n",
        "# Podemos declarar sem parênteses também:\n",
        "numeros = 1,2,3,5,7,11\n",
        "\n",
        "# Para acessar um valor, utilizamos a mesma sintaxe das listas:\n",
        "print(numeros[4])\n",
        "print(type(numeros))\n",
        "\n",
        "'''\n",
        "Porém, tuplas são imutáveis: não é possível adicionar ou modificar valores.\n",
        "Descomentar a linha abaixo provocará erro de execução:\n",
        "'''\n",
        "# numeros[4] = 8\n",
        "\n",
        "# Podemos gerar uma tupla a partir de uma lista...\n",
        "lista1 = [3, 1, 4, 1, 5, 9, 2, 6, 5]\n",
        "tupla1 = tuple(lista1)\n",
        "print(tupla1)\n",
        "\n",
        "# ...ou uma lista a partir de uma tupla:\n",
        "tupla2 = [1, 6, 1, 8]\n",
        "lista2 = list(tupla2)\n",
        "print(lista2)\n",
        "\n",
        "# Também pode-se usar o unpacking com uma tupla:\n",
        "a, b, c, d, e, f = numeros # \"desempacota\" a tupla numeros\n",
        "print(\"O primeiro vale:\", a, \"e o ultimo vale:\", f)"
      ],
      "execution_count": 40,
      "outputs": [
        {
          "output_type": "stream",
          "name": "stdout",
          "text": [
            "7\n",
            "<class 'tuple'>\n",
            "(3, 1, 4, 1, 5, 9, 2, 6, 5)\n",
            "[1, 6, 1, 8]\n",
            "O primeiro vale: 1 e o ultimo vale: 11\n"
          ]
        }
      ]
    },
    {
      "cell_type": "markdown",
      "metadata": {
        "id": "-HIBuVefOzub"
      },
      "source": [
        "##Aula 02 - Strings I"
      ]
    },
    {
      "cell_type": "markdown",
      "metadata": {
        "id": "Xhuig_gfg11j"
      },
      "source": [
        "### `Anotações da aula`"
      ]
    },
    {
      "cell_type": "code",
      "metadata": {
        "colab": {
          "base_uri": "https://localhost:8080/",
          "height": 35
        },
        "id": "gDHIHPmHPCQa",
        "outputId": "bf17e2e7-6712-4561-c380-a66329b8336f"
      },
      "source": [
        "empresa = 'Google'\n",
        "empresa"
      ],
      "execution_count": 41,
      "outputs": [
        {
          "output_type": "execute_result",
          "data": {
            "application/vnd.google.colaboratory.intrinsic+json": {
              "type": "string"
            },
            "text/plain": [
              "'Google'"
            ]
          },
          "metadata": {},
          "execution_count": 41
        }
      ]
    },
    {
      "cell_type": "code",
      "metadata": {
        "colab": {
          "base_uri": "https://localhost:8080/",
          "height": 35
        },
        "id": "s2EJZ43GQEWj",
        "outputId": "05bd959c-9022-4a8c-a308-f171f76e1397"
      },
      "source": [
        "empresa = \"Google\"\n",
        "empresa"
      ],
      "execution_count": 42,
      "outputs": [
        {
          "output_type": "execute_result",
          "data": {
            "application/vnd.google.colaboratory.intrinsic+json": {
              "type": "string"
            },
            "text/plain": [
              "'Google'"
            ]
          },
          "metadata": {},
          "execution_count": 42
        }
      ]
    },
    {
      "cell_type": "code",
      "metadata": {
        "id": "PHkOAGb1QGgj"
      },
      "source": [
        "empresa = 'Lets Code'\n"
      ],
      "execution_count": 45,
      "outputs": []
    },
    {
      "cell_type": "code",
      "metadata": {
        "id": "luMa8PH9QJOc",
        "colab": {
          "base_uri": "https://localhost:8080/",
          "height": 35
        },
        "outputId": "c6d7cc0d-ded8-4005-a301-8f2063f14f5e"
      },
      "source": [
        "empresa = \"Let's Code\"\n",
        "empresa"
      ],
      "execution_count": 46,
      "outputs": [
        {
          "output_type": "execute_result",
          "data": {
            "application/vnd.google.colaboratory.intrinsic+json": {
              "type": "string"
            },
            "text/plain": [
              "\"Let's Code\""
            ]
          },
          "metadata": {},
          "execution_count": 46
        }
      ]
    },
    {
      "cell_type": "code",
      "metadata": {
        "id": "cjfQIlhvRS_k",
        "colab": {
          "base_uri": "https://localhost:8080/",
          "height": 35
        },
        "outputId": "b25a4f71-75b3-4ce7-cc76-cbc5ccf5ab20"
      },
      "source": [
        "frase = \"O professor Pietro da Let's Code disse:\\\"Hoje a pizza  é por minha conta\\\"\"\n",
        "frase"
      ],
      "execution_count": 47,
      "outputs": [
        {
          "output_type": "execute_result",
          "data": {
            "application/vnd.google.colaboratory.intrinsic+json": {
              "type": "string"
            },
            "text/plain": [
              "'O professor Pietro da Let\\'s Code disse:\"Hoje a pizza  é por minha conta\"'"
            ]
          },
          "metadata": {},
          "execution_count": 47
        }
      ]
    },
    {
      "cell_type": "code",
      "metadata": {
        "id": "d9NrChn2SLYv",
        "colab": {
          "base_uri": "https://localhost:8080/",
          "height": 35
        },
        "outputId": "920f90c7-7a31-4306-d0b9-d6733674cf81"
      },
      "source": [
        "empresa = \"Google\"\n",
        "empresa[0]"
      ],
      "execution_count": 48,
      "outputs": [
        {
          "output_type": "execute_result",
          "data": {
            "application/vnd.google.colaboratory.intrinsic+json": {
              "type": "string"
            },
            "text/plain": [
              "'G'"
            ]
          },
          "metadata": {},
          "execution_count": 48
        }
      ]
    },
    {
      "cell_type": "code",
      "metadata": {
        "id": "fMurtTFHSMeb",
        "colab": {
          "base_uri": "https://localhost:8080/",
          "height": 35
        },
        "outputId": "9c1cdaa3-66eb-49f7-b84d-6190c23da8e3"
      },
      "source": [
        "empresa[ :3]"
      ],
      "execution_count": 49,
      "outputs": [
        {
          "output_type": "execute_result",
          "data": {
            "application/vnd.google.colaboratory.intrinsic+json": {
              "type": "string"
            },
            "text/plain": [
              "'Goo'"
            ]
          },
          "metadata": {},
          "execution_count": 49
        }
      ]
    },
    {
      "cell_type": "code",
      "metadata": {
        "id": "xsVpizKRSPSu",
        "colab": {
          "base_uri": "https://localhost:8080/"
        },
        "outputId": "63b84825-04b3-44ca-d388-80a885f95faf"
      },
      "source": [
        "nomes_cidades = \"São Paulo, Belo Horizonte, Rio de Janeiro, Brasília\"\n",
        "nomes_cidades = nomes_cidades.split(\" , \")\n",
        "nomes_cidades"
      ],
      "execution_count": 50,
      "outputs": [
        {
          "output_type": "execute_result",
          "data": {
            "text/plain": [
              "['São Paulo, Belo Horizonte, Rio de Janeiro, Brasília']"
            ]
          },
          "metadata": {},
          "execution_count": 50
        }
      ]
    },
    {
      "cell_type": "code",
      "metadata": {
        "id": "1vMcNkg1UB6d",
        "colab": {
          "base_uri": "https://localhost:8080/",
          "height": 35
        },
        "outputId": "3873e146-a18b-46e3-9a3d-d33a255e4f4f"
      },
      "source": [
        "cabecalho =\"             MENU PRINCIPAL            \"\n",
        "cabecalho.strip()"
      ],
      "execution_count": 51,
      "outputs": [
        {
          "output_type": "execute_result",
          "data": {
            "application/vnd.google.colaboratory.intrinsic+json": {
              "type": "string"
            },
            "text/plain": [
              "'MENU PRINCIPAL'"
            ]
          },
          "metadata": {},
          "execution_count": 51
        }
      ]
    },
    {
      "cell_type": "code",
      "metadata": {
        "id": "j8sWxOl_SZah",
        "colab": {
          "base_uri": "https://localhost:8080/",
          "height": 35
        },
        "outputId": "0cf55fa8-95d3-40a9-917d-1fff5b8a20df"
      },
      "source": [
        "nome_cidade = \"rIo DE jaNeiro\"\n",
        "nome_cidade"
      ],
      "execution_count": 52,
      "outputs": [
        {
          "output_type": "execute_result",
          "data": {
            "application/vnd.google.colaboratory.intrinsic+json": {
              "type": "string"
            },
            "text/plain": [
              "'rIo DE jaNeiro'"
            ]
          },
          "metadata": {},
          "execution_count": 52
        }
      ]
    },
    {
      "cell_type": "code",
      "metadata": {
        "id": "zGJeVLeYTgYd",
        "colab": {
          "base_uri": "https://localhost:8080/",
          "height": 35
        },
        "outputId": "69d65887-c7bc-48de-c780-17fce5dbc24a"
      },
      "source": [
        "nome_cidade.title()"
      ],
      "execution_count": 53,
      "outputs": [
        {
          "output_type": "execute_result",
          "data": {
            "application/vnd.google.colaboratory.intrinsic+json": {
              "type": "string"
            },
            "text/plain": [
              "'Rio De Janeiro'"
            ]
          },
          "metadata": {},
          "execution_count": 53
        }
      ]
    },
    {
      "cell_type": "code",
      "metadata": {
        "id": "eiCGHCQ3Tynm",
        "colab": {
          "base_uri": "https://localhost:8080/",
          "height": 35
        },
        "outputId": "68e1fcd1-a9c9-496e-f2b3-e07b9f4853c1"
      },
      "source": [
        "nome_cidade.capitalize()"
      ],
      "execution_count": 54,
      "outputs": [
        {
          "output_type": "execute_result",
          "data": {
            "application/vnd.google.colaboratory.intrinsic+json": {
              "type": "string"
            },
            "text/plain": [
              "'Rio de janeiro'"
            ]
          },
          "metadata": {},
          "execution_count": 54
        }
      ]
    },
    {
      "cell_type": "code",
      "metadata": {
        "id": "y58oT0FgT0dz",
        "colab": {
          "base_uri": "https://localhost:8080/",
          "height": 35
        },
        "outputId": "447b06c4-fa9b-4dcb-ec43-33643869e94a"
      },
      "source": [
        "nome_cidade.lower()"
      ],
      "execution_count": 55,
      "outputs": [
        {
          "output_type": "execute_result",
          "data": {
            "application/vnd.google.colaboratory.intrinsic+json": {
              "type": "string"
            },
            "text/plain": [
              "'rio de janeiro'"
            ]
          },
          "metadata": {},
          "execution_count": 55
        }
      ]
    },
    {
      "cell_type": "code",
      "metadata": {
        "id": "0QpQKnfQT2at",
        "colab": {
          "base_uri": "https://localhost:8080/",
          "height": 35
        },
        "outputId": "02c5f1c5-3fac-4354-d1c0-1351ff015871"
      },
      "source": [
        "nome_cidade.upper()"
      ],
      "execution_count": 56,
      "outputs": [
        {
          "output_type": "execute_result",
          "data": {
            "application/vnd.google.colaboratory.intrinsic+json": {
              "type": "string"
            },
            "text/plain": [
              "'RIO DE JANEIRO'"
            ]
          },
          "metadata": {},
          "execution_count": 56
        }
      ]
    },
    {
      "cell_type": "code",
      "metadata": {
        "id": "OQQl--_4Vpcg",
        "colab": {
          "base_uri": "https://localhost:8080/"
        },
        "outputId": "42a3bc3f-ae04-4c4e-b6c5-79a3321c33a2"
      },
      "source": [
        "nome_cidade =  input('Que cidade do Brasil é conhecida como cidade Maravilhosa?')\n",
        "nome_cidade = nome_cidade.strip()\n",
        "while nome_cidade.lower() != 'rio de janeiro':\n",
        "  print('Tente de novo, vai')\n",
        "  nome_cidade = input(\"Que cidade do Brasil é conhecida como cidade maravihosa?\")\n",
        "print('Booa, campeão!')"
      ],
      "execution_count": 57,
      "outputs": [
        {
          "output_type": "stream",
          "name": "stdout",
          "text": [
            "Que cidade do Brasil é conhecida como cidade Maravilhosa?rio de janeiro\n",
            "Booa, campeão!\n"
          ]
        }
      ]
    },
    {
      "cell_type": "code",
      "metadata": {
        "id": "vUNfFX5YV6PE",
        "colab": {
          "base_uri": "https://localhost:8080/"
        },
        "outputId": "16e58876-2846-4fe2-e448-cd1b5616a4e5"
      },
      "source": [
        "mensagem = 'Você viu o que o pietro disse na sala ontem?'\n",
        "fui_citado = 'Pietro' in mensagem\n",
        "print('fui_citado')\n",
        " "
      ],
      "execution_count": 58,
      "outputs": [
        {
          "output_type": "stream",
          "name": "stdout",
          "text": [
            "fui_citado\n"
          ]
        }
      ]
    },
    {
      "cell_type": "markdown",
      "metadata": {
        "id": "Oumbd63tg8vI"
      },
      "source": [
        "## `registroDoConteúdo`\n",
        "\n",
        "---\n",
        "> Funções de strings"
      ]
    },
    {
      "cell_type": "code",
      "metadata": {
        "colab": {
          "base_uri": "https://localhost:8080/"
        },
        "id": "xQ6wDO7xhHxT",
        "outputId": "8056521b-527e-4ded-f145-0695ddacce8d"
      },
      "source": [
        "# Suponhamos que temos a seguinte string:\n",
        "\n",
        "frase = 'uma FRASE'\n",
        "\n",
        "# Podemos acessar individualmente cada caractere em uma frase.\n",
        "# A ideia é a mesma de acessar uma lista:\n",
        "print(frase[0])\n",
        "print(frase[1])\n",
        "print(frase[2])\n",
        "\n",
        "tamanho = len(frase)\n",
        "print(\"A frase possui\", tamanho, \"caracteres\")\n",
        "\n",
        "# Porém, strings são imutáveis: não podemos alterar caracteres individuais\n",
        "# A linha abaixo, se for descomentada, dará erro no programa:\n",
        "# frase[4] = 'C'\n",
        "\n",
        "# Podemos converter strings para listas:\n",
        "listafrase = list(frase)\n",
        "print(listafrase)\n",
        "\n",
        "# A função join() intercala cada elemento de uma lista com uma string.\n",
        "stringfinal = '-py'.join(listafrase)\n",
        "print(stringfinal)\n",
        "\n",
        "# Usar um join() com uma string vazia é útil para transformar a lista de volta\n",
        "# em string:\n",
        "stringfinal = ''.join(listafrase)\n",
        "print(stringfinal)\n",
        "\n",
        "# Existem algumas funções interessantes que retornam a string \"tratada\":\n",
        "s1 = frase.capitalize() # 1a letra maiúscula, restante minúscula\n",
        "s2 = frase.title() # todo início de palavra em maiúscula, resto minúscula\n",
        "s3 = frase.upper() # string inteira em maiúscula\n",
        "s4 = frase.lower() # string inteira em minúscula\n",
        "s5 = frase.replace('F', 'C') # substitui a primeira substring pela segunda\n",
        "\n",
        "print(s1)\n",
        "print(s2)\n",
        "print(s3)\n",
        "print(s4)\n",
        "print(s5)\n",
        "# Note que NENHUMA delas ALTERA a string original, elas sempre retornam\n",
        "# a string nova.\n",
        "print('String original:', frase)\n",
        "\n",
        "# Outra possibilidade com strings é quebrar a string em uma lista de substrings\n",
        "# Sempre que o caractere especificado é encontrado, a string é quebrada\n",
        "quebra1 = frase.split(' ') # quebra a frase no caractere espaço em branco\n",
        "quebra2 = s3.split('A') # quebra a frase em maiúsculas no caractere 'A'\n",
        "\n",
        "print(quebra1)\n",
        "print(quebra2)\n",
        "\n",
        "# Podemos inserir quebras de linha com '\\n'\n",
        "frase = 'uma\\nFRASE'\n",
        "print(frase)\n",
        "# Podemos inserir tabulação com '\\t'\n",
        "frase = 'uma\\n\\tFRASE'\n",
        "print(frase)\n",
        "# Para conseguir representar a barra '\\', precisamos de 2 barras:\n",
        "frase = 'uma\\\\FRASE'"
      ],
      "execution_count": 59,
      "outputs": [
        {
          "output_type": "stream",
          "name": "stdout",
          "text": [
            "u\n",
            "m\n",
            "a\n",
            "A frase possui 9 caracteres\n",
            "['u', 'm', 'a', ' ', 'F', 'R', 'A', 'S', 'E']\n",
            "u-pym-pya-py -pyF-pyR-pyA-pyS-pyE\n",
            "uma FRASE\n",
            "Uma frase\n",
            "Uma Frase\n",
            "UMA FRASE\n",
            "uma frase\n",
            "uma CRASE\n",
            "String original: uma FRASE\n",
            "['uma', 'FRASE']\n",
            "['UM', ' FR', 'SE']\n",
            "uma\n",
            "FRASE\n",
            "uma\n",
            "\tFRASE\n"
          ]
        }
      ]
    },
    {
      "cell_type": "markdown",
      "metadata": {
        "id": "bAyapySmilRJ"
      },
      "source": [
        "> `Clique aqui para acessar a documentação de Strings do Python 3.`\n",
        "https://docs.python.org/3.8/library/stdtypes.html#str"
      ]
    },
    {
      "cell_type": "markdown",
      "metadata": {
        "id": "Zdd2UyHIWRJj"
      },
      "source": [
        "##Aula 03 - Strings II"
      ]
    },
    {
      "cell_type": "markdown",
      "metadata": {
        "id": "r7yDtmY1hO7i"
      },
      "source": [
        "### `Anotações da aula`"
      ]
    },
    {
      "cell_type": "code",
      "metadata": {
        "colab": {
          "base_uri": "https://localhost:8080/",
          "height": 35
        },
        "id": "gmob4g2SYFqm",
        "outputId": "62a3fd2e-d3c2-4ec7-ab3a-fd7c0e7b0905"
      },
      "source": [
        "cumprimento = 'Olá'\n",
        "nome = 'Felipe'\n",
        "cumprimento + nome"
      ],
      "execution_count": 60,
      "outputs": [
        {
          "output_type": "execute_result",
          "data": {
            "application/vnd.google.colaboratory.intrinsic+json": {
              "type": "string"
            },
            "text/plain": [
              "'OláFelipe'"
            ]
          },
          "metadata": {},
          "execution_count": 60
        }
      ]
    },
    {
      "cell_type": "code",
      "metadata": {
        "colab": {
          "base_uri": "https://localhost:8080/"
        },
        "id": "9cWs8K1nYLr2",
        "outputId": "6e08b330-2a12-4502-9329-613c154506b7"
      },
      "source": [
        "print(nome*5)"
      ],
      "execution_count": 61,
      "outputs": [
        {
          "output_type": "stream",
          "name": "stdout",
          "text": [
            "FelipeFelipeFelipeFelipeFelipe\n"
          ]
        }
      ]
    },
    {
      "cell_type": "code",
      "metadata": {
        "colab": {
          "base_uri": "https://localhost:8080/"
        },
        "id": "l3yqKeq7ZU8K",
        "outputId": "69f98a18-877e-48ea-881a-7b5ed410f98a"
      },
      "source": [
        "nome = 'Felipe'\n",
        "idade = 35\n",
        "n_filhos = 2\n",
        "print(nome + ' tem ' + str(idade) + ' anos e ' + str(n_filhos) + ' filhos')"
      ],
      "execution_count": 62,
      "outputs": [
        {
          "output_type": "stream",
          "name": "stdout",
          "text": [
            "Felipe tem 35 anos e 2 filhos\n"
          ]
        }
      ]
    },
    {
      "cell_type": "code",
      "metadata": {
        "colab": {
          "base_uri": "https://localhost:8080/"
        },
        "id": "obi8-PSkZkyx",
        "outputId": "4cce703a-56d0-4173-d4ac-989ca2bfc083"
      },
      "source": [
        "print('{} tem {} anos e {} filhos'.format(nome, idade, n_filhos))"
      ],
      "execution_count": 63,
      "outputs": [
        {
          "output_type": "stream",
          "name": "stdout",
          "text": [
            "Felipe tem 35 anos e 2 filhos\n"
          ]
        }
      ]
    },
    {
      "cell_type": "code",
      "metadata": {
        "colab": {
          "base_uri": "https://localhost:8080/"
        },
        "id": "ciN-wzOAaH-9",
        "outputId": "60f4a524-7aeb-42a1-bb07-f55beb8d336d"
      },
      "source": [
        "preco_gasolina = 3.476\n",
        "print('O preço da gasolina hoje subiu e está em R$ {:.2f}'.format(preco_gasolina))\n"
      ],
      "execution_count": 64,
      "outputs": [
        {
          "output_type": "stream",
          "name": "stdout",
          "text": [
            "O preço da gasolina hoje subiu e está em R$ 3.48\n"
          ]
        }
      ]
    },
    {
      "cell_type": "code",
      "metadata": {
        "colab": {
          "base_uri": "https://localhost:8080/"
        },
        "id": "mFXISihHah2V",
        "outputId": "62c1e397-9b1e-4385-ee94-ab994a9e2f96"
      },
      "source": [
        "print(f'{nome} tem {idade} anos e {n_filhos} filhos.')"
      ],
      "execution_count": 65,
      "outputs": [
        {
          "output_type": "stream",
          "name": "stdout",
          "text": [
            "Felipe tem 35 anos e 2 filhos.\n"
          ]
        }
      ]
    },
    {
      "cell_type": "markdown",
      "metadata": {
        "id": "mYykICkyhTte"
      },
      "source": [
        "## `registroDoConteúdo`\n",
        "\n",
        "---\n",
        "> Uso de operadores aritméticos com strings"
      ]
    },
    {
      "cell_type": "code",
      "metadata": {
        "colab": {
          "base_uri": "https://localhost:8080/"
        },
        "id": "ct1QP_kKhbXC",
        "outputId": "3ecfe3f7-a055-4576-ee3c-feaed1256945"
      },
      "source": [
        "# Dois operadores aritméticos possuem um comportamento especial em strings:\n",
        "# Operador de soma (+): concatena (une) 2 strings.\n",
        "palavra1 = \"Let's\"\n",
        "palavra2 = \"Code\"\n",
        "palavra3 = palavra1 + palavra2\n",
        "print(palavra3)\n",
        "\n",
        "# Operador de multiplicação (*): copia uma string 'n' vezes:\n",
        "palavra = 'uma'\n",
        "trespalavras = 3*palavra\n",
        "print(trespalavras)"
      ],
      "execution_count": 66,
      "outputs": [
        {
          "output_type": "stream",
          "name": "stdout",
          "text": [
            "Let'sCode\n",
            "umaumauma\n"
          ]
        }
      ]
    },
    {
      "cell_type": "markdown",
      "metadata": {
        "id": "YQILn0qhhfO-"
      },
      "source": [
        "---\n",
        "> Formatação de strings\n",
        "\n",
        "`Uma última função interessante de strings é o .format() Para entender como ela funciona, podemos pensar em um contrato. É normal que ele venha com campos em branco para serem preenchidos posteriormente. Ex:`\n",
        "`Eu, ______________, portador do RG ________________ e nascido ao dia //, autorizo o uso de minha imagem.`\n",
        "\n",
        "`Ao inserirmos no contrato nossas informações pessoais, ele se torna completo.`\n",
        "\n",
        "`O .format() serve para \"preencher\" os \"campos em branco\" de uma string.`\n",
        "\n",
        "`Os campos em branco serão representados por pares de chave: {}`"
      ]
    },
    {
      "cell_type": "code",
      "metadata": {
        "colab": {
          "base_uri": "https://localhost:8080/"
        },
        "id": "S19NOc8dhxXw",
        "outputId": "ae630abc-5327-4f98-86b6-91e866e27e4e"
      },
      "source": [
        "prod = 'chocolate'\n",
        "preco = 3.14\n",
        "print('O produto {} custa {}.'.format(prod, preco))\n",
        "\n",
        "# Na linha acima, prod substituirá o primeiro {}, e preco o segundo {}.\n",
        "# Saída: O produto chocolate custa 3.14.\n",
        "\n",
        "# É possível colocar algumas opções especiais de formatação. Por exemplo:\n",
        "\n",
        "stringoriginal = 'O litro da gasolina custa {:.2f}'\n",
        "'''\n",
        ": indica que passaremos opções\n",
        ".2 indica apenas 2 casas após o ponto decimal\n",
        "f indica que é um float\n",
        "'''\n",
        "preco = 3.14159265\n",
        "stringcompleta = stringoriginal.format(preco)\n",
        "print(stringcompleta)\n",
        "# Saída: O litro da gasolina custa 3.14\n",
        "# O preço sai com apenas 2 casas após a vírgula!\n",
        "\n",
        "# Pode-se chamar as variávies em diferentes ordens:\n",
        "\n",
        "print('{2}, {1} and {0}'.format('a', 'b', 'c'))\n",
        "# Saída: c, b and a\n",
        "\n",
        "print('{0}{1}{0}'.format('abra', 'cad'))\n",
        "# Saída: abracadabra\n",
        "\n",
        "\n",
        "# Podemos especificar um número de dígitos obrigatório por campo.\n",
        "# Vejamos o exemplo:\n",
        "\n",
        "dia = 1\n",
        "mes = 8\n",
        "ano = 2019\n",
        "data1 = '{}/{}/{}'.format(dia, mes, ano)\n",
        "print(data1)\n",
        "# Saída: 1/8/2019\n",
        "# O dia e o mês ocupam apenas 1 espaço\n",
        "\n",
        "\n",
        "data2 = '{:2d}/{:2d}/{:4d}'.format(dia, mes, ano)\n",
        "# A opção 'd' significa que o parâmetro é um número inteiro.\n",
        "print(data2)\n",
        "# Saída:  1/ 8/2019\n",
        "# Agora, dia e mês ocupam obrigatoriamente 2 espaços:  1/ 8/2019\n",
        "\n",
        "# Podemos forçar que os espaços em branco sejam preenchidos com o número 0:\n",
        "data3 = '{:02d}/{:02d}/{:04d}'.format(dia, mes, ano)\n",
        "print(data3)\n",
        "# Saída: 01/08/2019\n",
        "# Agora sim a data está no formato usual, dd/mm/aaaa: 01/08/2019\n",
        "\n",
        "# Um modo mais simples de utilizar o format\n",
        "nome = \"Pietro\"\n",
        "profissao = \"professor\"\n",
        "escola = \"Let's Code\"\n",
        "\n",
        "print(f\"{nome} é {profissao} da {escola}.\")\n",
        "# Saída: Pietro é professor da Let's Code."
      ],
      "execution_count": 67,
      "outputs": [
        {
          "output_type": "stream",
          "name": "stdout",
          "text": [
            "O produto chocolate custa 3.14.\n",
            "O litro da gasolina custa 3.14\n",
            "c, b and a\n",
            "abracadabra\n",
            "1/8/2019\n",
            " 1/ 8/2019\n",
            "01/08/2019\n",
            "Pietro é professor da Let's Code.\n"
          ]
        }
      ]
    },
    {
      "cell_type": "markdown",
      "metadata": {
        "id": "v4zBE7zSh4Oh"
      },
      "source": [
        "`> O .format() possui muitas opções interessantes. Há um site inteiro dedicado a explicar e exemplificar todas essas opções: https://pyformat.info/`"
      ]
    },
    {
      "cell_type": "markdown",
      "metadata": {
        "id": "qV0W7UwSMYpR"
      },
      "source": [
        "##Aula 04 - Dicionários"
      ]
    },
    {
      "cell_type": "markdown",
      "metadata": {
        "id": "DH-YN-h4iw0u"
      },
      "source": [
        "### `Anotações da aula`"
      ]
    },
    {
      "cell_type": "code",
      "metadata": {
        "id": "0B5cmCbZ_-05"
      },
      "source": [
        "dados_cidade = {\n",
        "  'nome':'São Paulo',\n",
        "  'estado':'São Paulo',\n",
        "  'area_km2': 1521,\n",
        "  'população_milhoes':12.18,\n",
        "}"
      ],
      "execution_count": 68,
      "outputs": []
    },
    {
      "cell_type": "code",
      "metadata": {
        "colab": {
          "base_uri": "https://localhost:8080/"
        },
        "id": "1xfdxNZ1AFie",
        "outputId": "51e5be30-5e60-4dc1-c4f5-89b9228ee030"
      },
      "source": [
        "dados_cidade , type(dados_cidade)"
      ],
      "execution_count": 69,
      "outputs": [
        {
          "output_type": "execute_result",
          "data": {
            "text/plain": [
              "({'area_km2': 1521,\n",
              "  'estado': 'São Paulo',\n",
              "  'nome': 'São Paulo',\n",
              "  'população_milhoes': 12.18},\n",
              " dict)"
            ]
          },
          "metadata": {},
          "execution_count": 69
        }
      ]
    },
    {
      "cell_type": "code",
      "metadata": {
        "colab": {
          "base_uri": "https://localhost:8080/"
        },
        "id": "en68wQ0CAINg",
        "outputId": "2aa3b1d5-0e3d-405e-a54b-ce7e43be8aa5"
      },
      "source": [
        "dados_cidade['pais'] ='Brasil'\n",
        "dados_cidade"
      ],
      "execution_count": 70,
      "outputs": [
        {
          "output_type": "execute_result",
          "data": {
            "text/plain": [
              "{'area_km2': 1521,\n",
              " 'estado': 'São Paulo',\n",
              " 'nome': 'São Paulo',\n",
              " 'pais': 'Brasil',\n",
              " 'população_milhoes': 12.18}"
            ]
          },
          "metadata": {},
          "execution_count": 70
        }
      ]
    },
    {
      "cell_type": "code",
      "metadata": {
        "colab": {
          "base_uri": "https://localhost:8080/"
        },
        "id": "KflLjDUaANx0",
        "outputId": "7cadf0d6-7e5d-4f36-8f5c-9ed11100b102"
      },
      "source": [
        "dados_cidade['nome']\n",
        "dados_cidade "
      ],
      "execution_count": 71,
      "outputs": [
        {
          "output_type": "execute_result",
          "data": {
            "text/plain": [
              "{'area_km2': 1521,\n",
              " 'estado': 'São Paulo',\n",
              " 'nome': 'São Paulo',\n",
              " 'pais': 'Brasil',\n",
              " 'população_milhoes': 12.18}"
            ]
          },
          "metadata": {},
          "execution_count": 71
        }
      ]
    },
    {
      "cell_type": "code",
      "metadata": {
        "colab": {
          "base_uri": "https://localhost:8080/"
        },
        "id": "tjl_6eqqAj22",
        "outputId": "207ddabc-f86d-4422-e92c-4e122b83d633"
      },
      "source": [
        "dados_cidade['area_km2'] = 1500\n",
        "dados_cidade "
      ],
      "execution_count": 72,
      "outputs": [
        {
          "output_type": "execute_result",
          "data": {
            "text/plain": [
              "{'area_km2': 1500,\n",
              " 'estado': 'São Paulo',\n",
              " 'nome': 'São Paulo',\n",
              " 'pais': 'Brasil',\n",
              " 'população_milhoes': 12.18}"
            ]
          },
          "metadata": {},
          "execution_count": 72
        }
      ]
    },
    {
      "cell_type": "code",
      "metadata": {
        "colab": {
          "base_uri": "https://localhost:8080/"
        },
        "id": "GcRsr-F8BkUm",
        "outputId": "3073c5ea-97f7-490d-e034-4ceb411a3d8a"
      },
      "source": [
        "dados_cidade_2 = dados_cidade\n",
        "dados_cidade_2['nome'] ='Santos'\n",
        "dados_cidade"
      ],
      "execution_count": 73,
      "outputs": [
        {
          "output_type": "execute_result",
          "data": {
            "text/plain": [
              "{'area_km2': 1500,\n",
              " 'estado': 'São Paulo',\n",
              " 'nome': 'Santos',\n",
              " 'pais': 'Brasil',\n",
              " 'população_milhoes': 12.18}"
            ]
          },
          "metadata": {},
          "execution_count": 73
        }
      ]
    },
    {
      "cell_type": "code",
      "metadata": {
        "colab": {
          "base_uri": "https://localhost:8080/"
        },
        "id": "Aw-iNqneB0UG",
        "outputId": "bc18e395-b255-4030-ce68-0289dd4469fe"
      },
      "source": [
        "dados_cidade_3 = dados_cidade.copy\n",
        "dados_cidade_3"
      ],
      "execution_count": 74,
      "outputs": [
        {
          "output_type": "execute_result",
          "data": {
            "text/plain": [
              "<function dict.copy>"
            ]
          },
          "metadata": {},
          "execution_count": 74
        }
      ]
    },
    {
      "cell_type": "code",
      "metadata": {
        "colab": {
          "base_uri": "https://localhost:8080/"
        },
        "id": "OCeE2k_zBwU3",
        "outputId": "0526cb05-c2bc-4ac4-d3f5-0c416bdc68c0"
      },
      "source": [
        "dados_cidade_3['estado'] :'Rio de Janeiro'\n",
        "dados_cidade_3"
      ],
      "execution_count": 75,
      "outputs": [
        {
          "output_type": "execute_result",
          "data": {
            "text/plain": [
              "<function dict.copy>"
            ]
          },
          "metadata": {},
          "execution_count": 75
        }
      ]
    },
    {
      "cell_type": "code",
      "metadata": {
        "id": "iLyBkMhFCYZ2"
      },
      "source": [
        "novos_dados = {\n",
        "    'população_milhoes': 15,\n",
        "    'fundacao':'25/01/1554'\n",
        "    }"
      ],
      "execution_count": 76,
      "outputs": []
    },
    {
      "cell_type": "code",
      "metadata": {
        "colab": {
          "base_uri": "https://localhost:8080/"
        },
        "id": "q2RsF00CGQkR",
        "outputId": "1be396fe-528e-42dc-eb04-33c5e49e844e"
      },
      "source": [
        "dados_cidade.update(novos_dados)\n",
        "dados_cidade"
      ],
      "execution_count": 77,
      "outputs": [
        {
          "output_type": "execute_result",
          "data": {
            "text/plain": [
              "{'area_km2': 1500,\n",
              " 'estado': 'São Paulo',\n",
              " 'fundacao': '25/01/1554',\n",
              " 'nome': 'Santos',\n",
              " 'pais': 'Brasil',\n",
              " 'população_milhoes': 15}"
            ]
          },
          "metadata": {},
          "execution_count": 77
        }
      ]
    },
    {
      "cell_type": "code",
      "metadata": {
        "id": "t5WwcmAbGSs_"
      },
      "source": [
        "## dados_cidade['prefeito'] esse trecho do código apresenta um erro!!!!!"
      ],
      "execution_count": 78,
      "outputs": []
    },
    {
      "cell_type": "code",
      "metadata": {
        "colab": {
          "base_uri": "https://localhost:8080/"
        },
        "id": "D1cwq5K0KGrZ",
        "outputId": "c9138a64-5f06-4422-90df-bfd3ac016bb0"
      },
      "source": [
        "print(dados_cidade.get('prefeito'))"
      ],
      "execution_count": 79,
      "outputs": [
        {
          "output_type": "stream",
          "name": "stdout",
          "text": [
            "None\n"
          ]
        }
      ]
    },
    {
      "cell_type": "code",
      "metadata": {
        "id": "SbXRnRTUKd9y",
        "colab": {
          "base_uri": "https://localhost:8080/"
        },
        "outputId": "afb28887-e059-4cfc-9a43-9364565bd72a"
      },
      "source": [
        "print(dados_cidade.keys()) #retorna uma lista de chaves de um dicionário\n",
        "print('---------------')\n",
        "print(dados_cidade.values())#retorna uma lista de valores de um dicionário\n",
        "print('---------------')\n",
        "print(dados_cidade.items())#retorna uma lista de tuplas (chave,valor) de um dicionário\n"
      ],
      "execution_count": 80,
      "outputs": [
        {
          "output_type": "stream",
          "name": "stdout",
          "text": [
            "dict_keys(['nome', 'estado', 'area_km2', 'população_milhoes', 'pais', 'fundacao'])\n",
            "---------------\n",
            "dict_values(['Santos', 'São Paulo', 1500, 15, 'Brasil', '25/01/1554'])\n",
            "---------------\n",
            "dict_items([('nome', 'Santos'), ('estado', 'São Paulo'), ('area_km2', 1500), ('população_milhoes', 15), ('pais', 'Brasil'), ('fundacao', '25/01/1554')])\n"
          ]
        }
      ]
    },
    {
      "cell_type": "markdown",
      "metadata": {
        "id": "XGKKmNMvi1j1"
      },
      "source": [
        "## `registroDoConteúdo`\n",
        "---\n",
        "> Dicionários\n",
        "\n",
        "`Um dicionário é uma coleção, assim como as listas e as tuplas. Porém, enquanto as tuplas eram indexadas por um índice, os dicionários são indexados por chaves. Todo elemento em um dicionário possui uma chave e um valor. Chaves tipicamente são strings, valores podem ser qualquer tipo de dado.`"
      ]
    },
    {
      "cell_type": "code",
      "metadata": {
        "colab": {
          "base_uri": "https://localhost:8080/"
        },
        "id": "GJd1-j3yi9D1",
        "outputId": "194a6f09-05f4-4c34-b989-4bc2c25051a2"
      },
      "source": [
        "# O dicionário é definido pelos símbolos { e }\n",
        "\n",
        "dicionario = {}\n",
        "\n",
        "# O dicionário não possui um \"append\".\n",
        "# Adicionamos valores diretamente:\n",
        "\n",
        "dicionario['cat'] = 'gato'\n",
        "dicionario['dog'] = 'cachorro'\n",
        "dicionario['mouse'] = 'rato'\n",
        "\n",
        "print(dicionario)\n",
        "print(type(dicionario))\n",
        "\n",
        "'''\n",
        "Saída:\n",
        "{'cat': 'gato', 'dog': 'cachorro', 'mouse': 'rato'}\n",
        "<class 'dict'>\n",
        "'''\n",
        "\n",
        "# Dicionários, assim como as listas, são mutáveis:\n",
        "dicionario['dog'] = 'cão'\n",
        "print(dicionario)\n",
        "# Saída: {'cat': 'gato', 'dog': 'cão', 'mouse': 'rato'}\n",
        "\n",
        "# Podemos criar o dicionário diretamente também:\n",
        "dicionario2 = {'Curso': 'Python Pro', 'Linguagem':'Python', 'Módulo':2}\n",
        "print(dicionario2)\n",
        "# Saída: {'Curso': 'Python Pro', 'Linguagem': 'Python', 'Módulo': 2}\n",
        "\n",
        "# Podemos utilizar o operador \"in\" para verificar se uma chave existe:\n",
        "if 'cat' in dicionario:\n",
        "    print('cat existe!') # Sim\n",
        "if 'bird' in dicionario:\n",
        "    print('bird existe!') # Não\n",
        "if 'gato' in dicionario:\n",
        "    print('gato existe!') # Não\n",
        "\n",
        "##'''\n",
        "##Também podemos utilizar as funções .keys() e .values() para obter listas\n",
        "##com apenas as chaves ou apenas os valores do dicionário.\n",
        "##'''\n",
        "chaves = dicionario.keys()\n",
        "print(chaves)\n",
        "# Saída: dict_keys(['cat', 'dog', 'mouse'])\n",
        "\n",
        "valores = dicionario.values()\n",
        "print(valores)\n",
        "# Saída:dict_values(['gato', 'cão', 'rato'])\n",
        "\n",
        "# Já a função .items(), retorna uma lista de tuplas (chave, valor) de um dicionário\n",
        "\n",
        "itens = dicionario.items()\n",
        "print(itens)\n",
        "# Saída:dict_items([('cat', 'gato'), ('dog', 'cão'), ('mouse', 'rato')])"
      ],
      "execution_count": 81,
      "outputs": [
        {
          "output_type": "stream",
          "name": "stdout",
          "text": [
            "{'cat': 'gato', 'dog': 'cachorro', 'mouse': 'rato'}\n",
            "<class 'dict'>\n",
            "{'cat': 'gato', 'dog': 'cão', 'mouse': 'rato'}\n",
            "{'Curso': 'Python Pro', 'Linguagem': 'Python', 'Módulo': 2}\n",
            "cat existe!\n",
            "dict_keys(['cat', 'dog', 'mouse'])\n",
            "dict_values(['gato', 'cão', 'rato'])\n",
            "dict_items([('cat', 'gato'), ('dog', 'cão'), ('mouse', 'rato')])\n"
          ]
        }
      ]
    },
    {
      "cell_type": "markdown",
      "metadata": {
        "id": "BIDogn9aMii0"
      },
      "source": [
        "##Aula 05 - Estruturas de Repetição - For"
      ]
    },
    {
      "cell_type": "markdown",
      "metadata": {
        "id": "sewVLRpEjJx8"
      },
      "source": [
        "### `Anotações da aula`"
      ]
    },
    {
      "cell_type": "code",
      "metadata": {
        "id": "P5SsiQHNMkPz",
        "colab": {
          "base_uri": "https://localhost:8080/"
        },
        "outputId": "e19030c7-e4f4-416a-daa1-481f46c83e47"
      },
      "source": [
        "nomes_cidades = ['São Paulo','Londres', 'Tóquio','Paris']\n",
        "for nome in nomes_cidades:\n",
        "\tprint(nome)"
      ],
      "execution_count": 82,
      "outputs": [
        {
          "output_type": "stream",
          "name": "stdout",
          "text": [
            "São Paulo\n",
            "Londres\n",
            "Tóquio\n",
            "Paris\n"
          ]
        }
      ]
    },
    {
      "cell_type": "code",
      "metadata": {
        "colab": {
          "base_uri": "https://localhost:8080/"
        },
        "id": "dWWaAgRAOiiK",
        "outputId": "bcb81b12-8dfb-480b-e756-39e08fadb0de"
      },
      "source": [
        "contador = 0\n",
        "nomes_cidades = ['São Paulo','Londres', 'Tóquio','Paris']\n",
        "while contador < len(nomes_cidades):\n",
        "  print(nomes_cidades[contador])\n",
        "  contador = contador + 1"
      ],
      "execution_count": 83,
      "outputs": [
        {
          "output_type": "stream",
          "name": "stdout",
          "text": [
            "São Paulo\n",
            "Londres\n",
            "Tóquio\n",
            "Paris\n"
          ]
        }
      ]
    },
    {
      "cell_type": "code",
      "metadata": {
        "colab": {
          "base_uri": "https://localhost:8080/"
        },
        "id": "enl7nVx3Op34",
        "outputId": "c0a17cb0-8482-4f4d-b3c5-abbfd97eb27d"
      },
      "source": [
        "nomes_cidades = 'São Paulo','Londres', 'Tóquio','Paris'\n",
        "for nome in nomes_cidades:\n",
        "  print(nome)"
      ],
      "execution_count": 84,
      "outputs": [
        {
          "output_type": "stream",
          "name": "stdout",
          "text": [
            "São Paulo\n",
            "Londres\n",
            "Tóquio\n",
            "Paris\n"
          ]
        }
      ]
    },
    {
      "cell_type": "code",
      "metadata": {
        "colab": {
          "base_uri": "https://localhost:8080/"
        },
        "id": "gvpnm89nOeJk",
        "outputId": "11d8e0c9-c5fc-4765-a887-4617510f791c"
      },
      "source": [
        "cidade = {\n",
        "    'nome': 'São Paulo',\n",
        "    'estação': 'São Paulo',\n",
        "    'populacao_milhoes': 12.2\n",
        "\t}\n",
        "for chave in cidade:\n",
        "  print(f'{chave}: {cidade[chave]}')"
      ],
      "execution_count": 85,
      "outputs": [
        {
          "output_type": "stream",
          "name": "stdout",
          "text": [
            "nome: São Paulo\n",
            "estação: São Paulo\n",
            "populacao_milhoes: 12.2\n"
          ]
        }
      ]
    },
    {
      "cell_type": "code",
      "metadata": {
        "colab": {
          "base_uri": "https://localhost:8080/"
        },
        "id": "Ip9DWFYWP9ec",
        "outputId": "33f6a4d2-0f81-40b4-b1f0-fbaf787e30ae"
      },
      "source": [
        "nomes_cidades = ['São Paulo','Londres', 'Tóquio','Paris']\n",
        "for nome in nomes_cidades:\n",
        "\tnome = 'Rio de Janeiro'\n",
        "print(nomes_cidades)"
      ],
      "execution_count": 86,
      "outputs": [
        {
          "output_type": "stream",
          "name": "stdout",
          "text": [
            "['São Paulo', 'Londres', 'Tóquio', 'Paris']\n"
          ]
        }
      ]
    },
    {
      "cell_type": "code",
      "metadata": {
        "colab": {
          "base_uri": "https://localhost:8080/"
        },
        "id": "m93gpcxoQucT",
        "outputId": "823fb82c-3e7d-404e-c425-17977e70dea2"
      },
      "source": [
        "for posicao in range(len(nomes_cidades)):\n",
        "  print(posicao)"
      ],
      "execution_count": 87,
      "outputs": [
        {
          "output_type": "stream",
          "name": "stdout",
          "text": [
            "0\n",
            "1\n",
            "2\n",
            "3\n"
          ]
        }
      ]
    },
    {
      "cell_type": "code",
      "metadata": {
        "colab": {
          "base_uri": "https://localhost:8080/"
        },
        "id": "Dx9kE4HZQyZO",
        "outputId": "4b3e234a-70af-49a5-80c8-ed103c55f09e"
      },
      "source": [
        "for posicao in range(len(nomes_cidades)):\n",
        "  nomes_cidades[posicao] = 'Rio de Janeiro'\n",
        "print(nomes_cidades)"
      ],
      "execution_count": 88,
      "outputs": [
        {
          "output_type": "stream",
          "name": "stdout",
          "text": [
            "['Rio de Janeiro', 'Rio de Janeiro', 'Rio de Janeiro', 'Rio de Janeiro']\n"
          ]
        }
      ]
    },
    {
      "cell_type": "code",
      "metadata": {
        "colab": {
          "base_uri": "https://localhost:8080/"
        },
        "id": "osDIyWkxRf49",
        "outputId": "ce3aa12e-5e51-4b01-9e72-b349c22e4b0c"
      },
      "source": [
        "print(list(range(10)))\n",
        "print(list(range(2,10)))\n",
        "print(list(range(2,10,2)))"
      ],
      "execution_count": 89,
      "outputs": [
        {
          "output_type": "stream",
          "name": "stdout",
          "text": [
            "[0, 1, 2, 3, 4, 5, 6, 7, 8, 9]\n",
            "[2, 3, 4, 5, 6, 7, 8, 9]\n",
            "[2, 4, 6, 8]\n"
          ]
        }
      ]
    },
    {
      "cell_type": "markdown",
      "metadata": {
        "id": "9G916qcyjP_2"
      },
      "source": [
        "## `registroDoConteúdo`\n",
        "---\n",
        "> Percorrendo coleções\n",
        "\n",
        "`O for é um tipo especial de loop feito para percorrer elementos de uma coleção. Acima vimos exemplos usando um while e um contador para percorrer uma lista. O for elimina a necessidade de inicializarmos um contador, incrementarmos e verificar a condição de parada. Sintaxe:`"
      ]
    },
    {
      "cell_type": "code",
      "metadata": {
        "colab": {
          "base_uri": "https://localhost:8080/",
          "height": 129
        },
        "id": "tRwDmRE7jWmS",
        "outputId": "34926984-997f-43b4-b41e-2ac92eea479f"
      },
      "source": [
        "for (variável temporária) in (lista):\n",
        "    # instruções...\n",
        "    # ..."
      ],
      "execution_count": 91,
      "outputs": [
        {
          "output_type": "error",
          "ename": "SyntaxError",
          "evalue": "ignored",
          "traceback": [
            "\u001b[0;36m  File \u001b[0;32m\"<ipython-input-91-a49f7c00b5c8>\"\u001b[0;36m, line \u001b[0;32m1\u001b[0m\n\u001b[0;31m    for (variável temporaria) in (lista):\u001b[0m\n\u001b[0m                           ^\u001b[0m\n\u001b[0;31mSyntaxError\u001b[0m\u001b[0;31m:\u001b[0m invalid syntax\n"
          ]
        }
      ]
    },
    {
      "cell_type": "markdown",
      "metadata": {
        "id": "JynXz_3UjYph"
      },
      "source": [
        "`O for se repete uma vez para cada elemento da lista. A cada repetição, a variável temporária assume o valor de um elemento da lista, na ordem da lista.`"
      ]
    },
    {
      "cell_type": "code",
      "metadata": {
        "colab": {
          "base_uri": "https://localhost:8080/"
        },
        "id": "upR1wr-bjcc4",
        "outputId": "19560368-16c2-43a4-ccff-2f41bc5ee95a"
      },
      "source": [
        "fib = [1, 1, 2, 3, 5, 8, 13]\n",
        "for elemento in fib:\n",
        "    print(elemento)"
      ],
      "execution_count": 93,
      "outputs": [
        {
          "output_type": "stream",
          "name": "stdout",
          "text": [
            "1\n",
            "1\n",
            "2\n",
            "3\n",
            "5\n",
            "8\n",
            "13\n"
          ]
        }
      ]
    },
    {
      "cell_type": "markdown",
      "metadata": {
        "id": "C0vIKz_9je-E"
      },
      "source": [
        "\n",
        "---\n",
        "> Percorrendo sequências numéricas\n",
        "\n",
        "`O for pode ser usado, junto com a função range(), para gerar sequências numéricas e contagens. Existem 3 meios de usar o range(): especificando 1, 2 ou 3 parâmetros.`"
      ]
    },
    {
      "cell_type": "code",
      "metadata": {
        "colab": {
          "base_uri": "https://localhost:8080/"
        },
        "id": "uIOhcPt5jpIA",
        "outputId": "4be6f152-fb1e-45d8-e3d5-cbc278e09afc"
      },
      "source": [
        "# Com 1 parâmetro, ele será interpretado como valor final (exclusivo).\n",
        "# O valor inicial será 0 e o incremento será 1.\n",
        "\n",
        "for numero in range(10):\n",
        "    print(numero)\n",
        "    # este exemplo imprime os números de 0 a 9, de um em um\n",
        "\n",
        "# Com 2 parâmetros, o primeiro será o valor inicial (inclusivo) e o\n",
        "# segundo será o final (exclusivo).\n",
        "# O incremento continuará sendo 1.\n",
        "\n",
        "for numero in range(1,11):\n",
        "    print(numero)\n",
        "    # este exemplo imprime os números de 1 a 10, de um em um\n",
        "\n",
        "# Com 3 parâmetros, o terceiro será interpretado como incremento.\n",
        "for numero in range(1,20,2):\n",
        "    print(numero)\n",
        "    # este exemplo imprime os ímpares positivos menores do que 20\n",
        "    # ele começa valendo 1 e salta de 2 em 2 até atingir ou passar 20\n",
        "\n",
        "# O incremento pode ser também um decremento (incremento negativo).\n",
        "for numero in range (10,0,-1):\n",
        "    print(numero)\n",
        "    #Imprimindo os números de 1 a 10 em ordem decrescente"
      ],
      "execution_count": 94,
      "outputs": [
        {
          "output_type": "stream",
          "name": "stdout",
          "text": [
            "0\n",
            "1\n",
            "2\n",
            "3\n",
            "4\n",
            "5\n",
            "6\n",
            "7\n",
            "8\n",
            "9\n",
            "1\n",
            "2\n",
            "3\n",
            "4\n",
            "5\n",
            "6\n",
            "7\n",
            "8\n",
            "9\n",
            "10\n",
            "1\n",
            "3\n",
            "5\n",
            "7\n",
            "9\n",
            "11\n",
            "13\n",
            "15\n",
            "17\n",
            "19\n",
            "10\n",
            "9\n",
            "8\n",
            "7\n",
            "6\n",
            "5\n",
            "4\n",
            "3\n",
            "2\n",
            "1\n"
          ]
        }
      ]
    },
    {
      "cell_type": "markdown",
      "metadata": {
        "id": "md1edhMRRyuj"
      },
      "source": [
        "##Aula 06 - Funções I"
      ]
    },
    {
      "cell_type": "markdown",
      "metadata": {
        "id": "wWqx6PY4jt6K"
      },
      "source": [
        "### `Anotações da aula`"
      ]
    },
    {
      "cell_type": "code",
      "metadata": {
        "id": "R70PAU0QSanI"
      },
      "source": [
        "def hello():\n",
        "  print('Olá, mundo!')"
      ],
      "execution_count": 95,
      "outputs": []
    },
    {
      "cell_type": "code",
      "metadata": {
        "colab": {
          "base_uri": "https://localhost:8080/"
        },
        "id": "h4_OXFg4TFcJ",
        "outputId": "6e4607a7-10fa-4f41-9437-3115f4ec2f6f"
      },
      "source": [
        "hello()"
      ],
      "execution_count": 96,
      "outputs": [
        {
          "output_type": "stream",
          "name": "stdout",
          "text": [
            "Olá, mundo!\n"
          ]
        }
      ]
    },
    {
      "cell_type": "code",
      "metadata": {
        "id": "oKSakvrLTG28"
      },
      "source": [
        "def calcula_media(valor1,valor2, valor3):\n",
        "  soma = valor1 + valor2 + valor3\n",
        "  media = soma/3\n",
        "  return media"
      ],
      "execution_count": 97,
      "outputs": []
    },
    {
      "cell_type": "code",
      "metadata": {
        "colab": {
          "base_uri": "https://localhost:8080/"
        },
        "id": "7SwFZtGSTKcG",
        "outputId": "d42affbb-cd39-4a47-9352-427a765c32c4"
      },
      "source": [
        "resultado = calcula_media(9,10,8)\n",
        "print(resultado)"
      ],
      "execution_count": 98,
      "outputs": [
        {
          "output_type": "stream",
          "name": "stdout",
          "text": [
            "9.0\n"
          ]
        }
      ]
    },
    {
      "cell_type": "code",
      "metadata": {
        "colab": {
          "base_uri": "https://localhost:8080/"
        },
        "id": "zG4gHMgiTf9_",
        "outputId": "1ff4e83e-14c3-440d-959b-d59e943a5f1d"
      },
      "source": [
        "resultado = calcula_media(valor1=9, valor2=10,valor3=9)\n",
        "print(resultado)\n"
      ],
      "execution_count": 99,
      "outputs": [
        {
          "output_type": "stream",
          "name": "stdout",
          "text": [
            "9.333333333333334\n"
          ]
        }
      ]
    },
    {
      "cell_type": "code",
      "metadata": {
        "colab": {
          "base_uri": "https://localhost:8080/"
        },
        "id": "mHjoAadWTz4d",
        "outputId": "d256ac51-b869-44fb-e4ca-f64fda9faa2d"
      },
      "source": [
        "print('Olá', end = ' ')\n",
        "print(', Brito')"
      ],
      "execution_count": 100,
      "outputs": [
        {
          "output_type": "stream",
          "name": "stdout",
          "text": [
            "Olá , Brito\n"
          ]
        }
      ]
    },
    {
      "cell_type": "code",
      "metadata": {
        "id": "WQwgzqHZUE91",
        "colab": {
          "base_uri": "https://localhost:8080/"
        },
        "outputId": "9571cfdd-f78e-4114-912d-39c0abd15309"
      },
      "source": [
        "def calcula_media(valor1,valor2, valor3):\n",
        "  soma = valor1 + valor2 + valor3\n",
        "  media = soma / 3\n",
        "  return media\n",
        "  resultado = calcula_media()\n",
        "print(resultado)"
      ],
      "execution_count": 103,
      "outputs": [
        {
          "output_type": "stream",
          "name": "stdout",
          "text": [
            "9.333333333333334\n"
          ]
        }
      ]
    },
    {
      "cell_type": "markdown",
      "metadata": {
        "id": "0OCiNkQij5r9"
      },
      "source": [
        "## `registroDoConteúdo`\n",
        "---\n",
        "> Funções\n",
        "\n",
        "`Funções são uma espécie de \"subprograma\". Elas são como pequenos pedacinhos de programa que podem ser chamadas pelo nome. Para criar uma função usamos o comando \"def\" e o nome da função. Elas são um bloco de comando assim como if/elif/else, while e for.`"
      ]
    },
    {
      "cell_type": "code",
      "metadata": {
        "id": "aLGVnK8nkAgR"
      },
      "source": [
        "def hello():\n",
        "    print(\"Olá, mundo!\")"
      ],
      "execution_count": 105,
      "outputs": []
    },
    {
      "cell_type": "markdown",
      "metadata": {
        "id": "GaQ_E2mykC5V"
      },
      "source": [
        "`Quando uma função é chamada pelo nome, o fluxo do programa é interrompido. Em seguida, a função inteira é executada, e ao final dela, o programa volta a ser executado do mesmo ponto que parou.`"
      ]
    },
    {
      "cell_type": "code",
      "metadata": {
        "colab": {
          "base_uri": "https://localhost:8080/"
        },
        "id": "kV-vgjnFkGW5",
        "outputId": "f92892fc-88e4-424d-ef55-5a16fd1c261e"
      },
      "source": [
        "hello()\n",
        "\n",
        "# Saída: Olá, mundo!"
      ],
      "execution_count": 106,
      "outputs": [
        {
          "output_type": "stream",
          "name": "stdout",
          "text": [
            "Olá, mundo!\n"
          ]
        }
      ]
    },
    {
      "cell_type": "markdown",
      "metadata": {
        "id": "6b0eccgXkID4"
      },
      "source": [
        "`É possível passarmos informações para uma função. Chamamos essas informações de \"parâmetros\" ou \"argumentos. Na definição da função, daremos nome a esses parâmetros. Dentro da função, eles serão tratados como se fossem variáveis.`"
      ]
    },
    {
      "cell_type": "code",
      "metadata": {
        "id": "_vZIJ0vtkMV_"
      },
      "source": [
        "def ola(nome):\n",
        "    print(\"Olá\", nome)"
      ],
      "execution_count": 107,
      "outputs": []
    },
    {
      "cell_type": "markdown",
      "metadata": {
        "id": "71WwVRHNkN15"
      },
      "source": [
        "`Ao chamarmos a nossa funcao, passamos os parâmetros entre parênteses. O nome ou valor passado não precisam ser iguais aos declarados na função! O nome do parâmetro interno da função é um \"apelido\" que a função dará para o valor ou variável que passamos.`"
      ]
    },
    {
      "cell_type": "code",
      "metadata": {
        "colab": {
          "base_uri": "https://localhost:8080/"
        },
        "id": "VGnyqOShkSOY",
        "outputId": "ee0392ad-2af9-44d2-d10f-c31689a4fe62"
      },
      "source": [
        "ola(\"Maria\")\n",
        "# Saída: Olá, Maria\n",
        "\n",
        "aluno = \"João\"\n",
        "ola(aluno)\n",
        "# Saída: Olá, João"
      ],
      "execution_count": 108,
      "outputs": [
        {
          "output_type": "stream",
          "name": "stdout",
          "text": [
            "Olá Maria\n",
            "Olá João\n"
          ]
        }
      ]
    },
    {
      "cell_type": "markdown",
      "metadata": {
        "id": "wZvi6etCkSy5"
      },
      "source": [
        "`A função pode receber vários parâmetros separados por vírgula.`\n"
      ]
    },
    {
      "cell_type": "code",
      "metadata": {
        "colab": {
          "base_uri": "https://localhost:8080/"
        },
        "id": "8IgORMWfkXjg",
        "outputId": "93c09744-77e7-4616-a93d-9d5e8f289640"
      },
      "source": [
        "def dadosPessoais(nome, idade, cidade):\n",
        "    print(\"Seu nome é {}, você tem {} anos e mora em {}.\".format(nome, idade, cidade))\n",
        "\n",
        "dadosPessoais(\"José\", 30, \"Maceió\")\n",
        "# Saída: Seu nome é José, você tem 30 anos e mora em Maceió."
      ],
      "execution_count": 109,
      "outputs": [
        {
          "output_type": "stream",
          "name": "stdout",
          "text": [
            "Seu nome é José, você tem 30 anos e mora em Maceió.\n"
          ]
        }
      ]
    },
    {
      "cell_type": "markdown",
      "metadata": {
        "id": "jk3HKvbUkaGt"
      },
      "source": [
        "`Os parâmetros podem ser passados fora de ordem. Porém, para isso precisamos explicitar qual parâmetro estamos passando, para evitar ambiguidade ou erros de interpretação do Python.`"
      ]
    },
    {
      "cell_type": "code",
      "metadata": {
        "colab": {
          "base_uri": "https://localhost:8080/"
        },
        "id": "T_wmUIvMkdFC",
        "outputId": "314031b3-470c-4d16-e504-f3ebac7c22ab"
      },
      "source": [
        "dadosPessoais(idade=56, cidade=\"Florianópolis\", nome=\"Ana\")\n",
        "# Saída: Seu nome é Ana, você tem 56 anos e mora em Florianópolis."
      ],
      "execution_count": 110,
      "outputs": [
        {
          "output_type": "stream",
          "name": "stdout",
          "text": [
            "Seu nome é Ana, você tem 56 anos e mora em Florianópolis.\n"
          ]
        }
      ]
    },
    {
      "cell_type": "markdown",
      "metadata": {
        "id": "3kPmndxwkgtp"
      },
      "source": [
        "---\n",
        "> Funções com resposta\n",
        "\n",
        "`Uma função pode ter uma \"resposta\". Por exemplo, nossa função pode ser uma conta, e o resultado da conta pode ser útil em nosso programa. Dizemos que essas funções \"retornam\" um valor. Utilizamos a palavra \"return\" para fazer uma função retornar sua resposta. Quando uma função retorna um valor, ela pode ser usada em expressões matemáticas ou lógicas, ter seu valor atribuído a uma variável, etc.`"
      ]
    },
    {
      "cell_type": "code",
      "metadata": {
        "colab": {
          "base_uri": "https://localhost:8080/",
          "height": 69
        },
        "id": "zJMiIF-jknYx",
        "outputId": "906c8458-fab4-4114-d0bf-58579690b830"
      },
      "source": [
        "def somatorio(lista):\n",
        "    soma = 0\n",
        "    for item in lista:\n",
        "        soma = soma + item\n",
        "    return soma\n",
        "\n",
        "numeros = [1, 2, 3, 4, 5]\n",
        "soma_dos_numeros = somatorio(numeros)\n",
        "print(\"A soma dos elementos da lista vale: \", soma_dos_numeros)\n",
        "\n",
        "if somatorio(numeros) > 50:\n",
        "    print(\"Que soma grande!\")\n",
        "else:\n",
        "    print(\"Que soma pequena!\")\n",
        "    \n",
        "'''\n",
        "Saída:\n",
        "A soma dos elementos da lista vale:  15\n",
        "Que soma pequena!\n",
        "'''"
      ],
      "execution_count": 111,
      "outputs": [
        {
          "output_type": "stream",
          "name": "stdout",
          "text": [
            "A soma dos elementos da lista vale:  15\n",
            "Que soma pequena!\n"
          ]
        },
        {
          "output_type": "execute_result",
          "data": {
            "application/vnd.google.colaboratory.intrinsic+json": {
              "type": "string"
            },
            "text/plain": [
              "'\\nSaída:\\nA soma dos elementos da lista vale:  15\\nQue soma pequena!\\n'"
            ]
          },
          "metadata": {},
          "execution_count": 111
        }
      ]
    },
    {
      "cell_type": "markdown",
      "metadata": {
        "id": "A2BVmoQ6kpaO"
      },
      "source": [
        "---\n",
        "> Funções recursivas\n",
        "\n",
        "\n",
        "`Algumas funções são chamadas funções recursivas. A recursividade (ou recursão) é uma propriedade na qual uma função faz referência a si mesma. Quando a função encontra uma nova referência, ela irá pausar sua execução atual e iniciar a execução da nova instância, para só então retomar sua execução.`\n",
        "`Assim como nos loops, é necessário ter alguma condição para que as chamadas recursivas sejam interrompidas, evitando que executem para sempre.`"
      ]
    },
    {
      "cell_type": "code",
      "metadata": {
        "colab": {
          "base_uri": "https://localhost:8080/"
        },
        "id": "ZuyoKQTskztV",
        "outputId": "df224be4-1001-471a-b2af-68e463aff247"
      },
      "source": [
        "def funcaoRecursiva(numero):\n",
        "    if (numero != 1):\n",
        "        funcaoRecursiva(numero - 1)\n",
        "    print(numero)\n",
        "\n",
        "print(\"Testando a função recursiva:\")\n",
        "funcaoRecursiva(10)"
      ],
      "execution_count": 112,
      "outputs": [
        {
          "output_type": "stream",
          "name": "stdout",
          "text": [
            "Testando a função recursiva:\n",
            "1\n",
            "2\n",
            "3\n",
            "4\n",
            "5\n",
            "6\n",
            "7\n",
            "8\n",
            "9\n",
            "10\n"
          ]
        }
      ]
    },
    {
      "cell_type": "markdown",
      "metadata": {
        "id": "fk3rHiIQk1V8"
      },
      "source": [
        "`Note que no exemplo acima passamos 10 para a função. Sua execução foi interrompida por uma nova chamada passando 9, depois 8, depois 7... Ao chegar em 1, ele foge da condicional e imprime 1, encerrando a execução. Então a instância que recebeu 2 tambem conclui sua execução, depois a chamada 3, a 4... A 10, que foi a 1a chamada, encerra por último.`\n",
        "\n",
        "`Dizemos que é um comportamento de pilha - exatamente como uma pilha de pratos sobre a mesa: O primeiro prato que foi colocado sobre a mesa será o último a sair, pois todos os pratos colocados sobre ele precisam ser retirados antes de você poder retirar o último.`\n",
        "\n",
        "`Problemas recursivos normalmente são problemas do tipo \"dividir para conquistar\": Temos um \"caso base\", ou seja, um ou mais casos onde há uma resposta direta; E temos um \"caso geral\", que é uma versão reduzida do problema original.`"
      ]
    },
    {
      "cell_type": "markdown",
      "metadata": {
        "id": "u60gH5NgU2nt"
      },
      "source": [
        "##Aula 07 - Funções II"
      ]
    },
    {
      "cell_type": "markdown",
      "metadata": {
        "id": "sXL0w1Flk8XA"
      },
      "source": [
        "### `Anotações da aula`"
      ]
    },
    {
      "cell_type": "code",
      "metadata": {
        "id": "_Ys3ntQNWHUQ"
      },
      "source": [
        "def calcula_media(valor1,valor2, valor3):\n",
        "  soma = valor1 + valor2 + valor3\n",
        "  media = soma/3\n",
        "  return media"
      ],
      "execution_count": 113,
      "outputs": []
    },
    {
      "cell_type": "code",
      "metadata": {
        "id": "PYhFfa6EWJV-"
      },
      "source": [
        "def calcula_medida(*args):\n",
        "  print(args,type(args)) "
      ],
      "execution_count": 114,
      "outputs": []
    },
    {
      "cell_type": "code",
      "metadata": {
        "colab": {
          "base_uri": "https://localhost:8080/"
        },
        "id": "gSdmdWx1Wl0E",
        "outputId": "df1f5156-2ae8-46d3-818b-dbcbef6a7e00"
      },
      "source": [
        "calcula_media(10,9,8)"
      ],
      "execution_count": 115,
      "outputs": [
        {
          "output_type": "execute_result",
          "data": {
            "text/plain": [
              "9.0"
            ]
          },
          "metadata": {},
          "execution_count": 115
        }
      ]
    },
    {
      "cell_type": "code",
      "metadata": {
        "id": "jIzzCEiDX5NV"
      },
      "source": [
        "def calcula_medida(*args):\n",
        "  soma = sum(args)\n",
        "  media = soma/len(args)\n",
        "  return media"
      ],
      "execution_count": 116,
      "outputs": []
    },
    {
      "cell_type": "code",
      "metadata": {
        "colab": {
          "base_uri": "https://localhost:8080/"
        },
        "id": "-GCyNxc9YC6Z",
        "outputId": "e8e19a5e-47d3-44a2-e2a0-aa67fec453f2"
      },
      "source": [
        "calcula_medida(10,8,9, 0.3)"
      ],
      "execution_count": 117,
      "outputs": [
        {
          "output_type": "execute_result",
          "data": {
            "text/plain": [
              "6.825"
            ]
          },
          "metadata": {},
          "execution_count": 117
        }
      ]
    },
    {
      "cell_type": "code",
      "metadata": {
        "id": "Jhr1J9a1YTCl"
      },
      "source": [
        "def print_info(**kwargs):\n",
        "  print(kwargs, type(kwargs))  "
      ],
      "execution_count": 118,
      "outputs": []
    },
    {
      "cell_type": "code",
      "metadata": {
        "colab": {
          "base_uri": "https://localhost:8080/"
        },
        "id": "jyiXDSkwWlvT",
        "outputId": "1ff6e2bc-40e5-4bd5-9961-0bab5a9c5f7a"
      },
      "source": [
        "print_info(nome ='Aelso', sobrenome ='Brito')"
      ],
      "execution_count": 119,
      "outputs": [
        {
          "output_type": "stream",
          "name": "stdout",
          "text": [
            "{'nome': 'Aelso', 'sobrenome': 'Brito'} <class 'dict'>\n"
          ]
        }
      ]
    },
    {
      "cell_type": "markdown",
      "metadata": {
        "id": "sX4nvnH7k_0F"
      },
      "source": [
        "## `registroDoConteúdo`\n",
        "---\n",
        "> Agrupando parâmetros\n",
        "\n",
        "`Podemos utilizar o operador * - que, neste caso, não será uma multiplicação. Ao colocarmos o * ao lado do nome de um parâmetro na definição da função, estamos dizendo que aquele argumento será uma coleção. Mais especificamente, uma tupla. Porém, o usuário não irá passar uma tupla. Ele irá passar quantos argumentos ele quiser, e o Python automaticamente criará uma tupla com eles:`"
      ]
    },
    {
      "cell_type": "code",
      "metadata": {
        "colab": {
          "base_uri": "https://localhost:8080/"
        },
        "id": "9S2eTPVtlH0Y",
        "outputId": "f9998ce7-f52d-4438-c669-d65c43d70b33"
      },
      "source": [
        "def piscina(*infos):\n",
        "    vol = infos[0]*infos[1]*infos[2]\n",
        "    return vol\n",
        "\n",
        "volume = piscina(5, 4, 5)\n",
        "\n",
        "print('O volume é: ', volume)"
      ],
      "execution_count": 120,
      "outputs": [
        {
          "output_type": "stream",
          "name": "stdout",
          "text": [
            "O volume é:  100\n"
          ]
        }
      ]
    },
    {
      "cell_type": "markdown",
      "metadata": {
        "id": "PD7NHe-PlIpf"
      },
      "source": [
        "`Podemos utilizar o operador * na chamada da função também. Na definição, o operador * indica que devemos agrupar itens avulsos em uma coleção. Na chamada, ele indica que uma coleção deve ser expandida em itens avulsos:`\n",
        "\n"
      ]
    },
    {
      "cell_type": "code",
      "metadata": {
        "colab": {
          "base_uri": "https://localhost:8080/"
        },
        "id": "G6EscohalNtP",
        "outputId": "d83ef624-5e20-4c60-c852-d74dded58ce1"
      },
      "source": [
        "def piscina(prof, largura, comprimento):\n",
        "    vol = prof*largura*comprimento\n",
        "    return vol\n",
        "\n",
        "lista = [5, 4, 5]\n",
        "\n",
        "volume = piscina(*lista)\n",
        "\n",
        "print('O volume é: ', volume)"
      ],
      "execution_count": 121,
      "outputs": [
        {
          "output_type": "stream",
          "name": "stdout",
          "text": [
            "O volume é:  100\n"
          ]
        }
      ]
    },
    {
      "cell_type": "markdown",
      "metadata": {
        "id": "TmMmHlh9lQi9"
      },
      "source": [
        "---\n",
        "> Parâmetros opcionais\n",
        "\n",
        "`Outra possibilidade são funções com parâmetros opcionais. Note que isso é diferente de termos quantidade variável de parâmetros. No caso da quantidade variável, normalmente são diversos parâmetros com a mesma utilidade (números a serem somados, valores a serem exibidos etc), enquanto os parâmetros opcionais são informações distintas que podem ou não ser passadas para a função.`\n",
        "\n",
        "`Para criar parâmetros opcionais, usaremos **, e os parâmetros passados serão agrupados em um dicionário: o nome do parâmetro será uma chave, e o valor será... O valor.`"
      ]
    },
    {
      "cell_type": "code",
      "metadata": {
        "colab": {
          "base_uri": "https://localhost:8080/"
        },
        "id": "uLfob9N3lXo3",
        "outputId": "29589fc9-90ed-48e8-d7e0-f3e2f6a04897"
      },
      "source": [
        "def piscina(prof, **infos):\n",
        "    vol = prof*infos['largura']*infos['comprimento']\n",
        "    return vol\n",
        "\n",
        "volume = piscina(5, largura=4, comprimento=5)\n",
        "\n",
        "print('O volume é: ', volume)"
      ],
      "execution_count": 122,
      "outputs": [
        {
          "output_type": "stream",
          "name": "stdout",
          "text": [
            "O volume é:  100\n"
          ]
        }
      ]
    },
    {
      "cell_type": "markdown",
      "metadata": {
        "id": "xGeOSphvlZFH"
      },
      "source": [
        "`Analogamente ao caso dos parâmetros múltiplos, é possível que o usuário da função já tenha os dados organizados em um dicionário. Neste caso, basta usar ** na chamada da função para expandir o dicionário em vários parâmetros opcionais:`"
      ]
    },
    {
      "cell_type": "code",
      "metadata": {
        "colab": {
          "base_uri": "https://localhost:8080/"
        },
        "id": "N6aS6wCHlcUq",
        "outputId": "9bc9bd97-2ce7-4864-be93-66de964acb3a"
      },
      "source": [
        "def piscina(prof, largura=4, comprimento=5):\n",
        "    vol = prof*largura*comprimento\n",
        "    return vol\n",
        "\n",
        "infos = {'largura': 10, 'comprimento': 20}\n",
        "\n",
        "volume = piscina(5, **infos)\n",
        "\n",
        "print('O volume é: ', volume)"
      ],
      "execution_count": 123,
      "outputs": [
        {
          "output_type": "stream",
          "name": "stdout",
          "text": [
            "O volume é:  1000\n"
          ]
        }
      ]
    }
  ]
}